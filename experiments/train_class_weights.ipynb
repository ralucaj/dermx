{
 "cells": [
  {
   "cell_type": "code",
   "execution_count": 1,
   "metadata": {},
   "outputs": [],
   "source": [
    "import os\n",
    "import sys\n",
    "import cv2\n",
    "import numpy as np\n",
    "import pandas as pd\n",
    "from time import time\n",
    "from pathlib import Path\n",
    "from collections import defaultdict\n",
    "\n",
    "# Torch and Torchvision\n",
    "import torch\n",
    "from torch.utils.data import DataLoader\n",
    "from torchvision import transforms as T\n",
    "from torch.utils.tensorboard import SummaryWriter\n",
    "\n",
    "# Own functions and logging of git state\n",
    "repo_path = \"/home/ubuntu/source/dermx-experiments/\"\n",
    "sys.path.append(repo_path)\n",
    "from dermx.utils import make_dir, save_json, create_and_save_class_map, get_git_info\n",
    "from dermx.models import DermXModelGuidedAttention\n",
    "from dermx.model_utils import freeze_layers\n",
    "from dermx.datasets import DermXAttnDataset\n",
    "from dermx.train_utils import (\n",
    "    iterate_through_attn_dataloader,\n",
    "    print_history_result,\n",
    "    str_optimizer_map,\n",
    "    str_scheduler_map,\n",
    ")\n",
    "from dermx.losses import str_loss_map"
   ]
  },
  {
   "cell_type": "markdown",
   "metadata": {},
   "source": [
    "## Hyperparameters"
   ]
  },
  {
   "cell_type": "code",
   "execution_count": 2,
   "metadata": {},
   "outputs": [],
   "source": [
    "diagnoses = [\n",
    "    \"Acne\",\n",
    "    \"Actinic keratosis\",\n",
    "    \"Psoriasis\",\n",
    "    \"Seborrheic dermatitis\",\n",
    "    \"Viral warts\",\n",
    "    \"Vitiligo\",\n",
    "]\n",
    "characteristics = [\n",
    "    \"Plaque\",\n",
    "    \"Papule\",\n",
    "    \"Dermatoglyph disruption\",\n",
    "    \"Pustule\",\n",
    "    \"Scar\",\n",
    "    \"Closed comedo\",\n",
    "    \"Open comedo\",\n",
    "    \"Patch\",\n",
    "    \"Sun damage\",\n",
    "    \"Scale\",\n",
    "    # \"Macule\",\n",
    "    # \"Thrombosed capillaries\",\n",
    "    # \"Telangiectasia\",\n",
    "    # \"Nodule\",\n",
    "    # \"Cyst\",\n",
    "    # \"Leukotrichia\",\n",
    "]\n",
    "diagnoses.sort()\n",
    "characteristics.sort()\n",
    "\n",
    "hps = {\n",
    "    # Model\n",
    "    \"backbone_name\": \"efficientnet_b2\",\n",
    "    \"use_pretrained\": True,\n",
    "    \"freeze\": False,\n",
    "    \"unfreeze_layers\": [],\n",
    "    \"unfreeze_bn_layers\": True,\n",
    "    \"num_units_in_dx_clf\": 64,\n",
    "    \"num_units_in_cx_clf\": 64,\n",
    "    \"dropout\": 0.2,\n",
    "    \"use_skip_connection\": True,\n",
    "    \"use_downsampled_masks\": False,\n",
    "    \"use_batchnorm\": False,\n",
    "    \"return_gradcam_attributes\": True,\n",
    "    # Training, loss and optimizer\n",
    "    \"loss\": {\"dx\": \"ce\", \"cx\": \"bce\", \"attn\": \"softsesp\"},\n",
    "    \"loss_factors\": {\"dx\": 1.0, \"cx\": 0.0, \"attn\": 0.0},\n",
    "    \"loss_kwargs\": {\"dx\": {}, \"cx\": {}, \"attn\": {\"activation\": None}},\n",
    "    \"class_weights\": {\"dx\": None, \"cx\": None, \"attn\": None},\n",
    "    \"optimizer\": \"adamw\",\n",
    "    \"optimizer_kwargs\": {},\n",
    "    \"learning_rate\": 0.0005,\n",
    "    \"lr_scheduler\": \"cosine_annealing_warm_restarts\",\n",
    "    \"lr_scheduler_kwargs\": {\"T_0\": 3, \"T_mult\": 3, \"eta_min\": 1e-5},\n",
    "    \"batch_size\": 32,\n",
    "    \"dataaug_color_jitter_kwargs\": {\n",
    "        \"brightness\": 0.35,\n",
    "        \"contrast\": 0.2,\n",
    "        \"saturation\": 0.2,\n",
    "        \"hue\": 0.15,\n",
    "    },\n",
    "    \"dataaug_random_affine_kwargs\": {\n",
    "        \"degrees\": 10,\n",
    "        \"scale\": (0.85, 1.15),\n",
    "        \"translate\": (0.15, 0.15),\n",
    "    },\n",
    "    # Data\n",
    "    # \"target_size\": (256, 256),\n",
    "    \"diagnoses\": diagnoses,\n",
    "    \"characteristics\": characteristics,\n",
    "    \"num_segm_classes\": len(characteristics),\n",
    "    \"num_dx_classes\": len(diagnoses),\n",
    "    \"norm_mean\": [0.485, 0.456, 0.406],\n",
    "    \"norm_std\": [0.229, 0.224, 0.225],\n",
    "    # IO\n",
    "    \"experiment_root_dir\": \"/home/ubuntu/store/MedIA/experiments_rebuttal/class_weights\",\n",
    "    \"label_map_dir\": \"/home/ubuntu/store/dermx-folds\",\n",
    "    \"image_dir\": \"/home/ubuntu/store/dermx_cleaned_images\",\n",
    "    \"mask_dir\": \"/home/ubuntu/store/dermx_cleaned_masks/fusion_masks\",\n",
    "    \"mask_label_fusion_rule\": \"fuzzy_relative\",\n",
    "    \"checkpoint_metric\": \"loss\",\n",
    "    \"git\": get_git_info(repo_path),\n",
    "}\n",
    "\n",
    "# Set parameters according to backbones\n",
    "if hps[\"backbone_name\"] == \"efficientnet_b0\":\n",
    "    hps[\"gradcam_target_layer\"] = \"backbone.blocks.6.0.conv_pwl\"\n",
    "    hps[\"target_size\"] = (224, 224)\n",
    "    hps[\"mask_downsample_size\"] = (7, 7) if hps[\"use_downsampled_masks\"] else None\n",
    "elif hps[\"backbone_name\"] == \"efficientnet_b1\":\n",
    "    hps[\"gradcam_target_layer\"] = \"backbone.blocks.6.1.conv_pwl\"\n",
    "    hps[\"target_size\"] = (240, 240)\n",
    "    hps[\"mask_downsample_size\"] = (8, 8) if hps[\"use_downsampled_masks\"] else None\n",
    "elif hps[\"backbone_name\"] == \"efficientnet_b2\":\n",
    "    hps[\"gradcam_target_layer\"] = \"backbone.blocks.6.1.conv_pwl\"\n",
    "    hps[\"target_size\"] = (260, 260)\n",
    "    hps[\"mask_downsample_size\"] = (9, 9) if hps[\"use_downsampled_masks\"] else None\n",
    "elif hps[\"backbone_name\"] == \"resnet50\":\n",
    "    hps[\"gradcam_target_layer\"] = \"backbone.layer4.2.conv3\"\n",
    "    hps[\"target_size\"] = (256, 256)\n",
    "    hps[\"mask_downsample_size\"] = (9, 9) if hps[\"use_downsampled_masks\"] else None\n",
    "\n",
    "# Calculate number of epochs\n",
    "if hps[\"lr_scheduler\"] == \"cosine_annealing_warm_restarts\":\n",
    "    num_lr_scheduler_cycles = 4\n",
    "    hps[\"num_epochs\"] = sum(\n",
    "        hps[\"lr_scheduler_kwargs\"][\"T_0\"]\n",
    "        * hps[\"lr_scheduler_kwargs\"][\"T_mult\"] ** cycle_idx\n",
    "        for cycle_idx in range(num_lr_scheduler_cycles)\n",
    "    )"
   ]
  },
  {
   "cell_type": "markdown",
   "metadata": {},
   "source": [
    "## Experiment directories"
   ]
  },
  {
   "cell_type": "code",
   "execution_count": 9,
   "metadata": {},
   "outputs": [],
   "source": [
    "experiment_dir = make_dir(\n",
    "    hps[\"experiment_root_dir\"], f\"{hps['backbone_name']}_{int(time())}\"\n",
    ")\n",
    "fold_idx = \"0\"\n",
    "experiment_fold_dir = make_dir(experiment_dir, f\"fold_{fold_idx}\")\n",
    "save_json(experiment_dir, \"hyperparameters.json\", hps)"
   ]
  },
  {
   "cell_type": "markdown",
   "metadata": {},
   "source": [
    "## Parameters that can be set outside the training loop"
   ]
  },
  {
   "cell_type": "code",
   "execution_count": 10,
   "metadata": {},
   "outputs": [],
   "source": [
    "device = torch.device(\"cuda\" if torch.cuda.is_available() else \"cpu\")\n",
    "\n",
    "# Transforms\n",
    "rgb_transforms_train = [\n",
    "    T.ColorJitter(**hps[\"dataaug_color_jitter_kwargs\"]),\n",
    "    T.Normalize(mean=hps[\"norm_mean\"], std=hps[\"norm_std\"]),\n",
    "]\n",
    "shared_transforms_train = [\n",
    "    T.RandomHorizontalFlip(),\n",
    "    T.RandomVerticalFlip(),\n",
    "    T.RandomAffine(**hps[\"dataaug_random_affine_kwargs\"]),\n",
    "    T.Resize(hps[\"target_size\"]),\n",
    "]\n",
    "rgb_transforms_test = [T.Normalize(mean=hps[\"norm_mean\"], std=hps[\"norm_std\"])]\n",
    "shared_transforms_test = [T.Resize(hps[\"target_size\"])]\n",
    "\n",
    "# Metrics\n",
    "metric_names = list(hps[\"loss\"].keys()) + [\"loss\", \"dx_acc\", \"cx_f1\", \"soft_iou\"]\n",
    "checkpoint_metric = hps[\"checkpoint_metric\"]\n",
    "metric_larger_is_better = {\n",
    "    name: name in (\"dx_acc\", \"cx_f1\", \"soft_iou\") for name in metric_names\n",
    "}\n",
    "checkpoint_metric_value = {\n",
    "    name: 0.0 if metric_larger_is_better[name] else np.inf for name in metric_names\n",
    "}"
   ]
  },
  {
   "cell_type": "markdown",
   "metadata": {},
   "source": [
    "## Label and class maps"
   ]
  },
  {
   "cell_type": "code",
   "execution_count": 11,
   "metadata": {},
   "outputs": [],
   "source": [
    "folds_dir = os.path.join(hps[\"label_map_dir\"], f\"fold_{fold_idx}\")\n",
    "train_df = pd.read_csv(\n",
    "    os.path.join(folds_dir, f\"metadata_fold_{fold_idx}_train.csv\")\n",
    ")\n",
    "test_df = pd.read_csv(\n",
    "    os.path.join(folds_dir, f\"metadata_fold_{fold_idx}_test.csv\")\n",
    ")\n",
    "class_map_dx = create_and_save_class_map(hps[\"diagnoses\"], \"dx\", experiment_dir)\n",
    "class_map_char = create_and_save_class_map(\n",
    "    hps[\"characteristics\"], \"char\", experiment_dir\n",
    ")"
   ]
  },
  {
   "cell_type": "code",
   "execution_count": 12,
   "metadata": {},
   "outputs": [],
   "source": [
    "def calc_class_weights(class_counts):\n",
    "    \"\"\"\n",
    "    Calculate class weighs dictionary to use as input for the cnn training. This is useful if the training set is\n",
    "    imbalanced.\n",
    "\n",
    "    The weight of class \"i\" is calculated as the number of samples in the most populated class divided by the number of\n",
    "    samples in class i (max_class_frequency / class_frequency).\n",
    "    Note that the class weights are capped at 10. This is done in order to avoid placing too much weight on\n",
    "    small fraction of the dataset. For the same reason, the weight is set to 1 for any class in the training set that\n",
    "    contains fewer than 5 samples.\n",
    "\n",
    "    :param class_counts: A list with the number of files for each class.\n",
    "    :return:\n",
    "    \"\"\"\n",
    "\n",
    "    # Fixed parameters\n",
    "    class_weights = []\n",
    "    max_freq = max(class_counts.values)\n",
    "    class_weights = [max_freq / count for count in class_counts.values]\n",
    "    \n",
    "    print(\"Classes: \" + str(len(class_counts.keys())))\n",
    "    print(\"Samples per class: \" + str(class_counts.values))\n",
    "    print(\"Class weights: \" + str(class_weights))\n",
    "\n",
    "    return class_weights\n"
   ]
  },
  {
   "cell_type": "code",
   "execution_count": 13,
   "metadata": {},
   "outputs": [
    {
     "name": "stdout",
     "output_type": "stream",
     "text": [
      "Classes: 6\n",
      "Samples per class: [108  88  85  81  77  59]\n",
      "Class weights: [1.0, 1.2272727272727273, 1.2705882352941176, 1.3333333333333333, 1.4025974025974026, 1.8305084745762712]\n"
     ]
    }
   ],
   "source": [
    "class_weights = calc_class_weights(train_df['diagnosis'].value_counts())"
   ]
  },
  {
   "cell_type": "markdown",
   "metadata": {},
   "source": [
    "## Training initialization"
   ]
  },
  {
   "cell_type": "markdown",
   "metadata": {},
   "source": [
    "### Dataset and Dataloaders"
   ]
  },
  {
   "cell_type": "code",
   "execution_count": 14,
   "metadata": {},
   "outputs": [],
   "source": [
    "# Train\n",
    "data_dermx_train = DermXAttnDataset(\n",
    "    train_df,\n",
    "    class_map_dx,\n",
    "    class_map_char,\n",
    "    image_dir=hps[\"image_dir\"],\n",
    "    mask_dir=hps[\"mask_dir\"],\n",
    "    mask_label_fusion_rule=hps[\"mask_label_fusion_rule\"],\n",
    "    rgb_transforms=rgb_transforms_train,\n",
    "    shared_transforms=shared_transforms_train,\n",
    "    mask_downsample_size=hps[\"mask_downsample_size\"],\n",
    ")\n",
    "dataloader_train = DataLoader(\n",
    "    data_dermx_train, batch_size=hps[\"batch_size\"], shuffle=True, num_workers=8\n",
    ")\n",
    "\n",
    "# Test\n",
    "data_dermx_test = DermXAttnDataset(\n",
    "    test_df,\n",
    "    class_map_dx,\n",
    "    class_map_char,\n",
    "    image_dir=hps[\"image_dir\"],\n",
    "    mask_dir=hps[\"mask_dir\"],\n",
    "    mask_label_fusion_rule=hps[\"mask_label_fusion_rule\"],\n",
    "    rgb_transforms=rgb_transforms_test,\n",
    "    shared_transforms=shared_transforms_test,\n",
    "    mask_downsample_size=hps[\"mask_downsample_size\"],\n",
    ")\n",
    "dataloader_test = DataLoader(\n",
    "    data_dermx_test, batch_size=hps[\"batch_size\"], shuffle=True, num_workers=8\n",
    ")"
   ]
  },
  {
   "cell_type": "markdown",
   "metadata": {},
   "source": [
    "### Model"
   ]
  },
  {
   "cell_type": "code",
   "execution_count": 15,
   "metadata": {},
   "outputs": [],
   "source": [
    "model = DermXModelGuidedAttention(\n",
    "    num_dx_classes=hps[\"num_dx_classes\"],\n",
    "    num_cx_classes=hps[\"num_segm_classes\"],\n",
    "    target_layer=hps[\"gradcam_target_layer\"],\n",
    "    backbone_name=hps[\"backbone_name\"],\n",
    "    pretrained=hps[\"use_pretrained\"],\n",
    "    return_gradcam_attributes=hps[\"return_gradcam_attributes\"],\n",
    "    interpolate_gradcam_attributes=(not hps[\"use_downsampled_masks\"]),\n",
    "    num_units_in_dx_clf=hps[\"num_units_in_dx_clf\"],\n",
    "    num_units_in_cx_clf=hps[\"num_units_in_cx_clf\"],\n",
    "    dropout=hps[\"dropout\"],\n",
    "    use_batchnorm=hps[\"use_batchnorm\"],\n",
    "    use_skip_connection=hps[\"use_skip_connection\"],\n",
    "    device=device,\n",
    ")\n",
    "model = model.to(device)\n",
    "if hps[\"freeze\"]:\n",
    "    freeze_layers(\n",
    "        model,\n",
    "        ignore_names=hps[\"unfreeze_layers\"],\n",
    "        ignore_bn=hps[\"unfreeze_bn_layers\"],\n",
    "    )"
   ]
  },
  {
   "cell_type": "code",
   "execution_count": 16,
   "metadata": {},
   "outputs": [
    {
     "data": {
      "text/plain": [
       "DermXModelGuidedAttention(\n",
       "  (backbone): EfficientNetFeatures(\n",
       "    (conv_stem): Conv2d(3, 32, kernel_size=(3, 3), stride=(2, 2), padding=(1, 1), bias=False)\n",
       "    (bn1): BatchNorm2d(32, eps=1e-05, momentum=0.1, affine=True, track_running_stats=True)\n",
       "    (act1): SiLU(inplace=True)\n",
       "    (blocks): Sequential(\n",
       "      (0): Sequential(\n",
       "        (0): DepthwiseSeparableConv(\n",
       "          (conv_dw): Conv2d(32, 32, kernel_size=(3, 3), stride=(1, 1), padding=(1, 1), groups=32, bias=False)\n",
       "          (bn1): BatchNorm2d(32, eps=1e-05, momentum=0.1, affine=True, track_running_stats=True)\n",
       "          (act1): SiLU(inplace=True)\n",
       "          (se): SqueezeExcite(\n",
       "            (conv_reduce): Conv2d(32, 8, kernel_size=(1, 1), stride=(1, 1))\n",
       "            (act1): SiLU(inplace=True)\n",
       "            (conv_expand): Conv2d(8, 32, kernel_size=(1, 1), stride=(1, 1))\n",
       "            (gate): Sigmoid()\n",
       "          )\n",
       "          (conv_pw): Conv2d(32, 16, kernel_size=(1, 1), stride=(1, 1), bias=False)\n",
       "          (bn2): BatchNorm2d(16, eps=1e-05, momentum=0.1, affine=True, track_running_stats=True)\n",
       "          (act2): Identity()\n",
       "        )\n",
       "        (1): DepthwiseSeparableConv(\n",
       "          (conv_dw): Conv2d(16, 16, kernel_size=(3, 3), stride=(1, 1), padding=(1, 1), groups=16, bias=False)\n",
       "          (bn1): BatchNorm2d(16, eps=1e-05, momentum=0.1, affine=True, track_running_stats=True)\n",
       "          (act1): SiLU(inplace=True)\n",
       "          (se): SqueezeExcite(\n",
       "            (conv_reduce): Conv2d(16, 4, kernel_size=(1, 1), stride=(1, 1))\n",
       "            (act1): SiLU(inplace=True)\n",
       "            (conv_expand): Conv2d(4, 16, kernel_size=(1, 1), stride=(1, 1))\n",
       "            (gate): Sigmoid()\n",
       "          )\n",
       "          (conv_pw): Conv2d(16, 16, kernel_size=(1, 1), stride=(1, 1), bias=False)\n",
       "          (bn2): BatchNorm2d(16, eps=1e-05, momentum=0.1, affine=True, track_running_stats=True)\n",
       "          (act2): Identity()\n",
       "        )\n",
       "      )\n",
       "      (1): Sequential(\n",
       "        (0): InvertedResidual(\n",
       "          (conv_pw): Conv2d(16, 96, kernel_size=(1, 1), stride=(1, 1), bias=False)\n",
       "          (bn1): BatchNorm2d(96, eps=1e-05, momentum=0.1, affine=True, track_running_stats=True)\n",
       "          (act1): SiLU(inplace=True)\n",
       "          (conv_dw): Conv2d(96, 96, kernel_size=(3, 3), stride=(2, 2), padding=(1, 1), groups=96, bias=False)\n",
       "          (bn2): BatchNorm2d(96, eps=1e-05, momentum=0.1, affine=True, track_running_stats=True)\n",
       "          (act2): SiLU(inplace=True)\n",
       "          (se): SqueezeExcite(\n",
       "            (conv_reduce): Conv2d(96, 4, kernel_size=(1, 1), stride=(1, 1))\n",
       "            (act1): SiLU(inplace=True)\n",
       "            (conv_expand): Conv2d(4, 96, kernel_size=(1, 1), stride=(1, 1))\n",
       "            (gate): Sigmoid()\n",
       "          )\n",
       "          (conv_pwl): Conv2d(96, 24, kernel_size=(1, 1), stride=(1, 1), bias=False)\n",
       "          (bn3): BatchNorm2d(24, eps=1e-05, momentum=0.1, affine=True, track_running_stats=True)\n",
       "        )\n",
       "        (1): InvertedResidual(\n",
       "          (conv_pw): Conv2d(24, 144, kernel_size=(1, 1), stride=(1, 1), bias=False)\n",
       "          (bn1): BatchNorm2d(144, eps=1e-05, momentum=0.1, affine=True, track_running_stats=True)\n",
       "          (act1): SiLU(inplace=True)\n",
       "          (conv_dw): Conv2d(144, 144, kernel_size=(3, 3), stride=(1, 1), padding=(1, 1), groups=144, bias=False)\n",
       "          (bn2): BatchNorm2d(144, eps=1e-05, momentum=0.1, affine=True, track_running_stats=True)\n",
       "          (act2): SiLU(inplace=True)\n",
       "          (se): SqueezeExcite(\n",
       "            (conv_reduce): Conv2d(144, 6, kernel_size=(1, 1), stride=(1, 1))\n",
       "            (act1): SiLU(inplace=True)\n",
       "            (conv_expand): Conv2d(6, 144, kernel_size=(1, 1), stride=(1, 1))\n",
       "            (gate): Sigmoid()\n",
       "          )\n",
       "          (conv_pwl): Conv2d(144, 24, kernel_size=(1, 1), stride=(1, 1), bias=False)\n",
       "          (bn3): BatchNorm2d(24, eps=1e-05, momentum=0.1, affine=True, track_running_stats=True)\n",
       "        )\n",
       "        (2): InvertedResidual(\n",
       "          (conv_pw): Conv2d(24, 144, kernel_size=(1, 1), stride=(1, 1), bias=False)\n",
       "          (bn1): BatchNorm2d(144, eps=1e-05, momentum=0.1, affine=True, track_running_stats=True)\n",
       "          (act1): SiLU(inplace=True)\n",
       "          (conv_dw): Conv2d(144, 144, kernel_size=(3, 3), stride=(1, 1), padding=(1, 1), groups=144, bias=False)\n",
       "          (bn2): BatchNorm2d(144, eps=1e-05, momentum=0.1, affine=True, track_running_stats=True)\n",
       "          (act2): SiLU(inplace=True)\n",
       "          (se): SqueezeExcite(\n",
       "            (conv_reduce): Conv2d(144, 6, kernel_size=(1, 1), stride=(1, 1))\n",
       "            (act1): SiLU(inplace=True)\n",
       "            (conv_expand): Conv2d(6, 144, kernel_size=(1, 1), stride=(1, 1))\n",
       "            (gate): Sigmoid()\n",
       "          )\n",
       "          (conv_pwl): Conv2d(144, 24, kernel_size=(1, 1), stride=(1, 1), bias=False)\n",
       "          (bn3): BatchNorm2d(24, eps=1e-05, momentum=0.1, affine=True, track_running_stats=True)\n",
       "        )\n",
       "      )\n",
       "      (2): Sequential(\n",
       "        (0): InvertedResidual(\n",
       "          (conv_pw): Conv2d(24, 144, kernel_size=(1, 1), stride=(1, 1), bias=False)\n",
       "          (bn1): BatchNorm2d(144, eps=1e-05, momentum=0.1, affine=True, track_running_stats=True)\n",
       "          (act1): SiLU(inplace=True)\n",
       "          (conv_dw): Conv2d(144, 144, kernel_size=(5, 5), stride=(2, 2), padding=(2, 2), groups=144, bias=False)\n",
       "          (bn2): BatchNorm2d(144, eps=1e-05, momentum=0.1, affine=True, track_running_stats=True)\n",
       "          (act2): SiLU(inplace=True)\n",
       "          (se): SqueezeExcite(\n",
       "            (conv_reduce): Conv2d(144, 6, kernel_size=(1, 1), stride=(1, 1))\n",
       "            (act1): SiLU(inplace=True)\n",
       "            (conv_expand): Conv2d(6, 144, kernel_size=(1, 1), stride=(1, 1))\n",
       "            (gate): Sigmoid()\n",
       "          )\n",
       "          (conv_pwl): Conv2d(144, 48, kernel_size=(1, 1), stride=(1, 1), bias=False)\n",
       "          (bn3): BatchNorm2d(48, eps=1e-05, momentum=0.1, affine=True, track_running_stats=True)\n",
       "        )\n",
       "        (1): InvertedResidual(\n",
       "          (conv_pw): Conv2d(48, 288, kernel_size=(1, 1), stride=(1, 1), bias=False)\n",
       "          (bn1): BatchNorm2d(288, eps=1e-05, momentum=0.1, affine=True, track_running_stats=True)\n",
       "          (act1): SiLU(inplace=True)\n",
       "          (conv_dw): Conv2d(288, 288, kernel_size=(5, 5), stride=(1, 1), padding=(2, 2), groups=288, bias=False)\n",
       "          (bn2): BatchNorm2d(288, eps=1e-05, momentum=0.1, affine=True, track_running_stats=True)\n",
       "          (act2): SiLU(inplace=True)\n",
       "          (se): SqueezeExcite(\n",
       "            (conv_reduce): Conv2d(288, 12, kernel_size=(1, 1), stride=(1, 1))\n",
       "            (act1): SiLU(inplace=True)\n",
       "            (conv_expand): Conv2d(12, 288, kernel_size=(1, 1), stride=(1, 1))\n",
       "            (gate): Sigmoid()\n",
       "          )\n",
       "          (conv_pwl): Conv2d(288, 48, kernel_size=(1, 1), stride=(1, 1), bias=False)\n",
       "          (bn3): BatchNorm2d(48, eps=1e-05, momentum=0.1, affine=True, track_running_stats=True)\n",
       "        )\n",
       "        (2): InvertedResidual(\n",
       "          (conv_pw): Conv2d(48, 288, kernel_size=(1, 1), stride=(1, 1), bias=False)\n",
       "          (bn1): BatchNorm2d(288, eps=1e-05, momentum=0.1, affine=True, track_running_stats=True)\n",
       "          (act1): SiLU(inplace=True)\n",
       "          (conv_dw): Conv2d(288, 288, kernel_size=(5, 5), stride=(1, 1), padding=(2, 2), groups=288, bias=False)\n",
       "          (bn2): BatchNorm2d(288, eps=1e-05, momentum=0.1, affine=True, track_running_stats=True)\n",
       "          (act2): SiLU(inplace=True)\n",
       "          (se): SqueezeExcite(\n",
       "            (conv_reduce): Conv2d(288, 12, kernel_size=(1, 1), stride=(1, 1))\n",
       "            (act1): SiLU(inplace=True)\n",
       "            (conv_expand): Conv2d(12, 288, kernel_size=(1, 1), stride=(1, 1))\n",
       "            (gate): Sigmoid()\n",
       "          )\n",
       "          (conv_pwl): Conv2d(288, 48, kernel_size=(1, 1), stride=(1, 1), bias=False)\n",
       "          (bn3): BatchNorm2d(48, eps=1e-05, momentum=0.1, affine=True, track_running_stats=True)\n",
       "        )\n",
       "      )\n",
       "      (3): Sequential(\n",
       "        (0): InvertedResidual(\n",
       "          (conv_pw): Conv2d(48, 288, kernel_size=(1, 1), stride=(1, 1), bias=False)\n",
       "          (bn1): BatchNorm2d(288, eps=1e-05, momentum=0.1, affine=True, track_running_stats=True)\n",
       "          (act1): SiLU(inplace=True)\n",
       "          (conv_dw): Conv2d(288, 288, kernel_size=(3, 3), stride=(2, 2), padding=(1, 1), groups=288, bias=False)\n",
       "          (bn2): BatchNorm2d(288, eps=1e-05, momentum=0.1, affine=True, track_running_stats=True)\n",
       "          (act2): SiLU(inplace=True)\n",
       "          (se): SqueezeExcite(\n",
       "            (conv_reduce): Conv2d(288, 12, kernel_size=(1, 1), stride=(1, 1))\n",
       "            (act1): SiLU(inplace=True)\n",
       "            (conv_expand): Conv2d(12, 288, kernel_size=(1, 1), stride=(1, 1))\n",
       "            (gate): Sigmoid()\n",
       "          )\n",
       "          (conv_pwl): Conv2d(288, 88, kernel_size=(1, 1), stride=(1, 1), bias=False)\n",
       "          (bn3): BatchNorm2d(88, eps=1e-05, momentum=0.1, affine=True, track_running_stats=True)\n",
       "        )\n",
       "        (1): InvertedResidual(\n",
       "          (conv_pw): Conv2d(88, 528, kernel_size=(1, 1), stride=(1, 1), bias=False)\n",
       "          (bn1): BatchNorm2d(528, eps=1e-05, momentum=0.1, affine=True, track_running_stats=True)\n",
       "          (act1): SiLU(inplace=True)\n",
       "          (conv_dw): Conv2d(528, 528, kernel_size=(3, 3), stride=(1, 1), padding=(1, 1), groups=528, bias=False)\n",
       "          (bn2): BatchNorm2d(528, eps=1e-05, momentum=0.1, affine=True, track_running_stats=True)\n",
       "          (act2): SiLU(inplace=True)\n",
       "          (se): SqueezeExcite(\n",
       "            (conv_reduce): Conv2d(528, 22, kernel_size=(1, 1), stride=(1, 1))\n",
       "            (act1): SiLU(inplace=True)\n",
       "            (conv_expand): Conv2d(22, 528, kernel_size=(1, 1), stride=(1, 1))\n",
       "            (gate): Sigmoid()\n",
       "          )\n",
       "          (conv_pwl): Conv2d(528, 88, kernel_size=(1, 1), stride=(1, 1), bias=False)\n",
       "          (bn3): BatchNorm2d(88, eps=1e-05, momentum=0.1, affine=True, track_running_stats=True)\n",
       "        )\n",
       "        (2): InvertedResidual(\n",
       "          (conv_pw): Conv2d(88, 528, kernel_size=(1, 1), stride=(1, 1), bias=False)\n",
       "          (bn1): BatchNorm2d(528, eps=1e-05, momentum=0.1, affine=True, track_running_stats=True)\n",
       "          (act1): SiLU(inplace=True)\n",
       "          (conv_dw): Conv2d(528, 528, kernel_size=(3, 3), stride=(1, 1), padding=(1, 1), groups=528, bias=False)\n",
       "          (bn2): BatchNorm2d(528, eps=1e-05, momentum=0.1, affine=True, track_running_stats=True)\n",
       "          (act2): SiLU(inplace=True)\n",
       "          (se): SqueezeExcite(\n",
       "            (conv_reduce): Conv2d(528, 22, kernel_size=(1, 1), stride=(1, 1))\n",
       "            (act1): SiLU(inplace=True)\n",
       "            (conv_expand): Conv2d(22, 528, kernel_size=(1, 1), stride=(1, 1))\n",
       "            (gate): Sigmoid()\n",
       "          )\n",
       "          (conv_pwl): Conv2d(528, 88, kernel_size=(1, 1), stride=(1, 1), bias=False)\n",
       "          (bn3): BatchNorm2d(88, eps=1e-05, momentum=0.1, affine=True, track_running_stats=True)\n",
       "        )\n",
       "        (3): InvertedResidual(\n",
       "          (conv_pw): Conv2d(88, 528, kernel_size=(1, 1), stride=(1, 1), bias=False)\n",
       "          (bn1): BatchNorm2d(528, eps=1e-05, momentum=0.1, affine=True, track_running_stats=True)\n",
       "          (act1): SiLU(inplace=True)\n",
       "          (conv_dw): Conv2d(528, 528, kernel_size=(3, 3), stride=(1, 1), padding=(1, 1), groups=528, bias=False)\n",
       "          (bn2): BatchNorm2d(528, eps=1e-05, momentum=0.1, affine=True, track_running_stats=True)\n",
       "          (act2): SiLU(inplace=True)\n",
       "          (se): SqueezeExcite(\n",
       "            (conv_reduce): Conv2d(528, 22, kernel_size=(1, 1), stride=(1, 1))\n",
       "            (act1): SiLU(inplace=True)\n",
       "            (conv_expand): Conv2d(22, 528, kernel_size=(1, 1), stride=(1, 1))\n",
       "            (gate): Sigmoid()\n",
       "          )\n",
       "          (conv_pwl): Conv2d(528, 88, kernel_size=(1, 1), stride=(1, 1), bias=False)\n",
       "          (bn3): BatchNorm2d(88, eps=1e-05, momentum=0.1, affine=True, track_running_stats=True)\n",
       "        )\n",
       "      )\n",
       "      (4): Sequential(\n",
       "        (0): InvertedResidual(\n",
       "          (conv_pw): Conv2d(88, 528, kernel_size=(1, 1), stride=(1, 1), bias=False)\n",
       "          (bn1): BatchNorm2d(528, eps=1e-05, momentum=0.1, affine=True, track_running_stats=True)\n",
       "          (act1): SiLU(inplace=True)\n",
       "          (conv_dw): Conv2d(528, 528, kernel_size=(5, 5), stride=(1, 1), padding=(2, 2), groups=528, bias=False)\n",
       "          (bn2): BatchNorm2d(528, eps=1e-05, momentum=0.1, affine=True, track_running_stats=True)\n",
       "          (act2): SiLU(inplace=True)\n",
       "          (se): SqueezeExcite(\n",
       "            (conv_reduce): Conv2d(528, 22, kernel_size=(1, 1), stride=(1, 1))\n",
       "            (act1): SiLU(inplace=True)\n",
       "            (conv_expand): Conv2d(22, 528, kernel_size=(1, 1), stride=(1, 1))\n",
       "            (gate): Sigmoid()\n",
       "          )\n",
       "          (conv_pwl): Conv2d(528, 120, kernel_size=(1, 1), stride=(1, 1), bias=False)\n",
       "          (bn3): BatchNorm2d(120, eps=1e-05, momentum=0.1, affine=True, track_running_stats=True)\n",
       "        )\n",
       "        (1): InvertedResidual(\n",
       "          (conv_pw): Conv2d(120, 720, kernel_size=(1, 1), stride=(1, 1), bias=False)\n",
       "          (bn1): BatchNorm2d(720, eps=1e-05, momentum=0.1, affine=True, track_running_stats=True)\n",
       "          (act1): SiLU(inplace=True)\n",
       "          (conv_dw): Conv2d(720, 720, kernel_size=(5, 5), stride=(1, 1), padding=(2, 2), groups=720, bias=False)\n",
       "          (bn2): BatchNorm2d(720, eps=1e-05, momentum=0.1, affine=True, track_running_stats=True)\n",
       "          (act2): SiLU(inplace=True)\n",
       "          (se): SqueezeExcite(\n",
       "            (conv_reduce): Conv2d(720, 30, kernel_size=(1, 1), stride=(1, 1))\n",
       "            (act1): SiLU(inplace=True)\n",
       "            (conv_expand): Conv2d(30, 720, kernel_size=(1, 1), stride=(1, 1))\n",
       "            (gate): Sigmoid()\n",
       "          )\n",
       "          (conv_pwl): Conv2d(720, 120, kernel_size=(1, 1), stride=(1, 1), bias=False)\n",
       "          (bn3): BatchNorm2d(120, eps=1e-05, momentum=0.1, affine=True, track_running_stats=True)\n",
       "        )\n",
       "        (2): InvertedResidual(\n",
       "          (conv_pw): Conv2d(120, 720, kernel_size=(1, 1), stride=(1, 1), bias=False)\n",
       "          (bn1): BatchNorm2d(720, eps=1e-05, momentum=0.1, affine=True, track_running_stats=True)\n",
       "          (act1): SiLU(inplace=True)\n",
       "          (conv_dw): Conv2d(720, 720, kernel_size=(5, 5), stride=(1, 1), padding=(2, 2), groups=720, bias=False)\n",
       "          (bn2): BatchNorm2d(720, eps=1e-05, momentum=0.1, affine=True, track_running_stats=True)\n",
       "          (act2): SiLU(inplace=True)\n",
       "          (se): SqueezeExcite(\n",
       "            (conv_reduce): Conv2d(720, 30, kernel_size=(1, 1), stride=(1, 1))\n",
       "            (act1): SiLU(inplace=True)\n",
       "            (conv_expand): Conv2d(30, 720, kernel_size=(1, 1), stride=(1, 1))\n",
       "            (gate): Sigmoid()\n",
       "          )\n",
       "          (conv_pwl): Conv2d(720, 120, kernel_size=(1, 1), stride=(1, 1), bias=False)\n",
       "          (bn3): BatchNorm2d(120, eps=1e-05, momentum=0.1, affine=True, track_running_stats=True)\n",
       "        )\n",
       "        (3): InvertedResidual(\n",
       "          (conv_pw): Conv2d(120, 720, kernel_size=(1, 1), stride=(1, 1), bias=False)\n",
       "          (bn1): BatchNorm2d(720, eps=1e-05, momentum=0.1, affine=True, track_running_stats=True)\n",
       "          (act1): SiLU(inplace=True)\n",
       "          (conv_dw): Conv2d(720, 720, kernel_size=(5, 5), stride=(1, 1), padding=(2, 2), groups=720, bias=False)\n",
       "          (bn2): BatchNorm2d(720, eps=1e-05, momentum=0.1, affine=True, track_running_stats=True)\n",
       "          (act2): SiLU(inplace=True)\n",
       "          (se): SqueezeExcite(\n",
       "            (conv_reduce): Conv2d(720, 30, kernel_size=(1, 1), stride=(1, 1))\n",
       "            (act1): SiLU(inplace=True)\n",
       "            (conv_expand): Conv2d(30, 720, kernel_size=(1, 1), stride=(1, 1))\n",
       "            (gate): Sigmoid()\n",
       "          )\n",
       "          (conv_pwl): Conv2d(720, 120, kernel_size=(1, 1), stride=(1, 1), bias=False)\n",
       "          (bn3): BatchNorm2d(120, eps=1e-05, momentum=0.1, affine=True, track_running_stats=True)\n",
       "        )\n",
       "      )\n",
       "      (5): Sequential(\n",
       "        (0): InvertedResidual(\n",
       "          (conv_pw): Conv2d(120, 720, kernel_size=(1, 1), stride=(1, 1), bias=False)\n",
       "          (bn1): BatchNorm2d(720, eps=1e-05, momentum=0.1, affine=True, track_running_stats=True)\n",
       "          (act1): SiLU(inplace=True)\n",
       "          (conv_dw): Conv2d(720, 720, kernel_size=(5, 5), stride=(2, 2), padding=(2, 2), groups=720, bias=False)\n",
       "          (bn2): BatchNorm2d(720, eps=1e-05, momentum=0.1, affine=True, track_running_stats=True)\n",
       "          (act2): SiLU(inplace=True)\n",
       "          (se): SqueezeExcite(\n",
       "            (conv_reduce): Conv2d(720, 30, kernel_size=(1, 1), stride=(1, 1))\n",
       "            (act1): SiLU(inplace=True)\n",
       "            (conv_expand): Conv2d(30, 720, kernel_size=(1, 1), stride=(1, 1))\n",
       "            (gate): Sigmoid()\n",
       "          )\n",
       "          (conv_pwl): Conv2d(720, 208, kernel_size=(1, 1), stride=(1, 1), bias=False)\n",
       "          (bn3): BatchNorm2d(208, eps=1e-05, momentum=0.1, affine=True, track_running_stats=True)\n",
       "        )\n",
       "        (1): InvertedResidual(\n",
       "          (conv_pw): Conv2d(208, 1248, kernel_size=(1, 1), stride=(1, 1), bias=False)\n",
       "          (bn1): BatchNorm2d(1248, eps=1e-05, momentum=0.1, affine=True, track_running_stats=True)\n",
       "          (act1): SiLU(inplace=True)\n",
       "          (conv_dw): Conv2d(1248, 1248, kernel_size=(5, 5), stride=(1, 1), padding=(2, 2), groups=1248, bias=False)\n",
       "          (bn2): BatchNorm2d(1248, eps=1e-05, momentum=0.1, affine=True, track_running_stats=True)\n",
       "          (act2): SiLU(inplace=True)\n",
       "          (se): SqueezeExcite(\n",
       "            (conv_reduce): Conv2d(1248, 52, kernel_size=(1, 1), stride=(1, 1))\n",
       "            (act1): SiLU(inplace=True)\n",
       "            (conv_expand): Conv2d(52, 1248, kernel_size=(1, 1), stride=(1, 1))\n",
       "            (gate): Sigmoid()\n",
       "          )\n",
       "          (conv_pwl): Conv2d(1248, 208, kernel_size=(1, 1), stride=(1, 1), bias=False)\n",
       "          (bn3): BatchNorm2d(208, eps=1e-05, momentum=0.1, affine=True, track_running_stats=True)\n",
       "        )\n",
       "        (2): InvertedResidual(\n",
       "          (conv_pw): Conv2d(208, 1248, kernel_size=(1, 1), stride=(1, 1), bias=False)\n",
       "          (bn1): BatchNorm2d(1248, eps=1e-05, momentum=0.1, affine=True, track_running_stats=True)\n",
       "          (act1): SiLU(inplace=True)\n",
       "          (conv_dw): Conv2d(1248, 1248, kernel_size=(5, 5), stride=(1, 1), padding=(2, 2), groups=1248, bias=False)\n",
       "          (bn2): BatchNorm2d(1248, eps=1e-05, momentum=0.1, affine=True, track_running_stats=True)\n",
       "          (act2): SiLU(inplace=True)\n",
       "          (se): SqueezeExcite(\n",
       "            (conv_reduce): Conv2d(1248, 52, kernel_size=(1, 1), stride=(1, 1))\n",
       "            (act1): SiLU(inplace=True)\n",
       "            (conv_expand): Conv2d(52, 1248, kernel_size=(1, 1), stride=(1, 1))\n",
       "            (gate): Sigmoid()\n",
       "          )\n",
       "          (conv_pwl): Conv2d(1248, 208, kernel_size=(1, 1), stride=(1, 1), bias=False)\n",
       "          (bn3): BatchNorm2d(208, eps=1e-05, momentum=0.1, affine=True, track_running_stats=True)\n",
       "        )\n",
       "        (3): InvertedResidual(\n",
       "          (conv_pw): Conv2d(208, 1248, kernel_size=(1, 1), stride=(1, 1), bias=False)\n",
       "          (bn1): BatchNorm2d(1248, eps=1e-05, momentum=0.1, affine=True, track_running_stats=True)\n",
       "          (act1): SiLU(inplace=True)\n",
       "          (conv_dw): Conv2d(1248, 1248, kernel_size=(5, 5), stride=(1, 1), padding=(2, 2), groups=1248, bias=False)\n",
       "          (bn2): BatchNorm2d(1248, eps=1e-05, momentum=0.1, affine=True, track_running_stats=True)\n",
       "          (act2): SiLU(inplace=True)\n",
       "          (se): SqueezeExcite(\n",
       "            (conv_reduce): Conv2d(1248, 52, kernel_size=(1, 1), stride=(1, 1))\n",
       "            (act1): SiLU(inplace=True)\n",
       "            (conv_expand): Conv2d(52, 1248, kernel_size=(1, 1), stride=(1, 1))\n",
       "            (gate): Sigmoid()\n",
       "          )\n",
       "          (conv_pwl): Conv2d(1248, 208, kernel_size=(1, 1), stride=(1, 1), bias=False)\n",
       "          (bn3): BatchNorm2d(208, eps=1e-05, momentum=0.1, affine=True, track_running_stats=True)\n",
       "        )\n",
       "        (4): InvertedResidual(\n",
       "          (conv_pw): Conv2d(208, 1248, kernel_size=(1, 1), stride=(1, 1), bias=False)\n",
       "          (bn1): BatchNorm2d(1248, eps=1e-05, momentum=0.1, affine=True, track_running_stats=True)\n",
       "          (act1): SiLU(inplace=True)\n",
       "          (conv_dw): Conv2d(1248, 1248, kernel_size=(5, 5), stride=(1, 1), padding=(2, 2), groups=1248, bias=False)\n",
       "          (bn2): BatchNorm2d(1248, eps=1e-05, momentum=0.1, affine=True, track_running_stats=True)\n",
       "          (act2): SiLU(inplace=True)\n",
       "          (se): SqueezeExcite(\n",
       "            (conv_reduce): Conv2d(1248, 52, kernel_size=(1, 1), stride=(1, 1))\n",
       "            (act1): SiLU(inplace=True)\n",
       "            (conv_expand): Conv2d(52, 1248, kernel_size=(1, 1), stride=(1, 1))\n",
       "            (gate): Sigmoid()\n",
       "          )\n",
       "          (conv_pwl): Conv2d(1248, 208, kernel_size=(1, 1), stride=(1, 1), bias=False)\n",
       "          (bn3): BatchNorm2d(208, eps=1e-05, momentum=0.1, affine=True, track_running_stats=True)\n",
       "        )\n",
       "      )\n",
       "      (6): Sequential(\n",
       "        (0): InvertedResidual(\n",
       "          (conv_pw): Conv2d(208, 1248, kernel_size=(1, 1), stride=(1, 1), bias=False)\n",
       "          (bn1): BatchNorm2d(1248, eps=1e-05, momentum=0.1, affine=True, track_running_stats=True)\n",
       "          (act1): SiLU(inplace=True)\n",
       "          (conv_dw): Conv2d(1248, 1248, kernel_size=(3, 3), stride=(1, 1), padding=(1, 1), groups=1248, bias=False)\n",
       "          (bn2): BatchNorm2d(1248, eps=1e-05, momentum=0.1, affine=True, track_running_stats=True)\n",
       "          (act2): SiLU(inplace=True)\n",
       "          (se): SqueezeExcite(\n",
       "            (conv_reduce): Conv2d(1248, 52, kernel_size=(1, 1), stride=(1, 1))\n",
       "            (act1): SiLU(inplace=True)\n",
       "            (conv_expand): Conv2d(52, 1248, kernel_size=(1, 1), stride=(1, 1))\n",
       "            (gate): Sigmoid()\n",
       "          )\n",
       "          (conv_pwl): Conv2d(1248, 352, kernel_size=(1, 1), stride=(1, 1), bias=False)\n",
       "          (bn3): BatchNorm2d(352, eps=1e-05, momentum=0.1, affine=True, track_running_stats=True)\n",
       "        )\n",
       "        (1): InvertedResidual(\n",
       "          (conv_pw): Conv2d(352, 2112, kernel_size=(1, 1), stride=(1, 1), bias=False)\n",
       "          (bn1): BatchNorm2d(2112, eps=1e-05, momentum=0.1, affine=True, track_running_stats=True)\n",
       "          (act1): SiLU(inplace=True)\n",
       "          (conv_dw): Conv2d(2112, 2112, kernel_size=(3, 3), stride=(1, 1), padding=(1, 1), groups=2112, bias=False)\n",
       "          (bn2): BatchNorm2d(2112, eps=1e-05, momentum=0.1, affine=True, track_running_stats=True)\n",
       "          (act2): SiLU(inplace=True)\n",
       "          (se): SqueezeExcite(\n",
       "            (conv_reduce): Conv2d(2112, 88, kernel_size=(1, 1), stride=(1, 1))\n",
       "            (act1): SiLU(inplace=True)\n",
       "            (conv_expand): Conv2d(88, 2112, kernel_size=(1, 1), stride=(1, 1))\n",
       "            (gate): Sigmoid()\n",
       "          )\n",
       "          (conv_pwl): Conv2d(2112, 352, kernel_size=(1, 1), stride=(1, 1), bias=False)\n",
       "          (bn3): BatchNorm2d(352, eps=1e-05, momentum=0.1, affine=True, track_running_stats=True)\n",
       "        )\n",
       "      )\n",
       "    )\n",
       "  )\n",
       "  (flat_gap): Sequential(\n",
       "    (0): AdaptiveAvgPool2d(output_size=1)\n",
       "    (1): Flatten(start_dim=1, end_dim=-1)\n",
       "  )\n",
       "  (dx_clf_prep): Sequential(\n",
       "    (0): Dropout(p=0.2, inplace=False)\n",
       "    (1): Linear(in_features=352, out_features=64, bias=True)\n",
       "    (2): ReLU()\n",
       "    (3): Dropout(p=0.2, inplace=False)\n",
       "  )\n",
       "  (dx_clf): Linear(in_features=74, out_features=6, bias=True)\n",
       "  (cx_clf): Sequential(\n",
       "    (0): Dropout(p=0.2, inplace=False)\n",
       "    (1): Linear(in_features=352, out_features=64, bias=True)\n",
       "    (2): ReLU()\n",
       "    (3): Dropout(p=0.2, inplace=False)\n",
       "    (4): Linear(in_features=64, out_features=10, bias=True)\n",
       "  )\n",
       ")"
      ]
     },
     "execution_count": 16,
     "metadata": {},
     "output_type": "execute_result"
    }
   ],
   "source": [
    "model"
   ]
  },
  {
   "cell_type": "markdown",
   "metadata": {},
   "source": [
    "### Optimizer"
   ]
  },
  {
   "cell_type": "code",
   "execution_count": 11,
   "metadata": {},
   "outputs": [],
   "source": [
    "Optimizer = str_optimizer_map[hps[\"optimizer\"]]\n",
    "optimizer = Optimizer(\n",
    "    filter(lambda p: p.requires_grad, model.parameters()),\n",
    "    lr=hps[\"learning_rate\"],\n",
    "    **hps[\"optimizer_kwargs\"],\n",
    ")\n",
    "if hps[\"lr_scheduler\"] is not None:\n",
    "    Scheduler = str_scheduler_map[hps[\"lr_scheduler\"]]\n",
    "    scheduler = Scheduler(optimizer, **hps[\"lr_scheduler_kwargs\"],)\n",
    "else:\n",
    "    scheduler = None"
   ]
  },
  {
   "cell_type": "markdown",
   "metadata": {},
   "source": [
    "### Loss"
   ]
  },
  {
   "cell_type": "code",
   "execution_count": 12,
   "metadata": {},
   "outputs": [],
   "source": [
    "criterion = {\n",
    "    loss_name: str_loss_map[hps[\"loss\"][loss_name]](\n",
    "        hps[\"class_weights\"][loss_name], \n",
    "        **hps[\"loss_kwargs\"][loss_name]\n",
    "    ) for loss_name in hps[\"loss\"]\n",
    "}"
   ]
  },
  {
   "cell_type": "code",
   "execution_count": 13,
   "metadata": {},
   "outputs": [
    {
     "data": {
      "text/plain": [
       "tensor([1.0000, 1.2159, 1.2588, 1.3049, 1.3718, 1.8136], device='cuda:0')"
      ]
     },
     "execution_count": 13,
     "metadata": {},
     "output_type": "execute_result"
    }
   ],
   "source": [
    "torch_class_weights = torch.FloatTensor(class_weights).cuda()\n",
    "criterion['dx'] = torch.nn.CrossEntropyLoss(weight=torch_class_weights)\n",
    "criterion['dx'].weight"
   ]
  },
  {
   "cell_type": "markdown",
   "metadata": {},
   "source": [
    "### Metrics"
   ]
  },
  {
   "cell_type": "code",
   "execution_count": 14,
   "metadata": {},
   "outputs": [],
   "source": [
    "tb_dir = os.path.join(experiment_fold_dir, \"tensorboard\")\n",
    "tb_writer = SummaryWriter(tb_dir)\n",
    "# tb_writer.add_graph(model, torch.zeros((1, 3) + hps[\"target_size\"]).to(device))\n",
    "history = defaultdict(list)"
   ]
  },
  {
   "cell_type": "markdown",
   "metadata": {},
   "source": [
    "## Training"
   ]
  },
  {
   "cell_type": "code",
   "execution_count": 15,
   "metadata": {
    "scrolled": true
   },
   "outputs": [
    {
     "name": "stderr",
     "output_type": "stream",
     "text": [
      "Epoch 1/120: 100%|██████████| 16/16 [01:21<00:00,  5.09s/it]\n"
     ]
    },
    {
     "name": "stdout",
     "output_type": "stream",
     "text": [
      "Epoch 1: dx_train: 1.540 -- dx_val: 1.205 -- cx_train: 0.699 -- cx_val: 0.699 -- attn_train: 0.492 -- attn_val: 0.487 -- loss_train: 1.540 -- loss_val: 1.205 -- dx_acc_train: 0.390 -- dx_acc_val: 0.552 -- cx_f1_train: 0.288 -- cx_f1_val: 0.313 -- soft_iou_train: 0.107 -- soft_iou_val: 0.111 -- lr: 0.000 -- completed in 1.4 mins\n",
      "Model got better and was saved, with loss_val = 1.205\n"
     ]
    },
    {
     "name": "stderr",
     "output_type": "stream",
     "text": [
      "Epoch 2/120: 100%|██████████| 16/16 [01:24<00:00,  5.26s/it]\n"
     ]
    },
    {
     "name": "stdout",
     "output_type": "stream",
     "text": [
      "Epoch 2: dx_train: 0.836 -- dx_val: 0.829 -- cx_train: 0.715 -- cx_val: 0.709 -- attn_train: 0.487 -- attn_val: 0.494 -- loss_train: 0.836 -- loss_val: 0.829 -- dx_acc_train: 0.716 -- dx_acc_val: 0.658 -- cx_f1_train: 0.312 -- cx_f1_val: 0.290 -- soft_iou_train: 0.114 -- soft_iou_val: 0.101 -- lr: 0.000 -- completed in 1.5 mins\n",
      "Model got better and was saved, with loss_val = 0.829\n"
     ]
    },
    {
     "name": "stderr",
     "output_type": "stream",
     "text": [
      "Epoch 3/120: 100%|██████████| 16/16 [01:26<00:00,  5.38s/it]\n"
     ]
    },
    {
     "name": "stdout",
     "output_type": "stream",
     "text": [
      "Epoch 3: dx_train: 0.518 -- dx_val: 0.769 -- cx_train: 0.733 -- cx_val: 0.732 -- attn_train: 0.488 -- attn_val: 0.491 -- loss_train: 0.518 -- loss_val: 0.769 -- dx_acc_train: 0.818 -- dx_acc_val: 0.654 -- cx_f1_train: 0.310 -- cx_f1_val: 0.296 -- soft_iou_train: 0.121 -- soft_iou_val: 0.124 -- lr: 0.001 -- completed in 1.5 mins\n",
      "Model got better and was saved, with loss_val = 0.769\n"
     ]
    },
    {
     "name": "stderr",
     "output_type": "stream",
     "text": [
      "Epoch 4/120: 100%|██████████| 16/16 [01:28<00:00,  5.53s/it]\n"
     ]
    },
    {
     "name": "stdout",
     "output_type": "stream",
     "text": [
      "Epoch 4: dx_train: 0.387 -- dx_val: 0.861 -- cx_train: 0.766 -- cx_val: 0.765 -- attn_train: 0.488 -- attn_val: 0.493 -- loss_train: 0.387 -- loss_val: 0.861 -- dx_acc_train: 0.885 -- dx_acc_val: 0.711 -- cx_f1_train: 0.305 -- cx_f1_val: 0.287 -- soft_iou_train: 0.128 -- soft_iou_val: 0.139 -- lr: 0.000 -- completed in 1.6 mins\n"
     ]
    },
    {
     "name": "stderr",
     "output_type": "stream",
     "text": [
      "Epoch 5/120: 100%|██████████| 16/16 [01:27<00:00,  5.44s/it]\n"
     ]
    },
    {
     "name": "stdout",
     "output_type": "stream",
     "text": [
      "Epoch 5: dx_train: 0.325 -- dx_val: 0.794 -- cx_train: 0.828 -- cx_val: 0.827 -- attn_train: 0.487 -- attn_val: 0.496 -- loss_train: 0.325 -- loss_val: 0.794 -- dx_acc_train: 0.883 -- dx_acc_val: 0.766 -- cx_f1_train: 0.299 -- cx_f1_val: 0.345 -- soft_iou_train: 0.133 -- soft_iou_val: 0.128 -- lr: 0.000 -- completed in 1.5 mins\n"
     ]
    },
    {
     "name": "stderr",
     "output_type": "stream",
     "text": [
      "Epoch 6/120: 100%|██████████| 16/16 [01:28<00:00,  5.54s/it]\n"
     ]
    },
    {
     "name": "stdout",
     "output_type": "stream",
     "text": [
      "Epoch 6: dx_train: 0.248 -- dx_val: 0.888 -- cx_train: 0.858 -- cx_val: 0.829 -- attn_train: 0.482 -- attn_val: 0.489 -- loss_train: 0.248 -- loss_val: 0.888 -- dx_acc_train: 0.908 -- dx_acc_val: 0.754 -- cx_f1_train: 0.320 -- cx_f1_val: 0.343 -- soft_iou_train: 0.134 -- soft_iou_val: 0.147 -- lr: 0.000 -- completed in 1.6 mins\n"
     ]
    },
    {
     "name": "stderr",
     "output_type": "stream",
     "text": [
      "Epoch 7/120: 100%|██████████| 16/16 [01:23<00:00,  5.21s/it]\n"
     ]
    },
    {
     "name": "stdout",
     "output_type": "stream",
     "text": [
      "Epoch 7: dx_train: 0.164 -- dx_val: 0.849 -- cx_train: 0.859 -- cx_val: 0.823 -- attn_train: 0.486 -- attn_val: 0.484 -- loss_train: 0.164 -- loss_val: 0.849 -- dx_acc_train: 0.948 -- dx_acc_val: 0.794 -- cx_f1_train: 0.311 -- cx_f1_val: 0.354 -- soft_iou_train: 0.132 -- soft_iou_val: 0.141 -- lr: 0.000 -- completed in 1.5 mins\n"
     ]
    },
    {
     "name": "stderr",
     "output_type": "stream",
     "text": [
      "Epoch 8/120: 100%|██████████| 16/16 [01:25<00:00,  5.33s/it]\n"
     ]
    },
    {
     "name": "stdout",
     "output_type": "stream",
     "text": [
      "Epoch 8: dx_train: 0.179 -- dx_val: 0.971 -- cx_train: 0.879 -- cx_val: 0.839 -- attn_train: 0.485 -- attn_val: 0.489 -- loss_train: 0.179 -- loss_val: 0.971 -- dx_acc_train: 0.945 -- dx_acc_val: 0.713 -- cx_f1_train: 0.314 -- cx_f1_val: 0.362 -- soft_iou_train: 0.134 -- soft_iou_val: 0.138 -- lr: 0.000 -- completed in 1.5 mins\n"
     ]
    },
    {
     "name": "stderr",
     "output_type": "stream",
     "text": [
      "Epoch 9/120: 100%|██████████| 16/16 [01:26<00:00,  5.43s/it]\n"
     ]
    },
    {
     "name": "stdout",
     "output_type": "stream",
     "text": [
      "Epoch 9: dx_train: 0.086 -- dx_val: 0.777 -- cx_train: 0.902 -- cx_val: 0.864 -- attn_train: 0.481 -- attn_val: 0.485 -- loss_train: 0.086 -- loss_val: 0.777 -- dx_acc_train: 0.979 -- dx_acc_val: 0.782 -- cx_f1_train: 0.317 -- cx_f1_val: 0.341 -- soft_iou_train: 0.145 -- soft_iou_val: 0.147 -- lr: 0.000 -- completed in 1.5 mins\n"
     ]
    },
    {
     "name": "stderr",
     "output_type": "stream",
     "text": [
      "Epoch 10/120: 100%|██████████| 16/16 [01:19<00:00,  5.00s/it]\n"
     ]
    },
    {
     "name": "stdout",
     "output_type": "stream",
     "text": [
      "Epoch 10: dx_train: 0.106 -- dx_val: 0.803 -- cx_train: 0.932 -- cx_val: 0.882 -- attn_train: 0.480 -- attn_val: 0.490 -- loss_train: 0.106 -- loss_val: 0.803 -- dx_acc_train: 0.969 -- dx_acc_val: 0.766 -- cx_f1_train: 0.316 -- cx_f1_val: 0.356 -- soft_iou_train: 0.144 -- soft_iou_val: 0.135 -- lr: 0.000 -- completed in 1.4 mins\n"
     ]
    },
    {
     "name": "stderr",
     "output_type": "stream",
     "text": [
      "Epoch 11/120: 100%|██████████| 16/16 [01:27<00:00,  5.49s/it]\n"
     ]
    },
    {
     "name": "stdout",
     "output_type": "stream",
     "text": [
      "Epoch 11: dx_train: 0.048 -- dx_val: 0.667 -- cx_train: 0.937 -- cx_val: 0.866 -- attn_train: 0.483 -- attn_val: 0.489 -- loss_train: 0.048 -- loss_val: 0.667 -- dx_acc_train: 0.992 -- dx_acc_val: 0.782 -- cx_f1_train: 0.312 -- cx_f1_val: 0.346 -- soft_iou_train: 0.144 -- soft_iou_val: 0.140 -- lr: 0.000 -- completed in 1.5 mins\n",
      "Model got better and was saved, with loss_val = 0.667\n"
     ]
    },
    {
     "name": "stderr",
     "output_type": "stream",
     "text": [
      "Epoch 12/120: 100%|██████████| 16/16 [01:27<00:00,  5.46s/it]\n"
     ]
    },
    {
     "name": "stdout",
     "output_type": "stream",
     "text": [
      "Epoch 12: dx_train: 0.079 -- dx_val: 0.698 -- cx_train: 0.928 -- cx_val: 0.854 -- attn_train: 0.485 -- attn_val: 0.484 -- loss_train: 0.079 -- loss_val: 0.698 -- dx_acc_train: 0.969 -- dx_acc_val: 0.782 -- cx_f1_train: 0.323 -- cx_f1_val: 0.354 -- soft_iou_train: 0.143 -- soft_iou_val: 0.139 -- lr: 0.001 -- completed in 1.5 mins\n"
     ]
    },
    {
     "name": "stderr",
     "output_type": "stream",
     "text": [
      "Epoch 13/120: 100%|██████████| 16/16 [01:26<00:00,  5.42s/it]\n"
     ]
    },
    {
     "name": "stdout",
     "output_type": "stream",
     "text": [
      "Epoch 13: dx_train: 0.066 -- dx_val: 1.053 -- cx_train: 0.955 -- cx_val: 0.844 -- attn_train: 0.481 -- attn_val: 0.481 -- loss_train: 0.066 -- loss_val: 1.053 -- dx_acc_train: 0.985 -- dx_acc_val: 0.760 -- cx_f1_train: 0.323 -- cx_f1_val: 0.394 -- soft_iou_train: 0.142 -- soft_iou_val: 0.141 -- lr: 0.000 -- completed in 1.5 mins\n"
     ]
    },
    {
     "name": "stderr",
     "output_type": "stream",
     "text": [
      "Epoch 14/120: 100%|██████████| 16/16 [01:22<00:00,  5.16s/it]\n"
     ]
    },
    {
     "name": "stdout",
     "output_type": "stream",
     "text": [
      "Epoch 14: dx_train: 0.124 -- dx_val: 1.070 -- cx_train: 0.971 -- cx_val: 0.883 -- attn_train: 0.489 -- attn_val: 0.489 -- loss_train: 0.124 -- loss_val: 1.070 -- dx_acc_train: 0.965 -- dx_acc_val: 0.732 -- cx_f1_train: 0.317 -- cx_f1_val: 0.349 -- soft_iou_train: 0.134 -- soft_iou_val: 0.133 -- lr: 0.000 -- completed in 1.5 mins\n"
     ]
    },
    {
     "name": "stderr",
     "output_type": "stream",
     "text": [
      "Epoch 15/120: 100%|██████████| 16/16 [01:24<00:00,  5.25s/it]\n"
     ]
    },
    {
     "name": "stdout",
     "output_type": "stream",
     "text": [
      "Epoch 15: dx_train: 0.179 -- dx_val: 1.196 -- cx_train: 0.979 -- cx_val: 0.931 -- attn_train: 0.485 -- attn_val: 0.484 -- loss_train: 0.179 -- loss_val: 1.196 -- dx_acc_train: 0.940 -- dx_acc_val: 0.782 -- cx_f1_train: 0.326 -- cx_f1_val: 0.352 -- soft_iou_train: 0.133 -- soft_iou_val: 0.134 -- lr: 0.000 -- completed in 1.5 mins\n"
     ]
    },
    {
     "name": "stderr",
     "output_type": "stream",
     "text": [
      "Epoch 16/120: 100%|██████████| 16/16 [01:20<00:00,  5.03s/it]\n"
     ]
    },
    {
     "name": "stdout",
     "output_type": "stream",
     "text": [
      "Epoch 16: dx_train: 0.145 -- dx_val: 1.538 -- cx_train: 0.984 -- cx_val: 0.889 -- attn_train: 0.484 -- attn_val: 0.490 -- loss_train: 0.145 -- loss_val: 1.538 -- dx_acc_train: 0.955 -- dx_acc_val: 0.679 -- cx_f1_train: 0.326 -- cx_f1_val: 0.374 -- soft_iou_train: 0.142 -- soft_iou_val: 0.131 -- lr: 0.000 -- completed in 1.4 mins\n"
     ]
    },
    {
     "name": "stderr",
     "output_type": "stream",
     "text": [
      "Epoch 17/120: 100%|██████████| 16/16 [01:27<00:00,  5.48s/it]\n"
     ]
    },
    {
     "name": "stdout",
     "output_type": "stream",
     "text": [
      "Epoch 17: dx_train: 0.162 -- dx_val: 1.488 -- cx_train: 0.969 -- cx_val: 0.872 -- attn_train: 0.485 -- attn_val: 0.480 -- loss_train: 0.162 -- loss_val: 1.488 -- dx_acc_train: 0.935 -- dx_acc_val: 0.654 -- cx_f1_train: 0.321 -- cx_f1_val: 0.401 -- soft_iou_train: 0.135 -- soft_iou_val: 0.134 -- lr: 0.000 -- completed in 1.5 mins\n"
     ]
    },
    {
     "name": "stderr",
     "output_type": "stream",
     "text": [
      "Epoch 18/120: 100%|██████████| 16/16 [01:23<00:00,  5.20s/it]\n"
     ]
    },
    {
     "name": "stdout",
     "output_type": "stream",
     "text": [
      "Epoch 18: dx_train: 0.181 -- dx_val: 1.263 -- cx_train: 0.996 -- cx_val: 0.872 -- attn_train: 0.483 -- attn_val: 0.492 -- loss_train: 0.181 -- loss_val: 1.263 -- dx_acc_train: 0.937 -- dx_acc_val: 0.707 -- cx_f1_train: 0.321 -- cx_f1_val: 0.355 -- soft_iou_train: 0.141 -- soft_iou_val: 0.122 -- lr: 0.000 -- completed in 1.5 mins\n"
     ]
    },
    {
     "name": "stderr",
     "output_type": "stream",
     "text": [
      "Epoch 19/120: 100%|██████████| 16/16 [01:23<00:00,  5.25s/it]\n"
     ]
    },
    {
     "name": "stdout",
     "output_type": "stream",
     "text": [
      "Epoch 19: dx_train: 0.201 -- dx_val: 1.324 -- cx_train: 1.004 -- cx_val: 0.835 -- attn_train: 0.487 -- attn_val: 0.498 -- loss_train: 0.201 -- loss_val: 1.324 -- dx_acc_train: 0.948 -- dx_acc_val: 0.748 -- cx_f1_train: 0.311 -- cx_f1_val: 0.387 -- soft_iou_train: 0.139 -- soft_iou_val: 0.114 -- lr: 0.000 -- completed in 1.5 mins\n"
     ]
    },
    {
     "name": "stderr",
     "output_type": "stream",
     "text": [
      "Epoch 20/120: 100%|██████████| 16/16 [01:23<00:00,  5.22s/it]\n"
     ]
    },
    {
     "name": "stdout",
     "output_type": "stream",
     "text": [
      "Epoch 20: dx_train: 0.180 -- dx_val: 1.050 -- cx_train: 1.014 -- cx_val: 0.899 -- attn_train: 0.487 -- attn_val: 0.492 -- loss_train: 0.180 -- loss_val: 1.050 -- dx_acc_train: 0.943 -- dx_acc_val: 0.692 -- cx_f1_train: 0.317 -- cx_f1_val: 0.362 -- soft_iou_train: 0.128 -- soft_iou_val: 0.123 -- lr: 0.000 -- completed in 1.5 mins\n"
     ]
    },
    {
     "name": "stderr",
     "output_type": "stream",
     "text": [
      "Epoch 21/120: 100%|██████████| 16/16 [01:23<00:00,  5.19s/it]\n"
     ]
    },
    {
     "name": "stdout",
     "output_type": "stream",
     "text": [
      "Epoch 21: dx_train: 0.083 -- dx_val: 1.085 -- cx_train: 1.020 -- cx_val: 0.923 -- attn_train: 0.486 -- attn_val: 0.488 -- loss_train: 0.083 -- loss_val: 1.085 -- dx_acc_train: 0.980 -- dx_acc_val: 0.779 -- cx_f1_train: 0.318 -- cx_f1_val: 0.370 -- soft_iou_train: 0.138 -- soft_iou_val: 0.129 -- lr: 0.000 -- completed in 1.5 mins\n"
     ]
    },
    {
     "name": "stderr",
     "output_type": "stream",
     "text": [
      "Epoch 22/120: 100%|██████████| 16/16 [01:26<00:00,  5.38s/it]\n"
     ]
    },
    {
     "name": "stdout",
     "output_type": "stream",
     "text": [
      "Epoch 22: dx_train: 0.077 -- dx_val: 0.933 -- cx_train: 1.067 -- cx_val: 0.909 -- attn_train: 0.484 -- attn_val: 0.489 -- loss_train: 0.077 -- loss_val: 0.933 -- dx_acc_train: 0.982 -- dx_acc_val: 0.735 -- cx_f1_train: 0.307 -- cx_f1_val: 0.351 -- soft_iou_train: 0.144 -- soft_iou_val: 0.133 -- lr: 0.000 -- completed in 1.5 mins\n"
     ]
    },
    {
     "name": "stderr",
     "output_type": "stream",
     "text": [
      "Epoch 23/120: 100%|██████████| 16/16 [01:29<00:00,  5.62s/it]\n"
     ]
    },
    {
     "name": "stdout",
     "output_type": "stream",
     "text": [
      "Epoch 23: dx_train: 0.061 -- dx_val: 0.900 -- cx_train: 1.087 -- cx_val: 0.970 -- attn_train: 0.486 -- attn_val: 0.488 -- loss_train: 0.061 -- loss_val: 0.900 -- dx_acc_train: 0.982 -- dx_acc_val: 0.772 -- cx_f1_train: 0.315 -- cx_f1_val: 0.349 -- soft_iou_train: 0.141 -- soft_iou_val: 0.139 -- lr: 0.000 -- completed in 1.6 mins\n"
     ]
    },
    {
     "name": "stderr",
     "output_type": "stream",
     "text": [
      "Epoch 24/120: 100%|██████████| 16/16 [01:24<00:00,  5.28s/it]\n"
     ]
    },
    {
     "name": "stdout",
     "output_type": "stream",
     "text": [
      "Epoch 24: dx_train: 0.044 -- dx_val: 0.896 -- cx_train: 1.161 -- cx_val: 1.013 -- attn_train: 0.488 -- attn_val: 0.489 -- loss_train: 0.044 -- loss_val: 0.896 -- dx_acc_train: 0.987 -- dx_acc_val: 0.772 -- cx_f1_train: 0.306 -- cx_f1_val: 0.340 -- soft_iou_train: 0.133 -- soft_iou_val: 0.141 -- lr: 0.000 -- completed in 1.5 mins\n"
     ]
    },
    {
     "name": "stderr",
     "output_type": "stream",
     "text": [
      "Epoch 25/120: 100%|██████████| 16/16 [01:27<00:00,  5.50s/it]\n"
     ]
    },
    {
     "name": "stdout",
     "output_type": "stream",
     "text": [
      "Epoch 25: dx_train: 0.051 -- dx_val: 1.060 -- cx_train: 1.136 -- cx_val: 0.969 -- attn_train: 0.483 -- attn_val: 0.489 -- loss_train: 0.051 -- loss_val: 1.060 -- dx_acc_train: 0.982 -- dx_acc_val: 0.776 -- cx_f1_train: 0.319 -- cx_f1_val: 0.367 -- soft_iou_train: 0.143 -- soft_iou_val: 0.133 -- lr: 0.000 -- completed in 1.5 mins\n"
     ]
    },
    {
     "name": "stderr",
     "output_type": "stream",
     "text": [
      "Epoch 26/120: 100%|██████████| 16/16 [01:29<00:00,  5.60s/it]\n"
     ]
    },
    {
     "name": "stdout",
     "output_type": "stream",
     "text": [
      "Epoch 26: dx_train: 0.026 -- dx_val: 1.006 -- cx_train: 1.161 -- cx_val: 1.009 -- attn_train: 0.487 -- attn_val: 0.490 -- loss_train: 0.026 -- loss_val: 1.006 -- dx_acc_train: 0.990 -- dx_acc_val: 0.791 -- cx_f1_train: 0.317 -- cx_f1_val: 0.357 -- soft_iou_train: 0.144 -- soft_iou_val: 0.136 -- lr: 0.000 -- completed in 1.6 mins\n"
     ]
    },
    {
     "name": "stderr",
     "output_type": "stream",
     "text": [
      "Epoch 27/120: 100%|██████████| 16/16 [01:28<00:00,  5.51s/it]\n"
     ]
    },
    {
     "name": "stdout",
     "output_type": "stream",
     "text": [
      "Epoch 27: dx_train: 0.039 -- dx_val: 1.093 -- cx_train: 1.129 -- cx_val: 0.987 -- attn_train: 0.483 -- attn_val: 0.485 -- loss_train: 0.039 -- loss_val: 1.093 -- dx_acc_train: 0.988 -- dx_acc_val: 0.798 -- cx_f1_train: 0.317 -- cx_f1_val: 0.363 -- soft_iou_train: 0.148 -- soft_iou_val: 0.140 -- lr: 0.000 -- completed in 1.5 mins\n"
     ]
    },
    {
     "name": "stderr",
     "output_type": "stream",
     "text": [
      "Epoch 28/120: 100%|██████████| 16/16 [01:26<00:00,  5.41s/it]\n"
     ]
    },
    {
     "name": "stdout",
     "output_type": "stream",
     "text": [
      "Epoch 28: dx_train: 0.015 -- dx_val: 1.015 -- cx_train: 1.161 -- cx_val: 1.002 -- attn_train: 0.486 -- attn_val: 0.490 -- loss_train: 0.015 -- loss_val: 1.015 -- dx_acc_train: 0.996 -- dx_acc_val: 0.760 -- cx_f1_train: 0.325 -- cx_f1_val: 0.366 -- soft_iou_train: 0.143 -- soft_iou_val: 0.136 -- lr: 0.000 -- completed in 1.5 mins\n"
     ]
    },
    {
     "name": "stderr",
     "output_type": "stream",
     "text": [
      "Epoch 29/120: 100%|██████████| 16/16 [01:26<00:00,  5.43s/it]\n"
     ]
    },
    {
     "name": "stdout",
     "output_type": "stream",
     "text": [
      "Epoch 29: dx_train: 0.015 -- dx_val: 1.110 -- cx_train: 1.176 -- cx_val: 1.019 -- attn_train: 0.483 -- attn_val: 0.489 -- loss_train: 0.015 -- loss_val: 1.110 -- dx_acc_train: 0.998 -- dx_acc_val: 0.738 -- cx_f1_train: 0.317 -- cx_f1_val: 0.343 -- soft_iou_train: 0.146 -- soft_iou_val: 0.135 -- lr: 0.000 -- completed in 1.5 mins\n"
     ]
    },
    {
     "name": "stderr",
     "output_type": "stream",
     "text": [
      "Epoch 30/120: 100%|██████████| 16/16 [01:26<00:00,  5.44s/it]\n"
     ]
    },
    {
     "name": "stdout",
     "output_type": "stream",
     "text": [
      "Epoch 30: dx_train: 0.027 -- dx_val: 1.139 -- cx_train: 1.193 -- cx_val: 1.020 -- attn_train: 0.488 -- attn_val: 0.491 -- loss_train: 0.027 -- loss_val: 1.139 -- dx_acc_train: 0.988 -- dx_acc_val: 0.720 -- cx_f1_train: 0.322 -- cx_f1_val: 0.331 -- soft_iou_train: 0.138 -- soft_iou_val: 0.148 -- lr: 0.000 -- completed in 1.5 mins\n"
     ]
    },
    {
     "name": "stderr",
     "output_type": "stream",
     "text": [
      "Epoch 31/120: 100%|██████████| 16/16 [01:22<00:00,  5.17s/it]\n"
     ]
    },
    {
     "name": "stdout",
     "output_type": "stream",
     "text": [
      "Epoch 31: dx_train: 0.011 -- dx_val: 1.016 -- cx_train: 1.190 -- cx_val: 1.006 -- attn_train: 0.481 -- attn_val: 0.491 -- loss_train: 0.011 -- loss_val: 1.016 -- dx_acc_train: 0.998 -- dx_acc_val: 0.757 -- cx_f1_train: 0.325 -- cx_f1_val: 0.362 -- soft_iou_train: 0.151 -- soft_iou_val: 0.134 -- lr: 0.000 -- completed in 1.5 mins\n"
     ]
    },
    {
     "name": "stderr",
     "output_type": "stream",
     "text": [
      "Epoch 32/120: 100%|██████████| 16/16 [01:23<00:00,  5.23s/it]\n"
     ]
    },
    {
     "name": "stdout",
     "output_type": "stream",
     "text": [
      "Epoch 32: dx_train: 0.010 -- dx_val: 1.079 -- cx_train: 1.203 -- cx_val: 1.020 -- attn_train: 0.488 -- attn_val: 0.491 -- loss_train: 0.010 -- loss_val: 1.079 -- dx_acc_train: 0.998 -- dx_acc_val: 0.754 -- cx_f1_train: 0.323 -- cx_f1_val: 0.360 -- soft_iou_train: 0.139 -- soft_iou_val: 0.131 -- lr: 0.000 -- completed in 1.5 mins\n"
     ]
    },
    {
     "name": "stderr",
     "output_type": "stream",
     "text": [
      "Epoch 33/120: 100%|██████████| 16/16 [01:21<00:00,  5.07s/it]\n"
     ]
    },
    {
     "name": "stdout",
     "output_type": "stream",
     "text": [
      "Epoch 33: dx_train: 0.027 -- dx_val: 1.128 -- cx_train: 1.201 -- cx_val: 1.045 -- attn_train: 0.484 -- attn_val: 0.492 -- loss_train: 0.027 -- loss_val: 1.128 -- dx_acc_train: 0.992 -- dx_acc_val: 0.754 -- cx_f1_train: 0.322 -- cx_f1_val: 0.368 -- soft_iou_train: 0.144 -- soft_iou_val: 0.132 -- lr: 0.000 -- completed in 1.4 mins\n"
     ]
    },
    {
     "name": "stderr",
     "output_type": "stream",
     "text": [
      "Epoch 34/120: 100%|██████████| 16/16 [01:25<00:00,  5.35s/it]\n"
     ]
    },
    {
     "name": "stdout",
     "output_type": "stream",
     "text": [
      "Epoch 34: dx_train: 0.019 -- dx_val: 1.005 -- cx_train: 1.218 -- cx_val: 1.030 -- attn_train: 0.488 -- attn_val: 0.491 -- loss_train: 0.019 -- loss_val: 1.005 -- dx_acc_train: 0.988 -- dx_acc_val: 0.751 -- cx_f1_train: 0.317 -- cx_f1_val: 0.359 -- soft_iou_train: 0.145 -- soft_iou_val: 0.133 -- lr: 0.000 -- completed in 1.5 mins\n"
     ]
    },
    {
     "name": "stderr",
     "output_type": "stream",
     "text": [
      "Epoch 35/120: 100%|██████████| 16/16 [01:27<00:00,  5.47s/it]\n"
     ]
    },
    {
     "name": "stdout",
     "output_type": "stream",
     "text": [
      "Epoch 35: dx_train: 0.010 -- dx_val: 0.955 -- cx_train: 1.217 -- cx_val: 1.038 -- attn_train: 0.486 -- attn_val: 0.490 -- loss_train: 0.010 -- loss_val: 0.955 -- dx_acc_train: 0.996 -- dx_acc_val: 0.745 -- cx_f1_train: 0.319 -- cx_f1_val: 0.362 -- soft_iou_train: 0.144 -- soft_iou_val: 0.130 -- lr: 0.000 -- completed in 1.5 mins\n"
     ]
    },
    {
     "name": "stderr",
     "output_type": "stream",
     "text": [
      "Epoch 36/120: 100%|██████████| 16/16 [01:29<00:00,  5.62s/it]\n"
     ]
    },
    {
     "name": "stdout",
     "output_type": "stream",
     "text": [
      "Epoch 36: dx_train: 0.012 -- dx_val: 1.031 -- cx_train: 1.210 -- cx_val: 1.051 -- attn_train: 0.486 -- attn_val: 0.493 -- loss_train: 0.012 -- loss_val: 1.031 -- dx_acc_train: 0.998 -- dx_acc_val: 0.738 -- cx_f1_train: 0.325 -- cx_f1_val: 0.340 -- soft_iou_train: 0.139 -- soft_iou_val: 0.132 -- lr: 0.000 -- completed in 1.6 mins\n"
     ]
    },
    {
     "name": "stderr",
     "output_type": "stream",
     "text": [
      "Epoch 37/120: 100%|██████████| 16/16 [01:25<00:00,  5.33s/it]\n"
     ]
    },
    {
     "name": "stdout",
     "output_type": "stream",
     "text": [
      "Epoch 37: dx_train: 0.030 -- dx_val: 1.079 -- cx_train: 1.207 -- cx_val: 1.077 -- attn_train: 0.483 -- attn_val: 0.489 -- loss_train: 0.030 -- loss_val: 1.079 -- dx_acc_train: 0.994 -- dx_acc_val: 0.748 -- cx_f1_train: 0.325 -- cx_f1_val: 0.342 -- soft_iou_train: 0.146 -- soft_iou_val: 0.140 -- lr: 0.000 -- completed in 1.5 mins\n"
     ]
    },
    {
     "name": "stderr",
     "output_type": "stream",
     "text": [
      "Epoch 38/120: 100%|██████████| 16/16 [01:27<00:00,  5.48s/it]\n"
     ]
    },
    {
     "name": "stdout",
     "output_type": "stream",
     "text": [
      "Epoch 38: dx_train: 0.017 -- dx_val: 0.923 -- cx_train: 1.222 -- cx_val: 1.040 -- attn_train: 0.478 -- attn_val: 0.493 -- loss_train: 0.017 -- loss_val: 0.923 -- dx_acc_train: 0.995 -- dx_acc_val: 0.772 -- cx_f1_train: 0.319 -- cx_f1_val: 0.365 -- soft_iou_train: 0.156 -- soft_iou_val: 0.131 -- lr: 0.000 -- completed in 1.5 mins\n"
     ]
    },
    {
     "name": "stderr",
     "output_type": "stream",
     "text": [
      "Epoch 39/120: 100%|██████████| 16/16 [01:26<00:00,  5.41s/it]\n"
     ]
    },
    {
     "name": "stdout",
     "output_type": "stream",
     "text": [
      "Epoch 39: dx_train: 0.009 -- dx_val: 1.028 -- cx_train: 1.208 -- cx_val: 1.060 -- attn_train: 0.487 -- attn_val: 0.491 -- loss_train: 0.009 -- loss_val: 1.028 -- dx_acc_train: 0.998 -- dx_acc_val: 0.757 -- cx_f1_train: 0.318 -- cx_f1_val: 0.364 -- soft_iou_train: 0.141 -- soft_iou_val: 0.131 -- lr: 0.001 -- completed in 1.5 mins\n"
     ]
    },
    {
     "name": "stderr",
     "output_type": "stream",
     "text": [
      "Epoch 40/120: 100%|██████████| 16/16 [01:25<00:00,  5.37s/it]\n"
     ]
    },
    {
     "name": "stdout",
     "output_type": "stream",
     "text": [
      "Epoch 40: dx_train: 0.008 -- dx_val: 1.115 -- cx_train: 1.246 -- cx_val: 1.062 -- attn_train: 0.485 -- attn_val: 0.495 -- loss_train: 0.008 -- loss_val: 1.115 -- dx_acc_train: 0.997 -- dx_acc_val: 0.776 -- cx_f1_train: 0.317 -- cx_f1_val: 0.350 -- soft_iou_train: 0.150 -- soft_iou_val: 0.131 -- lr: 0.000 -- completed in 1.5 mins\n"
     ]
    },
    {
     "name": "stderr",
     "output_type": "stream",
     "text": [
      "Epoch 41/120: 100%|██████████| 16/16 [01:24<00:00,  5.28s/it]\n"
     ]
    },
    {
     "name": "stdout",
     "output_type": "stream",
     "text": [
      "Epoch 41: dx_train: 0.015 -- dx_val: 1.093 -- cx_train: 1.241 -- cx_val: 1.079 -- attn_train: 0.485 -- attn_val: 0.506 -- loss_train: 0.015 -- loss_val: 1.093 -- dx_acc_train: 0.994 -- dx_acc_val: 0.745 -- cx_f1_train: 0.324 -- cx_f1_val: 0.346 -- soft_iou_train: 0.141 -- soft_iou_val: 0.124 -- lr: 0.000 -- completed in 1.5 mins\n"
     ]
    },
    {
     "name": "stderr",
     "output_type": "stream",
     "text": [
      "Epoch 42/120: 100%|██████████| 16/16 [01:24<00:00,  5.30s/it]\n"
     ]
    },
    {
     "name": "stdout",
     "output_type": "stream",
     "text": [
      "Epoch 42: dx_train: 0.010 -- dx_val: 1.020 -- cx_train: 1.253 -- cx_val: 1.107 -- attn_train: 0.484 -- attn_val: 0.497 -- loss_train: 0.010 -- loss_val: 1.020 -- dx_acc_train: 0.996 -- dx_acc_val: 0.804 -- cx_f1_train: 0.321 -- cx_f1_val: 0.329 -- soft_iou_train: 0.146 -- soft_iou_val: 0.134 -- lr: 0.000 -- completed in 1.5 mins\n"
     ]
    },
    {
     "name": "stderr",
     "output_type": "stream",
     "text": [
      "Epoch 43/120: 100%|██████████| 16/16 [01:25<00:00,  5.37s/it]\n"
     ]
    },
    {
     "name": "stdout",
     "output_type": "stream",
     "text": [
      "Epoch 43: dx_train: 0.025 -- dx_val: 1.139 -- cx_train: 1.309 -- cx_val: 1.090 -- attn_train: 0.486 -- attn_val: 0.488 -- loss_train: 0.025 -- loss_val: 1.139 -- dx_acc_train: 0.991 -- dx_acc_val: 0.791 -- cx_f1_train: 0.316 -- cx_f1_val: 0.338 -- soft_iou_train: 0.147 -- soft_iou_val: 0.144 -- lr: 0.000 -- completed in 1.5 mins\n"
     ]
    },
    {
     "name": "stderr",
     "output_type": "stream",
     "text": [
      "Epoch 44/120: 100%|██████████| 16/16 [01:25<00:00,  5.36s/it]\n"
     ]
    },
    {
     "name": "stdout",
     "output_type": "stream",
     "text": [
      "Epoch 44: dx_train: 0.084 -- dx_val: 1.221 -- cx_train: 1.266 -- cx_val: 1.061 -- attn_train: 0.483 -- attn_val: 0.485 -- loss_train: 0.084 -- loss_val: 1.221 -- dx_acc_train: 0.977 -- dx_acc_val: 0.723 -- cx_f1_train: 0.318 -- cx_f1_val: 0.374 -- soft_iou_train: 0.147 -- soft_iou_val: 0.137 -- lr: 0.000 -- completed in 1.5 mins\n"
     ]
    },
    {
     "name": "stderr",
     "output_type": "stream",
     "text": [
      "Epoch 45/120: 100%|██████████| 16/16 [01:22<00:00,  5.14s/it]\n"
     ]
    },
    {
     "name": "stdout",
     "output_type": "stream",
     "text": [
      "Epoch 45: dx_train: 0.095 -- dx_val: 1.481 -- cx_train: 1.277 -- cx_val: 1.210 -- attn_train: 0.487 -- attn_val: 0.496 -- loss_train: 0.095 -- loss_val: 1.481 -- dx_acc_train: 0.969 -- dx_acc_val: 0.738 -- cx_f1_train: 0.301 -- cx_f1_val: 0.333 -- soft_iou_train: 0.141 -- soft_iou_val: 0.131 -- lr: 0.000 -- completed in 1.5 mins\n"
     ]
    },
    {
     "name": "stderr",
     "output_type": "stream",
     "text": [
      "Epoch 46/120: 100%|██████████| 16/16 [01:23<00:00,  5.22s/it]\n"
     ]
    },
    {
     "name": "stdout",
     "output_type": "stream",
     "text": [
      "Epoch 46: dx_train: 0.207 -- dx_val: 1.167 -- cx_train: 1.187 -- cx_val: 1.211 -- attn_train: 0.486 -- attn_val: 0.488 -- loss_train: 0.207 -- loss_val: 1.167 -- dx_acc_train: 0.926 -- dx_acc_val: 0.753 -- cx_f1_train: 0.309 -- cx_f1_val: 0.339 -- soft_iou_train: 0.141 -- soft_iou_val: 0.136 -- lr: 0.000 -- completed in 1.5 mins\n"
     ]
    },
    {
     "name": "stderr",
     "output_type": "stream",
     "text": [
      "Epoch 47/120: 100%|██████████| 16/16 [01:29<00:00,  5.61s/it]\n"
     ]
    },
    {
     "name": "stdout",
     "output_type": "stream",
     "text": [
      "Epoch 47: dx_train: 0.271 -- dx_val: 1.334 -- cx_train: 1.187 -- cx_val: 1.277 -- attn_train: 0.487 -- attn_val: 0.501 -- loss_train: 0.271 -- loss_val: 1.334 -- dx_acc_train: 0.916 -- dx_acc_val: 0.670 -- cx_f1_train: 0.307 -- cx_f1_val: 0.323 -- soft_iou_train: 0.145 -- soft_iou_val: 0.138 -- lr: 0.000 -- completed in 1.6 mins\n"
     ]
    },
    {
     "name": "stderr",
     "output_type": "stream",
     "text": [
      "Epoch 48/120: 100%|██████████| 16/16 [01:25<00:00,  5.37s/it]\n"
     ]
    },
    {
     "name": "stdout",
     "output_type": "stream",
     "text": [
      "Epoch 48: dx_train: 0.291 -- dx_val: 1.269 -- cx_train: 1.084 -- cx_val: 1.126 -- attn_train: 0.494 -- attn_val: 0.511 -- loss_train: 0.291 -- loss_val: 1.269 -- dx_acc_train: 0.896 -- dx_acc_val: 0.766 -- cx_f1_train: 0.294 -- cx_f1_val: 0.300 -- soft_iou_train: 0.126 -- soft_iou_val: 0.126 -- lr: 0.000 -- completed in 1.5 mins\n"
     ]
    },
    {
     "name": "stderr",
     "output_type": "stream",
     "text": [
      "Epoch 49/120: 100%|██████████| 16/16 [01:25<00:00,  5.34s/it]\n"
     ]
    },
    {
     "name": "stdout",
     "output_type": "stream",
     "text": [
      "Epoch 49: dx_train: 0.099 -- dx_val: 1.352 -- cx_train: 1.118 -- cx_val: 1.146 -- attn_train: 0.496 -- attn_val: 0.508 -- loss_train: 0.099 -- loss_val: 1.352 -- dx_acc_train: 0.979 -- dx_acc_val: 0.738 -- cx_f1_train: 0.294 -- cx_f1_val: 0.303 -- soft_iou_train: 0.124 -- soft_iou_val: 0.143 -- lr: 0.000 -- completed in 1.5 mins\n"
     ]
    },
    {
     "name": "stderr",
     "output_type": "stream",
     "text": [
      "Epoch 50/120: 100%|██████████| 16/16 [01:25<00:00,  5.34s/it]\n"
     ]
    },
    {
     "name": "stdout",
     "output_type": "stream",
     "text": [
      "Epoch 50: dx_train: 0.067 -- dx_val: 1.351 -- cx_train: 1.215 -- cx_val: 1.127 -- attn_train: 0.493 -- attn_val: 0.502 -- loss_train: 0.067 -- loss_val: 1.351 -- dx_acc_train: 0.982 -- dx_acc_val: 0.766 -- cx_f1_train: 0.298 -- cx_f1_val: 0.325 -- soft_iou_train: 0.132 -- soft_iou_val: 0.140 -- lr: 0.000 -- completed in 1.5 mins\n"
     ]
    },
    {
     "name": "stderr",
     "output_type": "stream",
     "text": [
      "Epoch 51/120: 100%|██████████| 16/16 [01:23<00:00,  5.19s/it]\n"
     ]
    },
    {
     "name": "stdout",
     "output_type": "stream",
     "text": [
      "Epoch 51: dx_train: 0.064 -- dx_val: 1.310 -- cx_train: 1.277 -- cx_val: 1.275 -- attn_train: 0.492 -- attn_val: 0.517 -- loss_train: 0.064 -- loss_val: 1.310 -- dx_acc_train: 0.977 -- dx_acc_val: 0.863 -- cx_f1_train: 0.293 -- cx_f1_val: 0.292 -- soft_iou_train: 0.137 -- soft_iou_val: 0.133 -- lr: 0.000 -- completed in 1.5 mins\n"
     ]
    },
    {
     "name": "stderr",
     "output_type": "stream",
     "text": [
      "Epoch 52/120: 100%|██████████| 16/16 [01:24<00:00,  5.26s/it]\n"
     ]
    },
    {
     "name": "stdout",
     "output_type": "stream",
     "text": [
      "Epoch 52: dx_train: 0.037 -- dx_val: 1.301 -- cx_train: 1.413 -- cx_val: 1.265 -- attn_train: 0.490 -- attn_val: 0.508 -- loss_train: 0.037 -- loss_val: 1.301 -- dx_acc_train: 0.987 -- dx_acc_val: 0.819 -- cx_f1_train: 0.306 -- cx_f1_val: 0.310 -- soft_iou_train: 0.138 -- soft_iou_val: 0.133 -- lr: 0.000 -- completed in 1.5 mins\n"
     ]
    },
    {
     "name": "stderr",
     "output_type": "stream",
     "text": [
      "Epoch 53/120: 100%|██████████| 16/16 [01:22<00:00,  5.15s/it]\n"
     ]
    },
    {
     "name": "stdout",
     "output_type": "stream",
     "text": [
      "Epoch 53: dx_train: 0.072 -- dx_val: 1.210 -- cx_train: 1.429 -- cx_val: 1.295 -- attn_train: 0.494 -- attn_val: 0.497 -- loss_train: 0.072 -- loss_val: 1.210 -- dx_acc_train: 0.974 -- dx_acc_val: 0.785 -- cx_f1_train: 0.295 -- cx_f1_val: 0.346 -- soft_iou_train: 0.134 -- soft_iou_val: 0.131 -- lr: 0.000 -- completed in 1.5 mins\n"
     ]
    },
    {
     "name": "stderr",
     "output_type": "stream",
     "text": [
      "Epoch 54/120: 100%|██████████| 16/16 [01:28<00:00,  5.51s/it]\n"
     ]
    },
    {
     "name": "stdout",
     "output_type": "stream",
     "text": [
      "Epoch 54: dx_train: 0.065 -- dx_val: 1.280 -- cx_train: 1.427 -- cx_val: 1.265 -- attn_train: 0.491 -- attn_val: 0.497 -- loss_train: 0.065 -- loss_val: 1.280 -- dx_acc_train: 0.977 -- dx_acc_val: 0.723 -- cx_f1_train: 0.306 -- cx_f1_val: 0.370 -- soft_iou_train: 0.133 -- soft_iou_val: 0.134 -- lr: 0.000 -- completed in 1.6 mins\n"
     ]
    },
    {
     "name": "stderr",
     "output_type": "stream",
     "text": [
      "Epoch 55/120: 100%|██████████| 16/16 [01:21<00:00,  5.09s/it]\n"
     ]
    },
    {
     "name": "stdout",
     "output_type": "stream",
     "text": [
      "Epoch 55: dx_train: 0.087 -- dx_val: 0.960 -- cx_train: 1.474 -- cx_val: 1.283 -- attn_train: 0.490 -- attn_val: 0.507 -- loss_train: 0.087 -- loss_val: 0.960 -- dx_acc_train: 0.973 -- dx_acc_val: 0.738 -- cx_f1_train: 0.310 -- cx_f1_val: 0.331 -- soft_iou_train: 0.135 -- soft_iou_val: 0.133 -- lr: 0.000 -- completed in 1.4 mins\n"
     ]
    },
    {
     "name": "stderr",
     "output_type": "stream",
     "text": [
      "Epoch 56/120: 100%|██████████| 16/16 [01:21<00:00,  5.11s/it]\n"
     ]
    },
    {
     "name": "stdout",
     "output_type": "stream",
     "text": [
      "Epoch 56: dx_train: 0.040 -- dx_val: 1.211 -- cx_train: 1.445 -- cx_val: 1.367 -- attn_train: 0.497 -- attn_val: 0.501 -- loss_train: 0.040 -- loss_val: 1.211 -- dx_acc_train: 0.987 -- dx_acc_val: 0.738 -- cx_f1_train: 0.306 -- cx_f1_val: 0.330 -- soft_iou_train: 0.126 -- soft_iou_val: 0.138 -- lr: 0.000 -- completed in 1.4 mins\n"
     ]
    },
    {
     "name": "stderr",
     "output_type": "stream",
     "text": [
      "Epoch 57/120: 100%|██████████| 16/16 [01:25<00:00,  5.32s/it]\n"
     ]
    },
    {
     "name": "stdout",
     "output_type": "stream",
     "text": [
      "Epoch 57: dx_train: 0.058 -- dx_val: 1.345 -- cx_train: 1.460 -- cx_val: 1.300 -- attn_train: 0.495 -- attn_val: 0.503 -- loss_train: 0.058 -- loss_val: 1.345 -- dx_acc_train: 0.976 -- dx_acc_val: 0.782 -- cx_f1_train: 0.307 -- cx_f1_val: 0.335 -- soft_iou_train: 0.133 -- soft_iou_val: 0.131 -- lr: 0.000 -- completed in 1.5 mins\n"
     ]
    },
    {
     "name": "stderr",
     "output_type": "stream",
     "text": [
      "Epoch 58/120: 100%|██████████| 16/16 [01:26<00:00,  5.39s/it]\n"
     ]
    },
    {
     "name": "stdout",
     "output_type": "stream",
     "text": [
      "Epoch 58: dx_train: 0.039 -- dx_val: 1.505 -- cx_train: 1.493 -- cx_val: 1.366 -- attn_train: 0.496 -- attn_val: 0.511 -- loss_train: 0.039 -- loss_val: 1.505 -- dx_acc_train: 0.990 -- dx_acc_val: 0.757 -- cx_f1_train: 0.299 -- cx_f1_val: 0.323 -- soft_iou_train: 0.133 -- soft_iou_val: 0.125 -- lr: 0.000 -- completed in 1.5 mins\n"
     ]
    },
    {
     "name": "stderr",
     "output_type": "stream",
     "text": [
      "Epoch 59/120: 100%|██████████| 16/16 [01:30<00:00,  5.63s/it]\n"
     ]
    },
    {
     "name": "stdout",
     "output_type": "stream",
     "text": [
      "Epoch 59: dx_train: 0.050 -- dx_val: 1.154 -- cx_train: 1.567 -- cx_val: 1.275 -- attn_train: 0.496 -- attn_val: 0.508 -- loss_train: 0.050 -- loss_val: 1.154 -- dx_acc_train: 0.984 -- dx_acc_val: 0.751 -- cx_f1_train: 0.304 -- cx_f1_val: 0.331 -- soft_iou_train: 0.129 -- soft_iou_val: 0.134 -- lr: 0.000 -- completed in 1.6 mins\n"
     ]
    },
    {
     "name": "stderr",
     "output_type": "stream",
     "text": [
      "Epoch 60/120: 100%|██████████| 16/16 [01:26<00:00,  5.39s/it]\n"
     ]
    },
    {
     "name": "stdout",
     "output_type": "stream",
     "text": [
      "Epoch 60: dx_train: 0.068 -- dx_val: 1.238 -- cx_train: 1.593 -- cx_val: 1.343 -- attn_train: 0.494 -- attn_val: 0.501 -- loss_train: 0.068 -- loss_val: 1.238 -- dx_acc_train: 0.980 -- dx_acc_val: 0.764 -- cx_f1_train: 0.294 -- cx_f1_val: 0.334 -- soft_iou_train: 0.137 -- soft_iou_val: 0.137 -- lr: 0.000 -- completed in 1.5 mins\n"
     ]
    },
    {
     "name": "stderr",
     "output_type": "stream",
     "text": [
      "Epoch 61/120: 100%|██████████| 16/16 [01:30<00:00,  5.67s/it]\n"
     ]
    },
    {
     "name": "stdout",
     "output_type": "stream",
     "text": [
      "Epoch 61: dx_train: 0.083 -- dx_val: 1.369 -- cx_train: 1.569 -- cx_val: 1.368 -- attn_train: 0.490 -- attn_val: 0.495 -- loss_train: 0.083 -- loss_val: 1.369 -- dx_acc_train: 0.983 -- dx_acc_val: 0.760 -- cx_f1_train: 0.301 -- cx_f1_val: 0.357 -- soft_iou_train: 0.142 -- soft_iou_val: 0.133 -- lr: 0.000 -- completed in 1.6 mins\n"
     ]
    },
    {
     "name": "stderr",
     "output_type": "stream",
     "text": [
      "Epoch 62/120: 100%|██████████| 16/16 [01:22<00:00,  5.18s/it]\n"
     ]
    },
    {
     "name": "stdout",
     "output_type": "stream",
     "text": [
      "Epoch 62: dx_train: 0.031 -- dx_val: 1.191 -- cx_train: 1.541 -- cx_val: 1.235 -- attn_train: 0.486 -- attn_val: 0.502 -- loss_train: 0.031 -- loss_val: 1.191 -- dx_acc_train: 0.987 -- dx_acc_val: 0.766 -- cx_f1_train: 0.311 -- cx_f1_val: 0.347 -- soft_iou_train: 0.148 -- soft_iou_val: 0.133 -- lr: 0.000 -- completed in 1.5 mins\n"
     ]
    },
    {
     "name": "stderr",
     "output_type": "stream",
     "text": [
      "Epoch 63/120: 100%|██████████| 16/16 [01:23<00:00,  5.21s/it]\n"
     ]
    },
    {
     "name": "stdout",
     "output_type": "stream",
     "text": [
      "Epoch 63: dx_train: 0.077 -- dx_val: 0.884 -- cx_train: 1.500 -- cx_val: 1.271 -- attn_train: 0.486 -- attn_val: 0.509 -- loss_train: 0.077 -- loss_val: 0.884 -- dx_acc_train: 0.982 -- dx_acc_val: 0.776 -- cx_f1_train: 0.321 -- cx_f1_val: 0.327 -- soft_iou_train: 0.139 -- soft_iou_val: 0.126 -- lr: 0.000 -- completed in 1.5 mins\n"
     ]
    },
    {
     "name": "stderr",
     "output_type": "stream",
     "text": [
      "Epoch 64/120: 100%|██████████| 16/16 [01:28<00:00,  5.51s/it]\n"
     ]
    },
    {
     "name": "stdout",
     "output_type": "stream",
     "text": [
      "Epoch 64: dx_train: 0.039 -- dx_val: 0.796 -- cx_train: 1.509 -- cx_val: 1.359 -- attn_train: 0.494 -- attn_val: 0.515 -- loss_train: 0.039 -- loss_val: 0.796 -- dx_acc_train: 0.990 -- dx_acc_val: 0.801 -- cx_f1_train: 0.310 -- cx_f1_val: 0.328 -- soft_iou_train: 0.128 -- soft_iou_val: 0.121 -- lr: 0.000 -- completed in 1.5 mins\n"
     ]
    },
    {
     "name": "stderr",
     "output_type": "stream",
     "text": [
      "Epoch 65/120: 100%|██████████| 16/16 [01:24<00:00,  5.28s/it]\n"
     ]
    },
    {
     "name": "stdout",
     "output_type": "stream",
     "text": [
      "Epoch 65: dx_train: 0.023 -- dx_val: 0.865 -- cx_train: 1.522 -- cx_val: 1.307 -- attn_train: 0.495 -- attn_val: 0.512 -- loss_train: 0.023 -- loss_val: 0.865 -- dx_acc_train: 0.996 -- dx_acc_val: 0.813 -- cx_f1_train: 0.315 -- cx_f1_val: 0.342 -- soft_iou_train: 0.128 -- soft_iou_val: 0.122 -- lr: 0.000 -- completed in 1.5 mins\n"
     ]
    },
    {
     "name": "stderr",
     "output_type": "stream",
     "text": [
      "Epoch 66/120: 100%|██████████| 16/16 [01:22<00:00,  5.13s/it]\n"
     ]
    },
    {
     "name": "stdout",
     "output_type": "stream",
     "text": [
      "Epoch 66: dx_train: 0.023 -- dx_val: 1.107 -- cx_train: 1.568 -- cx_val: 1.260 -- attn_train: 0.496 -- attn_val: 0.503 -- loss_train: 0.023 -- loss_val: 1.107 -- dx_acc_train: 0.996 -- dx_acc_val: 0.813 -- cx_f1_train: 0.312 -- cx_f1_val: 0.350 -- soft_iou_train: 0.127 -- soft_iou_val: 0.124 -- lr: 0.000 -- completed in 1.4 mins\n"
     ]
    },
    {
     "name": "stderr",
     "output_type": "stream",
     "text": [
      "Epoch 67/120: 100%|██████████| 16/16 [01:27<00:00,  5.46s/it]\n"
     ]
    },
    {
     "name": "stdout",
     "output_type": "stream",
     "text": [
      "Epoch 67: dx_train: 0.028 -- dx_val: 0.795 -- cx_train: 1.585 -- cx_val: 1.417 -- attn_train: 0.491 -- attn_val: 0.511 -- loss_train: 0.028 -- loss_val: 0.795 -- dx_acc_train: 0.987 -- dx_acc_val: 0.810 -- cx_f1_train: 0.307 -- cx_f1_val: 0.333 -- soft_iou_train: 0.134 -- soft_iou_val: 0.122 -- lr: 0.000 -- completed in 1.5 mins\n"
     ]
    },
    {
     "name": "stderr",
     "output_type": "stream",
     "text": [
      "Epoch 68/120: 100%|██████████| 16/16 [01:23<00:00,  5.23s/it]\n"
     ]
    },
    {
     "name": "stdout",
     "output_type": "stream",
     "text": [
      "Epoch 68: dx_train: 0.030 -- dx_val: 0.843 -- cx_train: 1.573 -- cx_val: 1.422 -- attn_train: 0.496 -- attn_val: 0.506 -- loss_train: 0.030 -- loss_val: 0.843 -- dx_acc_train: 0.994 -- dx_acc_val: 0.813 -- cx_f1_train: 0.302 -- cx_f1_val: 0.337 -- soft_iou_train: 0.135 -- soft_iou_val: 0.129 -- lr: 0.000 -- completed in 1.5 mins\n"
     ]
    },
    {
     "name": "stderr",
     "output_type": "stream",
     "text": [
      "Epoch 69/120: 100%|██████████| 16/16 [01:25<00:00,  5.32s/it]\n"
     ]
    },
    {
     "name": "stdout",
     "output_type": "stream",
     "text": [
      "Epoch 69: dx_train: 0.009 -- dx_val: 0.933 -- cx_train: 1.580 -- cx_val: 1.475 -- attn_train: 0.497 -- attn_val: 0.503 -- loss_train: 0.009 -- loss_val: 0.933 -- dx_acc_train: 0.998 -- dx_acc_val: 0.801 -- cx_f1_train: 0.311 -- cx_f1_val: 0.328 -- soft_iou_train: 0.127 -- soft_iou_val: 0.128 -- lr: 0.000 -- completed in 1.5 mins\n"
     ]
    },
    {
     "name": "stderr",
     "output_type": "stream",
     "text": [
      "Epoch 70/120: 100%|██████████| 16/16 [01:22<00:00,  5.17s/it]\n"
     ]
    },
    {
     "name": "stdout",
     "output_type": "stream",
     "text": [
      "Epoch 70: dx_train: 0.020 -- dx_val: 1.050 -- cx_train: 1.617 -- cx_val: 1.415 -- attn_train: 0.494 -- attn_val: 0.502 -- loss_train: 0.020 -- loss_val: 1.050 -- dx_acc_train: 0.992 -- dx_acc_val: 0.813 -- cx_f1_train: 0.300 -- cx_f1_val: 0.332 -- soft_iou_train: 0.134 -- soft_iou_val: 0.138 -- lr: 0.000 -- completed in 1.5 mins\n"
     ]
    },
    {
     "name": "stderr",
     "output_type": "stream",
     "text": [
      "Epoch 71/120: 100%|██████████| 16/16 [01:29<00:00,  5.59s/it]\n"
     ]
    },
    {
     "name": "stdout",
     "output_type": "stream",
     "text": [
      "Epoch 71: dx_train: 0.013 -- dx_val: 0.898 -- cx_train: 1.639 -- cx_val: 1.447 -- attn_train: 0.496 -- attn_val: 0.503 -- loss_train: 0.013 -- loss_val: 0.898 -- dx_acc_train: 0.996 -- dx_acc_val: 0.804 -- cx_f1_train: 0.307 -- cx_f1_val: 0.326 -- soft_iou_train: 0.131 -- soft_iou_val: 0.135 -- lr: 0.000 -- completed in 1.6 mins\n"
     ]
    },
    {
     "name": "stderr",
     "output_type": "stream",
     "text": [
      "Epoch 72/120: 100%|██████████| 16/16 [01:20<00:00,  5.03s/it]\n"
     ]
    },
    {
     "name": "stdout",
     "output_type": "stream",
     "text": [
      "Epoch 72: dx_train: 0.010 -- dx_val: 0.884 -- cx_train: 1.671 -- cx_val: 1.438 -- attn_train: 0.494 -- attn_val: 0.502 -- loss_train: 0.010 -- loss_val: 0.884 -- dx_acc_train: 1.000 -- dx_acc_val: 0.810 -- cx_f1_train: 0.309 -- cx_f1_val: 0.329 -- soft_iou_train: 0.137 -- soft_iou_val: 0.140 -- lr: 0.000 -- completed in 1.4 mins\n"
     ]
    },
    {
     "name": "stderr",
     "output_type": "stream",
     "text": [
      "Epoch 73/120: 100%|██████████| 16/16 [01:30<00:00,  5.63s/it]\n"
     ]
    },
    {
     "name": "stdout",
     "output_type": "stream",
     "text": [
      "Epoch 73: dx_train: 0.017 -- dx_val: 0.805 -- cx_train: 1.671 -- cx_val: 1.412 -- attn_train: 0.494 -- attn_val: 0.501 -- loss_train: 0.017 -- loss_val: 0.805 -- dx_acc_train: 0.993 -- dx_acc_val: 0.822 -- cx_f1_train: 0.319 -- cx_f1_val: 0.342 -- soft_iou_train: 0.134 -- soft_iou_val: 0.136 -- lr: 0.000 -- completed in 1.6 mins\n"
     ]
    },
    {
     "name": "stderr",
     "output_type": "stream",
     "text": [
      "Epoch 74/120: 100%|██████████| 16/16 [01:25<00:00,  5.34s/it]\n"
     ]
    },
    {
     "name": "stdout",
     "output_type": "stream",
     "text": [
      "Epoch 74: dx_train: 0.016 -- dx_val: 0.750 -- cx_train: 1.693 -- cx_val: 1.494 -- attn_train: 0.493 -- attn_val: 0.505 -- loss_train: 0.016 -- loss_val: 0.750 -- dx_acc_train: 0.994 -- dx_acc_val: 0.847 -- cx_f1_train: 0.313 -- cx_f1_val: 0.342 -- soft_iou_train: 0.137 -- soft_iou_val: 0.127 -- lr: 0.000 -- completed in 1.5 mins\n"
     ]
    },
    {
     "name": "stderr",
     "output_type": "stream",
     "text": [
      "Epoch 75/120: 100%|██████████| 16/16 [01:24<00:00,  5.28s/it]\n"
     ]
    },
    {
     "name": "stdout",
     "output_type": "stream",
     "text": [
      "Epoch 75: dx_train: 0.027 -- dx_val: 0.986 -- cx_train: 1.719 -- cx_val: 1.485 -- attn_train: 0.494 -- attn_val: 0.504 -- loss_train: 0.027 -- loss_val: 0.986 -- dx_acc_train: 0.989 -- dx_acc_val: 0.801 -- cx_f1_train: 0.314 -- cx_f1_val: 0.342 -- soft_iou_train: 0.135 -- soft_iou_val: 0.130 -- lr: 0.000 -- completed in 1.5 mins\n"
     ]
    },
    {
     "name": "stderr",
     "output_type": "stream",
     "text": [
      "Epoch 76/120: 100%|██████████| 16/16 [01:29<00:00,  5.59s/it]\n"
     ]
    },
    {
     "name": "stdout",
     "output_type": "stream",
     "text": [
      "Epoch 76: dx_train: 0.006 -- dx_val: 0.835 -- cx_train: 1.703 -- cx_val: 1.501 -- attn_train: 0.491 -- attn_val: 0.493 -- loss_train: 0.006 -- loss_val: 0.835 -- dx_acc_train: 0.998 -- dx_acc_val: 0.825 -- cx_f1_train: 0.319 -- cx_f1_val: 0.358 -- soft_iou_train: 0.134 -- soft_iou_val: 0.141 -- lr: 0.000 -- completed in 1.6 mins\n"
     ]
    },
    {
     "name": "stderr",
     "output_type": "stream",
     "text": [
      "Epoch 77/120: 100%|██████████| 16/16 [01:27<00:00,  5.49s/it]\n"
     ]
    },
    {
     "name": "stdout",
     "output_type": "stream",
     "text": [
      "Epoch 77: dx_train: 0.021 -- dx_val: 1.040 -- cx_train: 1.706 -- cx_val: 1.556 -- attn_train: 0.495 -- attn_val: 0.493 -- loss_train: 0.021 -- loss_val: 1.040 -- dx_acc_train: 0.994 -- dx_acc_val: 0.770 -- cx_f1_train: 0.310 -- cx_f1_val: 0.367 -- soft_iou_train: 0.131 -- soft_iou_val: 0.132 -- lr: 0.000 -- completed in 1.5 mins\n"
     ]
    },
    {
     "name": "stderr",
     "output_type": "stream",
     "text": [
      "Epoch 78/120: 100%|██████████| 16/16 [01:27<00:00,  5.48s/it]\n"
     ]
    },
    {
     "name": "stdout",
     "output_type": "stream",
     "text": [
      "Epoch 78: dx_train: 0.003 -- dx_val: 1.089 -- cx_train: 1.757 -- cx_val: 1.515 -- attn_train: 0.495 -- attn_val: 0.487 -- loss_train: 0.003 -- loss_val: 1.089 -- dx_acc_train: 1.000 -- dx_acc_val: 0.788 -- cx_f1_train: 0.314 -- cx_f1_val: 0.350 -- soft_iou_train: 0.134 -- soft_iou_val: 0.140 -- lr: 0.000 -- completed in 1.5 mins\n"
     ]
    },
    {
     "name": "stderr",
     "output_type": "stream",
     "text": [
      "Epoch 79/120: 100%|██████████| 16/16 [01:27<00:00,  5.44s/it]\n"
     ]
    },
    {
     "name": "stdout",
     "output_type": "stream",
     "text": [
      "Epoch 79: dx_train: 0.026 -- dx_val: 1.330 -- cx_train: 1.729 -- cx_val: 1.520 -- attn_train: 0.493 -- attn_val: 0.491 -- loss_train: 0.026 -- loss_val: 1.330 -- dx_acc_train: 0.992 -- dx_acc_val: 0.788 -- cx_f1_train: 0.315 -- cx_f1_val: 0.361 -- soft_iou_train: 0.136 -- soft_iou_val: 0.135 -- lr: 0.000 -- completed in 1.5 mins\n"
     ]
    },
    {
     "name": "stderr",
     "output_type": "stream",
     "text": [
      "Epoch 80/120: 100%|██████████| 16/16 [01:26<00:00,  5.39s/it]\n"
     ]
    },
    {
     "name": "stdout",
     "output_type": "stream",
     "text": [
      "Epoch 80: dx_train: 0.024 -- dx_val: 0.974 -- cx_train: 1.736 -- cx_val: 1.462 -- attn_train: 0.492 -- attn_val: 0.490 -- loss_train: 0.024 -- loss_val: 0.974 -- dx_acc_train: 0.994 -- dx_acc_val: 0.798 -- cx_f1_train: 0.310 -- cx_f1_val: 0.351 -- soft_iou_train: 0.134 -- soft_iou_val: 0.139 -- lr: 0.000 -- completed in 1.5 mins\n"
     ]
    },
    {
     "name": "stderr",
     "output_type": "stream",
     "text": [
      "Epoch 81/120: 100%|██████████| 16/16 [01:25<00:00,  5.35s/it]\n"
     ]
    },
    {
     "name": "stdout",
     "output_type": "stream",
     "text": [
      "Epoch 81: dx_train: 0.018 -- dx_val: 0.873 -- cx_train: 1.735 -- cx_val: 1.376 -- attn_train: 0.493 -- attn_val: 0.498 -- loss_train: 0.018 -- loss_val: 0.873 -- dx_acc_train: 0.993 -- dx_acc_val: 0.798 -- cx_f1_train: 0.304 -- cx_f1_val: 0.366 -- soft_iou_train: 0.133 -- soft_iou_val: 0.129 -- lr: 0.000 -- completed in 1.5 mins\n"
     ]
    },
    {
     "name": "stderr",
     "output_type": "stream",
     "text": [
      "Epoch 82/120: 100%|██████████| 16/16 [01:25<00:00,  5.34s/it]\n"
     ]
    },
    {
     "name": "stdout",
     "output_type": "stream",
     "text": [
      "Epoch 82: dx_train: 0.026 -- dx_val: 0.885 -- cx_train: 1.724 -- cx_val: 1.469 -- attn_train: 0.491 -- attn_val: 0.502 -- loss_train: 0.026 -- loss_val: 0.885 -- dx_acc_train: 0.992 -- dx_acc_val: 0.857 -- cx_f1_train: 0.307 -- cx_f1_val: 0.333 -- soft_iou_train: 0.136 -- soft_iou_val: 0.131 -- lr: 0.000 -- completed in 1.5 mins\n"
     ]
    },
    {
     "name": "stderr",
     "output_type": "stream",
     "text": [
      "Epoch 83/120: 100%|██████████| 16/16 [01:27<00:00,  5.47s/it]\n"
     ]
    },
    {
     "name": "stdout",
     "output_type": "stream",
     "text": [
      "Epoch 83: dx_train: 0.011 -- dx_val: 1.089 -- cx_train: 1.757 -- cx_val: 1.419 -- attn_train: 0.492 -- attn_val: 0.498 -- loss_train: 0.011 -- loss_val: 1.089 -- dx_acc_train: 0.994 -- dx_acc_val: 0.798 -- cx_f1_train: 0.305 -- cx_f1_val: 0.364 -- soft_iou_train: 0.140 -- soft_iou_val: 0.130 -- lr: 0.000 -- completed in 1.5 mins\n"
     ]
    },
    {
     "name": "stderr",
     "output_type": "stream",
     "text": [
      "Epoch 84/120: 100%|██████████| 16/16 [01:32<00:00,  5.75s/it]\n"
     ]
    },
    {
     "name": "stdout",
     "output_type": "stream",
     "text": [
      "Epoch 84: dx_train: 0.015 -- dx_val: 1.277 -- cx_train: 1.731 -- cx_val: 1.456 -- attn_train: 0.493 -- attn_val: 0.499 -- loss_train: 0.015 -- loss_val: 1.277 -- dx_acc_train: 0.992 -- dx_acc_val: 0.782 -- cx_f1_train: 0.314 -- cx_f1_val: 0.358 -- soft_iou_train: 0.136 -- soft_iou_val: 0.125 -- lr: 0.000 -- completed in 1.6 mins\n"
     ]
    },
    {
     "name": "stderr",
     "output_type": "stream",
     "text": [
      "Epoch 85/120: 100%|██████████| 16/16 [01:23<00:00,  5.24s/it]\n"
     ]
    },
    {
     "name": "stdout",
     "output_type": "stream",
     "text": [
      "Epoch 85: dx_train: 0.014 -- dx_val: 0.955 -- cx_train: 1.783 -- cx_val: 1.487 -- attn_train: 0.489 -- attn_val: 0.500 -- loss_train: 0.014 -- loss_val: 0.955 -- dx_acc_train: 0.995 -- dx_acc_val: 0.788 -- cx_f1_train: 0.312 -- cx_f1_val: 0.371 -- soft_iou_train: 0.141 -- soft_iou_val: 0.122 -- lr: 0.000 -- completed in 1.5 mins\n"
     ]
    },
    {
     "name": "stderr",
     "output_type": "stream",
     "text": [
      "Epoch 86/120: 100%|██████████| 16/16 [01:28<00:00,  5.53s/it]\n"
     ]
    },
    {
     "name": "stdout",
     "output_type": "stream",
     "text": [
      "Epoch 86: dx_train: 0.007 -- dx_val: 1.027 -- cx_train: 1.772 -- cx_val: 1.510 -- attn_train: 0.492 -- attn_val: 0.502 -- loss_train: 0.007 -- loss_val: 1.027 -- dx_acc_train: 1.000 -- dx_acc_val: 0.770 -- cx_f1_train: 0.308 -- cx_f1_val: 0.350 -- soft_iou_train: 0.136 -- soft_iou_val: 0.125 -- lr: 0.000 -- completed in 1.5 mins\n"
     ]
    },
    {
     "name": "stderr",
     "output_type": "stream",
     "text": [
      "Epoch 87/120: 100%|██████████| 16/16 [01:22<00:00,  5.13s/it]\n"
     ]
    },
    {
     "name": "stdout",
     "output_type": "stream",
     "text": [
      "Epoch 87: dx_train: 0.050 -- dx_val: 0.993 -- cx_train: 1.788 -- cx_val: 1.585 -- attn_train: 0.495 -- attn_val: 0.502 -- loss_train: 0.050 -- loss_val: 0.993 -- dx_acc_train: 0.995 -- dx_acc_val: 0.766 -- cx_f1_train: 0.312 -- cx_f1_val: 0.357 -- soft_iou_train: 0.132 -- soft_iou_val: 0.120 -- lr: 0.000 -- completed in 1.4 mins\n"
     ]
    },
    {
     "name": "stderr",
     "output_type": "stream",
     "text": [
      "Epoch 88/120: 100%|██████████| 16/16 [01:30<00:00,  5.65s/it]\n"
     ]
    },
    {
     "name": "stdout",
     "output_type": "stream",
     "text": [
      "Epoch 88: dx_train: 0.006 -- dx_val: 1.066 -- cx_train: 1.758 -- cx_val: 1.414 -- attn_train: 0.496 -- attn_val: 0.497 -- loss_train: 0.006 -- loss_val: 1.066 -- dx_acc_train: 0.998 -- dx_acc_val: 0.770 -- cx_f1_train: 0.308 -- cx_f1_val: 0.356 -- soft_iou_train: 0.132 -- soft_iou_val: 0.130 -- lr: 0.000 -- completed in 1.6 mins\n"
     ]
    },
    {
     "name": "stderr",
     "output_type": "stream",
     "text": [
      "Epoch 89/120: 100%|██████████| 16/16 [01:22<00:00,  5.15s/it]\n"
     ]
    },
    {
     "name": "stdout",
     "output_type": "stream",
     "text": [
      "Epoch 89: dx_train: 0.005 -- dx_val: 1.115 -- cx_train: 1.697 -- cx_val: 1.391 -- attn_train: 0.492 -- attn_val: 0.504 -- loss_train: 0.005 -- loss_val: 1.115 -- dx_acc_train: 0.998 -- dx_acc_val: 0.770 -- cx_f1_train: 0.315 -- cx_f1_val: 0.371 -- soft_iou_train: 0.137 -- soft_iou_val: 0.118 -- lr: 0.000 -- completed in 1.5 mins\n"
     ]
    },
    {
     "name": "stderr",
     "output_type": "stream",
     "text": [
      "Epoch 90/120: 100%|██████████| 16/16 [01:20<00:00,  5.04s/it]\n"
     ]
    },
    {
     "name": "stdout",
     "output_type": "stream",
     "text": [
      "Epoch 90: dx_train: 0.013 -- dx_val: 1.046 -- cx_train: 1.692 -- cx_val: 1.459 -- attn_train: 0.495 -- attn_val: 0.502 -- loss_train: 0.013 -- loss_val: 1.046 -- dx_acc_train: 0.998 -- dx_acc_val: 0.776 -- cx_f1_train: 0.309 -- cx_f1_val: 0.356 -- soft_iou_train: 0.139 -- soft_iou_val: 0.129 -- lr: 0.000 -- completed in 1.4 mins\n"
     ]
    },
    {
     "name": "stderr",
     "output_type": "stream",
     "text": [
      "Epoch 91/120: 100%|██████████| 16/16 [01:29<00:00,  5.56s/it]\n"
     ]
    },
    {
     "name": "stdout",
     "output_type": "stream",
     "text": [
      "Epoch 91: dx_train: 0.002 -- dx_val: 1.111 -- cx_train: 1.765 -- cx_val: 1.472 -- attn_train: 0.493 -- attn_val: 0.502 -- loss_train: 0.002 -- loss_val: 1.111 -- dx_acc_train: 1.000 -- dx_acc_val: 0.776 -- cx_f1_train: 0.312 -- cx_f1_val: 0.358 -- soft_iou_train: 0.136 -- soft_iou_val: 0.127 -- lr: 0.000 -- completed in 1.6 mins\n"
     ]
    },
    {
     "name": "stderr",
     "output_type": "stream",
     "text": [
      "Epoch 92/120: 100%|██████████| 16/16 [01:26<00:00,  5.39s/it]\n"
     ]
    },
    {
     "name": "stdout",
     "output_type": "stream",
     "text": [
      "Epoch 92: dx_train: 0.011 -- dx_val: 1.079 -- cx_train: 1.756 -- cx_val: 1.517 -- attn_train: 0.494 -- attn_val: 0.501 -- loss_train: 0.011 -- loss_val: 1.079 -- dx_acc_train: 0.996 -- dx_acc_val: 0.764 -- cx_f1_train: 0.302 -- cx_f1_val: 0.358 -- soft_iou_train: 0.134 -- soft_iou_val: 0.123 -- lr: 0.000 -- completed in 1.5 mins\n"
     ]
    },
    {
     "name": "stderr",
     "output_type": "stream",
     "text": [
      "Epoch 93/120: 100%|██████████| 16/16 [01:21<00:00,  5.08s/it]\n"
     ]
    },
    {
     "name": "stdout",
     "output_type": "stream",
     "text": [
      "Epoch 93: dx_train: 0.015 -- dx_val: 0.805 -- cx_train: 1.816 -- cx_val: 1.493 -- attn_train: 0.497 -- attn_val: 0.498 -- loss_train: 0.015 -- loss_val: 0.805 -- dx_acc_train: 0.993 -- dx_acc_val: 0.816 -- cx_f1_train: 0.304 -- cx_f1_val: 0.360 -- soft_iou_train: 0.132 -- soft_iou_val: 0.126 -- lr: 0.000 -- completed in 1.4 mins\n"
     ]
    },
    {
     "name": "stderr",
     "output_type": "stream",
     "text": [
      "Epoch 94/120: 100%|██████████| 16/16 [01:24<00:00,  5.30s/it]\n"
     ]
    },
    {
     "name": "stdout",
     "output_type": "stream",
     "text": [
      "Epoch 94: dx_train: 0.004 -- dx_val: 1.101 -- cx_train: 1.810 -- cx_val: 1.484 -- attn_train: 0.495 -- attn_val: 0.504 -- loss_train: 0.004 -- loss_val: 1.101 -- dx_acc_train: 1.000 -- dx_acc_val: 0.772 -- cx_f1_train: 0.316 -- cx_f1_val: 0.341 -- soft_iou_train: 0.141 -- soft_iou_val: 0.125 -- lr: 0.000 -- completed in 1.5 mins\n"
     ]
    },
    {
     "name": "stderr",
     "output_type": "stream",
     "text": [
      "Epoch 95/120: 100%|██████████| 16/16 [01:28<00:00,  5.55s/it]\n"
     ]
    },
    {
     "name": "stdout",
     "output_type": "stream",
     "text": [
      "Epoch 95: dx_train: 0.001 -- dx_val: 1.112 -- cx_train: 1.838 -- cx_val: 1.485 -- attn_train: 0.499 -- attn_val: 0.501 -- loss_train: 0.001 -- loss_val: 1.112 -- dx_acc_train: 1.000 -- dx_acc_val: 0.791 -- cx_f1_train: 0.310 -- cx_f1_val: 0.347 -- soft_iou_train: 0.126 -- soft_iou_val: 0.125 -- lr: 0.000 -- completed in 1.6 mins\n"
     ]
    },
    {
     "name": "stderr",
     "output_type": "stream",
     "text": [
      "Epoch 96/120: 100%|██████████| 16/16 [01:28<00:00,  5.55s/it]\n"
     ]
    },
    {
     "name": "stdout",
     "output_type": "stream",
     "text": [
      "Epoch 96: dx_train: 0.009 -- dx_val: 1.240 -- cx_train: 1.809 -- cx_val: 1.501 -- attn_train: 0.496 -- attn_val: 0.501 -- loss_train: 0.009 -- loss_val: 1.240 -- dx_acc_train: 0.998 -- dx_acc_val: 0.770 -- cx_f1_train: 0.314 -- cx_f1_val: 0.347 -- soft_iou_train: 0.129 -- soft_iou_val: 0.126 -- lr: 0.000 -- completed in 1.6 mins\n"
     ]
    },
    {
     "name": "stderr",
     "output_type": "stream",
     "text": [
      "Epoch 97/120: 100%|██████████| 16/16 [01:25<00:00,  5.35s/it]\n"
     ]
    },
    {
     "name": "stdout",
     "output_type": "stream",
     "text": [
      "Epoch 97: dx_train: 0.008 -- dx_val: 1.125 -- cx_train: 1.804 -- cx_val: 1.497 -- attn_train: 0.492 -- attn_val: 0.506 -- loss_train: 0.008 -- loss_val: 1.125 -- dx_acc_train: 0.996 -- dx_acc_val: 0.791 -- cx_f1_train: 0.312 -- cx_f1_val: 0.342 -- soft_iou_train: 0.137 -- soft_iou_val: 0.126 -- lr: 0.000 -- completed in 1.5 mins\n"
     ]
    },
    {
     "name": "stderr",
     "output_type": "stream",
     "text": [
      "Epoch 98/120: 100%|██████████| 16/16 [01:20<00:00,  5.03s/it]\n"
     ]
    },
    {
     "name": "stdout",
     "output_type": "stream",
     "text": [
      "Epoch 98: dx_train: 0.005 -- dx_val: 1.046 -- cx_train: 1.823 -- cx_val: 1.516 -- attn_train: 0.492 -- attn_val: 0.506 -- loss_train: 0.005 -- loss_val: 1.046 -- dx_acc_train: 0.998 -- dx_acc_val: 0.788 -- cx_f1_train: 0.310 -- cx_f1_val: 0.353 -- soft_iou_train: 0.140 -- soft_iou_val: 0.123 -- lr: 0.000 -- completed in 1.4 mins\n"
     ]
    },
    {
     "name": "stderr",
     "output_type": "stream",
     "text": [
      "Epoch 99/120: 100%|██████████| 16/16 [01:28<00:00,  5.51s/it]\n"
     ]
    },
    {
     "name": "stdout",
     "output_type": "stream",
     "text": [
      "Epoch 99: dx_train: 0.011 -- dx_val: 1.098 -- cx_train: 1.788 -- cx_val: 1.488 -- attn_train: 0.495 -- attn_val: 0.500 -- loss_train: 0.011 -- loss_val: 1.098 -- dx_acc_train: 0.993 -- dx_acc_val: 0.785 -- cx_f1_train: 0.312 -- cx_f1_val: 0.370 -- soft_iou_train: 0.132 -- soft_iou_val: 0.120 -- lr: 0.000 -- completed in 1.6 mins\n"
     ]
    },
    {
     "name": "stderr",
     "output_type": "stream",
     "text": [
      "Epoch 100/120: 100%|██████████| 16/16 [01:24<00:00,  5.29s/it]\n"
     ]
    },
    {
     "name": "stdout",
     "output_type": "stream",
     "text": [
      "Epoch 100: dx_train: 0.015 -- dx_val: 1.030 -- cx_train: 1.801 -- cx_val: 1.555 -- attn_train: 0.494 -- attn_val: 0.502 -- loss_train: 0.015 -- loss_val: 1.030 -- dx_acc_train: 0.994 -- dx_acc_val: 0.819 -- cx_f1_train: 0.311 -- cx_f1_val: 0.354 -- soft_iou_train: 0.135 -- soft_iou_val: 0.130 -- lr: 0.000 -- completed in 1.5 mins\n"
     ]
    },
    {
     "name": "stderr",
     "output_type": "stream",
     "text": [
      "Epoch 101/120: 100%|██████████| 16/16 [01:23<00:00,  5.24s/it]\n"
     ]
    },
    {
     "name": "stdout",
     "output_type": "stream",
     "text": [
      "Epoch 101: dx_train: 0.004 -- dx_val: 0.985 -- cx_train: 1.852 -- cx_val: 1.514 -- attn_train: 0.493 -- attn_val: 0.502 -- loss_train: 0.004 -- loss_val: 0.985 -- dx_acc_train: 1.000 -- dx_acc_val: 0.825 -- cx_f1_train: 0.308 -- cx_f1_val: 0.353 -- soft_iou_train: 0.138 -- soft_iou_val: 0.129 -- lr: 0.000 -- completed in 1.5 mins\n"
     ]
    },
    {
     "name": "stderr",
     "output_type": "stream",
     "text": [
      "Epoch 102/120: 100%|██████████| 16/16 [01:26<00:00,  5.43s/it]\n"
     ]
    },
    {
     "name": "stdout",
     "output_type": "stream",
     "text": [
      "Epoch 102: dx_train: 0.003 -- dx_val: 1.051 -- cx_train: 1.847 -- cx_val: 1.546 -- attn_train: 0.498 -- attn_val: 0.502 -- loss_train: 0.003 -- loss_val: 1.051 -- dx_acc_train: 1.000 -- dx_acc_val: 0.819 -- cx_f1_train: 0.304 -- cx_f1_val: 0.352 -- soft_iou_train: 0.131 -- soft_iou_val: 0.126 -- lr: 0.000 -- completed in 1.5 mins\n"
     ]
    },
    {
     "name": "stderr",
     "output_type": "stream",
     "text": [
      "Epoch 103/120: 100%|██████████| 16/16 [01:27<00:00,  5.49s/it]\n"
     ]
    },
    {
     "name": "stdout",
     "output_type": "stream",
     "text": [
      "Epoch 103: dx_train: 0.005 -- dx_val: 1.127 -- cx_train: 1.832 -- cx_val: 1.557 -- attn_train: 0.493 -- attn_val: 0.500 -- loss_train: 0.005 -- loss_val: 1.127 -- dx_acc_train: 1.000 -- dx_acc_val: 0.754 -- cx_f1_train: 0.301 -- cx_f1_val: 0.329 -- soft_iou_train: 0.134 -- soft_iou_val: 0.131 -- lr: 0.000 -- completed in 1.5 mins\n"
     ]
    },
    {
     "name": "stderr",
     "output_type": "stream",
     "text": [
      "Epoch 104/120: 100%|██████████| 16/16 [01:27<00:00,  5.50s/it]\n"
     ]
    },
    {
     "name": "stdout",
     "output_type": "stream",
     "text": [
      "Epoch 104: dx_train: 0.008 -- dx_val: 1.101 -- cx_train: 1.839 -- cx_val: 1.638 -- attn_train: 0.497 -- attn_val: 0.504 -- loss_train: 0.008 -- loss_val: 1.101 -- dx_acc_train: 0.998 -- dx_acc_val: 0.810 -- cx_f1_train: 0.303 -- cx_f1_val: 0.334 -- soft_iou_train: 0.129 -- soft_iou_val: 0.138 -- lr: 0.000 -- completed in 1.5 mins\n"
     ]
    },
    {
     "name": "stderr",
     "output_type": "stream",
     "text": [
      "Epoch 105/120: 100%|██████████| 16/16 [01:21<00:00,  5.08s/it]\n"
     ]
    },
    {
     "name": "stdout",
     "output_type": "stream",
     "text": [
      "Epoch 105: dx_train: 0.002 -- dx_val: 1.038 -- cx_train: 1.843 -- cx_val: 1.632 -- attn_train: 0.495 -- attn_val: 0.500 -- loss_train: 0.002 -- loss_val: 1.038 -- dx_acc_train: 1.000 -- dx_acc_val: 0.779 -- cx_f1_train: 0.306 -- cx_f1_val: 0.343 -- soft_iou_train: 0.134 -- soft_iou_val: 0.131 -- lr: 0.000 -- completed in 1.4 mins\n"
     ]
    },
    {
     "name": "stderr",
     "output_type": "stream",
     "text": [
      "Epoch 106/120: 100%|██████████| 16/16 [01:25<00:00,  5.32s/it]\n"
     ]
    },
    {
     "name": "stdout",
     "output_type": "stream",
     "text": [
      "Epoch 106: dx_train: 0.001 -- dx_val: 1.034 -- cx_train: 1.851 -- cx_val: 1.584 -- attn_train: 0.492 -- attn_val: 0.505 -- loss_train: 0.001 -- loss_val: 1.034 -- dx_acc_train: 1.000 -- dx_acc_val: 0.835 -- cx_f1_train: 0.310 -- cx_f1_val: 0.352 -- soft_iou_train: 0.139 -- soft_iou_val: 0.125 -- lr: 0.000 -- completed in 1.5 mins\n"
     ]
    },
    {
     "name": "stderr",
     "output_type": "stream",
     "text": [
      "Epoch 107/120: 100%|██████████| 16/16 [01:21<00:00,  5.08s/it]\n"
     ]
    },
    {
     "name": "stdout",
     "output_type": "stream",
     "text": [
      "Epoch 107: dx_train: 0.001 -- dx_val: 0.921 -- cx_train: 1.850 -- cx_val: 1.569 -- attn_train: 0.493 -- attn_val: 0.501 -- loss_train: 0.001 -- loss_val: 0.921 -- dx_acc_train: 1.000 -- dx_acc_val: 0.816 -- cx_f1_train: 0.314 -- cx_f1_val: 0.358 -- soft_iou_train: 0.132 -- soft_iou_val: 0.128 -- lr: 0.000 -- completed in 1.4 mins\n"
     ]
    },
    {
     "name": "stderr",
     "output_type": "stream",
     "text": [
      "Epoch 108/120: 100%|██████████| 16/16 [01:28<00:00,  5.56s/it]\n"
     ]
    },
    {
     "name": "stdout",
     "output_type": "stream",
     "text": [
      "Epoch 108: dx_train: 0.001 -- dx_val: 1.069 -- cx_train: 1.816 -- cx_val: 1.632 -- attn_train: 0.495 -- attn_val: 0.499 -- loss_train: 0.001 -- loss_val: 1.069 -- dx_acc_train: 1.000 -- dx_acc_val: 0.788 -- cx_f1_train: 0.309 -- cx_f1_val: 0.334 -- soft_iou_train: 0.132 -- soft_iou_val: 0.139 -- lr: 0.000 -- completed in 1.6 mins\n"
     ]
    },
    {
     "name": "stderr",
     "output_type": "stream",
     "text": [
      "Epoch 109/120: 100%|██████████| 16/16 [01:20<00:00,  5.04s/it]\n"
     ]
    },
    {
     "name": "stdout",
     "output_type": "stream",
     "text": [
      "Epoch 109: dx_train: 0.001 -- dx_val: 1.115 -- cx_train: 1.855 -- cx_val: 1.590 -- attn_train: 0.496 -- attn_val: 0.503 -- loss_train: 0.001 -- loss_val: 1.115 -- dx_acc_train: 1.000 -- dx_acc_val: 0.804 -- cx_f1_train: 0.300 -- cx_f1_val: 0.355 -- soft_iou_train: 0.134 -- soft_iou_val: 0.121 -- lr: 0.000 -- completed in 1.4 mins\n"
     ]
    },
    {
     "name": "stderr",
     "output_type": "stream",
     "text": [
      "Epoch 110/120: 100%|██████████| 16/16 [01:24<00:00,  5.28s/it]\n"
     ]
    },
    {
     "name": "stdout",
     "output_type": "stream",
     "text": [
      "Epoch 110: dx_train: 0.002 -- dx_val: 1.156 -- cx_train: 1.855 -- cx_val: 1.553 -- attn_train: 0.493 -- attn_val: 0.496 -- loss_train: 0.002 -- loss_val: 1.156 -- dx_acc_train: 1.000 -- dx_acc_val: 0.770 -- cx_f1_train: 0.308 -- cx_f1_val: 0.353 -- soft_iou_train: 0.135 -- soft_iou_val: 0.129 -- lr: 0.000 -- completed in 1.5 mins\n"
     ]
    },
    {
     "name": "stderr",
     "output_type": "stream",
     "text": [
      "Epoch 111/120: 100%|██████████| 16/16 [01:21<00:00,  5.10s/it]\n"
     ]
    },
    {
     "name": "stdout",
     "output_type": "stream",
     "text": [
      "Epoch 111: dx_train: 0.015 -- dx_val: 1.213 -- cx_train: 1.869 -- cx_val: 1.575 -- attn_train: 0.495 -- attn_val: 0.500 -- loss_train: 0.015 -- loss_val: 1.213 -- dx_acc_train: 0.996 -- dx_acc_val: 0.760 -- cx_f1_train: 0.313 -- cx_f1_val: 0.324 -- soft_iou_train: 0.132 -- soft_iou_val: 0.126 -- lr: 0.000 -- completed in 1.4 mins\n"
     ]
    },
    {
     "name": "stderr",
     "output_type": "stream",
     "text": [
      "Epoch 112/120: 100%|██████████| 16/16 [01:25<00:00,  5.34s/it]\n"
     ]
    },
    {
     "name": "stdout",
     "output_type": "stream",
     "text": [
      "Epoch 112: dx_train: 0.003 -- dx_val: 1.213 -- cx_train: 1.882 -- cx_val: 1.586 -- attn_train: 0.492 -- attn_val: 0.501 -- loss_train: 0.003 -- loss_val: 1.213 -- dx_acc_train: 1.000 -- dx_acc_val: 0.785 -- cx_f1_train: 0.311 -- cx_f1_val: 0.343 -- soft_iou_train: 0.138 -- soft_iou_val: 0.130 -- lr: 0.000 -- completed in 1.5 mins\n"
     ]
    },
    {
     "name": "stderr",
     "output_type": "stream",
     "text": [
      "Epoch 113/120: 100%|██████████| 16/16 [01:27<00:00,  5.50s/it]\n"
     ]
    },
    {
     "name": "stdout",
     "output_type": "stream",
     "text": [
      "Epoch 113: dx_train: 0.002 -- dx_val: 1.078 -- cx_train: 1.859 -- cx_val: 1.555 -- attn_train: 0.495 -- attn_val: 0.503 -- loss_train: 0.002 -- loss_val: 1.078 -- dx_acc_train: 1.000 -- dx_acc_val: 0.766 -- cx_f1_train: 0.308 -- cx_f1_val: 0.357 -- soft_iou_train: 0.133 -- soft_iou_val: 0.127 -- lr: 0.000 -- completed in 1.5 mins\n"
     ]
    },
    {
     "name": "stderr",
     "output_type": "stream",
     "text": [
      "Epoch 114/120: 100%|██████████| 16/16 [01:21<00:00,  5.12s/it]\n"
     ]
    },
    {
     "name": "stdout",
     "output_type": "stream",
     "text": [
      "Epoch 114: dx_train: 0.002 -- dx_val: 1.017 -- cx_train: 1.860 -- cx_val: 1.569 -- attn_train: 0.493 -- attn_val: 0.503 -- loss_train: 0.002 -- loss_val: 1.017 -- dx_acc_train: 0.998 -- dx_acc_val: 0.804 -- cx_f1_train: 0.309 -- cx_f1_val: 0.354 -- soft_iou_train: 0.137 -- soft_iou_val: 0.127 -- lr: 0.000 -- completed in 1.4 mins\n"
     ]
    },
    {
     "name": "stderr",
     "output_type": "stream",
     "text": [
      "Epoch 115/120: 100%|██████████| 16/16 [01:26<00:00,  5.39s/it]\n"
     ]
    },
    {
     "name": "stdout",
     "output_type": "stream",
     "text": [
      "Epoch 115: dx_train: 0.001 -- dx_val: 1.070 -- cx_train: 1.845 -- cx_val: 1.514 -- attn_train: 0.493 -- attn_val: 0.506 -- loss_train: 0.001 -- loss_val: 1.070 -- dx_acc_train: 1.000 -- dx_acc_val: 0.807 -- cx_f1_train: 0.308 -- cx_f1_val: 0.350 -- soft_iou_train: 0.140 -- soft_iou_val: 0.122 -- lr: 0.000 -- completed in 1.5 mins\n"
     ]
    },
    {
     "name": "stderr",
     "output_type": "stream",
     "text": [
      "Epoch 116/120: 100%|██████████| 16/16 [01:23<00:00,  5.20s/it]\n"
     ]
    },
    {
     "name": "stdout",
     "output_type": "stream",
     "text": [
      "Epoch 116: dx_train: 0.002 -- dx_val: 1.078 -- cx_train: 1.855 -- cx_val: 1.559 -- attn_train: 0.494 -- attn_val: 0.502 -- loss_train: 0.002 -- loss_val: 1.078 -- dx_acc_train: 1.000 -- dx_acc_val: 0.813 -- cx_f1_train: 0.314 -- cx_f1_val: 0.349 -- soft_iou_train: 0.138 -- soft_iou_val: 0.125 -- lr: 0.000 -- completed in 1.5 mins\n"
     ]
    },
    {
     "name": "stderr",
     "output_type": "stream",
     "text": [
      "Epoch 117/120: 100%|██████████| 16/16 [01:20<00:00,  5.00s/it]\n"
     ]
    },
    {
     "name": "stdout",
     "output_type": "stream",
     "text": [
      "Epoch 117: dx_train: 0.001 -- dx_val: 1.224 -- cx_train: 1.847 -- cx_val: 1.589 -- attn_train: 0.493 -- attn_val: 0.501 -- loss_train: 0.001 -- loss_val: 1.224 -- dx_acc_train: 1.000 -- dx_acc_val: 0.754 -- cx_f1_train: 0.308 -- cx_f1_val: 0.351 -- soft_iou_train: 0.136 -- soft_iou_val: 0.128 -- lr: 0.000 -- completed in 1.4 mins\n"
     ]
    },
    {
     "name": "stderr",
     "output_type": "stream",
     "text": [
      "Epoch 118/120: 100%|██████████| 16/16 [01:26<00:00,  5.39s/it]\n"
     ]
    },
    {
     "name": "stdout",
     "output_type": "stream",
     "text": [
      "Epoch 118: dx_train: 0.001 -- dx_val: 0.968 -- cx_train: 1.829 -- cx_val: 1.545 -- attn_train: 0.495 -- attn_val: 0.497 -- loss_train: 0.001 -- loss_val: 0.968 -- dx_acc_train: 1.000 -- dx_acc_val: 0.825 -- cx_f1_train: 0.314 -- cx_f1_val: 0.359 -- soft_iou_train: 0.136 -- soft_iou_val: 0.125 -- lr: 0.000 -- completed in 1.5 mins\n"
     ]
    },
    {
     "name": "stderr",
     "output_type": "stream",
     "text": [
      "Epoch 119/120: 100%|██████████| 16/16 [01:27<00:00,  5.45s/it]\n"
     ]
    },
    {
     "name": "stdout",
     "output_type": "stream",
     "text": [
      "Epoch 119: dx_train: 0.004 -- dx_val: 0.888 -- cx_train: 1.848 -- cx_val: 1.575 -- attn_train: 0.493 -- attn_val: 0.501 -- loss_train: 0.004 -- loss_val: 0.888 -- dx_acc_train: 0.998 -- dx_acc_val: 0.847 -- cx_f1_train: 0.311 -- cx_f1_val: 0.347 -- soft_iou_train: 0.137 -- soft_iou_val: 0.125 -- lr: 0.000 -- completed in 1.5 mins\n"
     ]
    },
    {
     "name": "stderr",
     "output_type": "stream",
     "text": [
      "Epoch 120/120: 100%|██████████| 16/16 [01:25<00:00,  5.31s/it]\n"
     ]
    },
    {
     "name": "stdout",
     "output_type": "stream",
     "text": [
      "Epoch 120: dx_train: 0.001 -- dx_val: 1.052 -- cx_train: 1.847 -- cx_val: 1.591 -- attn_train: 0.496 -- attn_val: 0.504 -- loss_train: 0.001 -- loss_val: 1.052 -- dx_acc_train: 1.000 -- dx_acc_val: 0.798 -- cx_f1_train: 0.316 -- cx_f1_val: 0.348 -- soft_iou_train: 0.127 -- soft_iou_val: 0.125 -- lr: 0.001 -- completed in 1.5 mins\n"
     ]
    }
   ],
   "source": [
    "import warnings\n",
    "warnings.filterwarnings(\"ignore\")\n",
    "\n",
    "iterate_through_dataloader_common_kwargs = {\n",
    "    \"model\": model,\n",
    "    \"optimizer\": optimizer,\n",
    "    \"criterion\": criterion,\n",
    "    \"criterion_weight\": hps[\"loss_factors\"],\n",
    "    \"n_total_epochs\": hps[\"num_epochs\"],\n",
    "    \"metric_names\": metric_names,\n",
    "    \"scheduler\": scheduler,\n",
    "    \"device\": device,\n",
    "}\n",
    "\n",
    "for epoch in range(1, hps[\"num_epochs\"] + 1):\n",
    "    start_time = time()\n",
    "    running_metrics_train = iterate_through_attn_dataloader(\n",
    "        dataloader_train,\n",
    "        epoch=epoch,\n",
    "        train_mode=True,\n",
    "        **iterate_through_dataloader_common_kwargs,\n",
    "    )\n",
    "    running_metrics_test = iterate_through_attn_dataloader(\n",
    "        dataloader_test,\n",
    "        epoch=epoch,\n",
    "        train_mode=False,\n",
    "        force_enable_grad=hps[\"return_gradcam_attributes\"],\n",
    "        **iterate_through_dataloader_common_kwargs,\n",
    "    )\n",
    "\n",
    "    # Write and report history\n",
    "    history[\"epoch\"].append(epoch)\n",
    "    for name in metric_names:\n",
    "        history[f\"{name}_train\"].append(running_metrics_train[name])\n",
    "        history[f\"{name}_val\"].append(running_metrics_test[name])\n",
    "        tb_writer.add_scalar(f\"{name}/train\", running_metrics_train[name], epoch)\n",
    "        tb_writer.add_scalar(f\"{name}/test\", running_metrics_test[name], epoch)\n",
    "    if hps[\"lr_scheduler\"] is not None:\n",
    "        last_lr = scheduler.get_last_lr()[0]\n",
    "        history[\"lr\"].append(last_lr)\n",
    "        tb_writer.add_scalar(\"lr\", last_lr, epoch)\n",
    "    save_json(experiment_fold_dir, \"history.json\", history)\n",
    "    print_history_result(history, start_time)\n",
    "\n",
    "    # Model checkpoint\n",
    "    lastest_checkpoint_metric_value = history[f\"{checkpoint_metric}_val\"][-1]\n",
    "    smaller_than_comparison = (\n",
    "        lastest_checkpoint_metric_value < checkpoint_metric_value[checkpoint_metric]\n",
    "    )\n",
    "    larger_than_comparison = (\n",
    "        lastest_checkpoint_metric_value > checkpoint_metric_value[checkpoint_metric]\n",
    "    )\n",
    "    if (\n",
    "        larger_than_comparison\n",
    "        if metric_larger_is_better[checkpoint_metric]\n",
    "        else smaller_than_comparison\n",
    "    ):\n",
    "        torch.save(\n",
    "            model.state_dict(),\n",
    "            os.path.join(\n",
    "                experiment_fold_dir,\n",
    "                f\"model_with_best_{checkpoint_metric}_at_epoch_{epoch}.pt\",\n",
    "            ),\n",
    "        )\n",
    "        print(\n",
    "            \"Model got better and was saved, with \"\n",
    "            f\"{checkpoint_metric}_val = {lastest_checkpoint_metric_value:.3f}\"\n",
    "        )\n",
    "        checkpoint_metric_value[checkpoint_metric] = lastest_checkpoint_metric_value\n",
    "    if epoch == hps[\"num_epochs\"]:\n",
    "        torch.save(\n",
    "            model.state_dict(),\n",
    "            os.path.join(experiment_fold_dir, f\"model_at_train_end.pt\"),\n",
    "        )\n",
    "\n",
    "tb_writer.close()"
   ]
  },
  {
   "cell_type": "markdown",
   "metadata": {},
   "source": [
    "## Save validation predictions"
   ]
  },
  {
   "cell_type": "code",
   "execution_count": 19,
   "metadata": {
    "scrolled": true
   },
   "outputs": [],
   "source": [
    "# model.load_state_dict(torch.load(f\"{experiment_fold_dir}/model_at_train_end.pt\"))\n",
    "model.eval()\n",
    "\n",
    "dict_keys = ['filename', 'predicted_dx', 'actual_dx']\n",
    "dict_keys = np.concatenate((dict_keys, [f'actual_{cx}' for cx in characteristics]))\n",
    "dict_keys = np.concatenate((dict_keys, [f'predicted_{cx}' for cx in characteristics]))\n",
    "validation_dict = dict.fromkeys(dict_keys, np.array([]))\n",
    "\n",
    "grad_cam_dir = f'{experiment_fold_dir}/gradcams'\n",
    "if not os.path.exists(grad_cam_dir):\n",
    "    os.mkdir(grad_cam_dir)\n",
    "\n",
    "for batch in dataloader_test:\n",
    "    images, dx_labels, cx_labels, mask_labels, filenames = batch\n",
    "    dx_labels = [diagnoses[dx] for dx in dx_labels]\n",
    "    \n",
    "    predicted_dx, predicted_cx, predicted_attributes = model(images.to(device))\n",
    "    predicted_dx = [diagnoses[dx] for dx in np.argmax(predicted_dx.detach().cpu().numpy(), axis=1)]\n",
    "    predicted_cx = np.round(torch.sigmoid(predicted_cx).detach().cpu().numpy())\n",
    "    predicted_attributes = predicted_attributes.detach().cpu().numpy()\n",
    "    \n",
    "    validation_dict['filename'] = np.concatenate((validation_dict['filename'], [Path(filename).name for filename in filenames]))\n",
    "    validation_dict['predicted_dx'] = np.concatenate((validation_dict['predicted_dx'], predicted_dx))    \n",
    "    validation_dict['actual_dx'] = np.concatenate((validation_dict['actual_dx'], dx_labels))\n",
    "    \n",
    "    for cx_idx in range(len(characteristics)):\n",
    "        validation_dict[f'predicted_{characteristics[cx_idx]}'] = np.concatenate((validation_dict[f'predicted_{characteristics[cx_idx]}'], predicted_cx[:, cx_idx]))    \n",
    "        validation_dict[f'actual_{characteristics[cx_idx]}'] = np.concatenate((validation_dict[f'actual_{characteristics[cx_idx]}'], cx_labels[:, cx_idx]))\n",
    "        \n",
    "        for image_idx in range(len(images)):\n",
    "            mask_save_name = f'{grad_cam_dir}/{Path(filenames[image_idx]).name}_{characteristics[cx_idx]}.png'\n",
    "            cv2.imwrite(mask_save_name, predicted_attributes[image_idx,cx_idx,::] * 255)"
   ]
  },
  {
   "cell_type": "code",
   "execution_count": 20,
   "metadata": {},
   "outputs": [
    {
     "data": {
      "text/html": [
       "<div>\n",
       "<style scoped>\n",
       "    .dataframe tbody tr th:only-of-type {\n",
       "        vertical-align: middle;\n",
       "    }\n",
       "\n",
       "    .dataframe tbody tr th {\n",
       "        vertical-align: top;\n",
       "    }\n",
       "\n",
       "    .dataframe thead th {\n",
       "        text-align: right;\n",
       "    }\n",
       "</style>\n",
       "<table border=\"1\" class=\"dataframe\">\n",
       "  <thead>\n",
       "    <tr style=\"text-align: right;\">\n",
       "      <th></th>\n",
       "      <th>predicted_dx</th>\n",
       "      <th>actual_dx</th>\n",
       "      <th>actual_Closed comedo</th>\n",
       "      <th>actual_Dermatoglyph disruption</th>\n",
       "      <th>actual_Open comedo</th>\n",
       "      <th>actual_Papule</th>\n",
       "      <th>actual_Patch</th>\n",
       "      <th>actual_Plaque</th>\n",
       "      <th>actual_Pustule</th>\n",
       "      <th>actual_Scale</th>\n",
       "      <th>...</th>\n",
       "      <th>predicted_Closed comedo</th>\n",
       "      <th>predicted_Dermatoglyph disruption</th>\n",
       "      <th>predicted_Open comedo</th>\n",
       "      <th>predicted_Papule</th>\n",
       "      <th>predicted_Patch</th>\n",
       "      <th>predicted_Plaque</th>\n",
       "      <th>predicted_Pustule</th>\n",
       "      <th>predicted_Scale</th>\n",
       "      <th>predicted_Scar</th>\n",
       "      <th>predicted_Sun damage</th>\n",
       "    </tr>\n",
       "    <tr>\n",
       "      <th>filename</th>\n",
       "      <th></th>\n",
       "      <th></th>\n",
       "      <th></th>\n",
       "      <th></th>\n",
       "      <th></th>\n",
       "      <th></th>\n",
       "      <th></th>\n",
       "      <th></th>\n",
       "      <th></th>\n",
       "      <th></th>\n",
       "      <th></th>\n",
       "      <th></th>\n",
       "      <th></th>\n",
       "      <th></th>\n",
       "      <th></th>\n",
       "      <th></th>\n",
       "      <th></th>\n",
       "      <th></th>\n",
       "      <th></th>\n",
       "      <th></th>\n",
       "      <th></th>\n",
       "    </tr>\n",
       "  </thead>\n",
       "  <tbody>\n",
       "    <tr>\n",
       "      <th>viral-wart-15--WatermarkedWyJXYXRlcm1hcmtlZCJd.jpeg</th>\n",
       "      <td>Viral warts</td>\n",
       "      <td>Viral warts</td>\n",
       "      <td>0.0</td>\n",
       "      <td>1.0</td>\n",
       "      <td>0.0</td>\n",
       "      <td>1.0</td>\n",
       "      <td>0.0</td>\n",
       "      <td>1.0</td>\n",
       "      <td>0.0</td>\n",
       "      <td>0.0</td>\n",
       "      <td>...</td>\n",
       "      <td>0.0</td>\n",
       "      <td>0.0</td>\n",
       "      <td>1.0</td>\n",
       "      <td>1.0</td>\n",
       "      <td>1.0</td>\n",
       "      <td>0.0</td>\n",
       "      <td>1.0</td>\n",
       "      <td>1.0</td>\n",
       "      <td>1.0</td>\n",
       "      <td>0.0</td>\n",
       "    </tr>\n",
       "    <tr>\n",
       "      <th>10556-P7070060.jpeg</th>\n",
       "      <td>Viral warts</td>\n",
       "      <td>Acne</td>\n",
       "      <td>0.0</td>\n",
       "      <td>0.0</td>\n",
       "      <td>1.0</td>\n",
       "      <td>0.0</td>\n",
       "      <td>0.0</td>\n",
       "      <td>0.0</td>\n",
       "      <td>0.0</td>\n",
       "      <td>0.0</td>\n",
       "      <td>...</td>\n",
       "      <td>0.0</td>\n",
       "      <td>1.0</td>\n",
       "      <td>1.0</td>\n",
       "      <td>1.0</td>\n",
       "      <td>0.0</td>\n",
       "      <td>0.0</td>\n",
       "      <td>1.0</td>\n",
       "      <td>1.0</td>\n",
       "      <td>1.0</td>\n",
       "      <td>0.0</td>\n",
       "    </tr>\n",
       "    <tr>\n",
       "      <th>043052HB.jpeg</th>\n",
       "      <td>Seborrheic dermatitis</td>\n",
       "      <td>Seborrheic dermatitis</td>\n",
       "      <td>0.0</td>\n",
       "      <td>0.0</td>\n",
       "      <td>0.0</td>\n",
       "      <td>0.0</td>\n",
       "      <td>1.0</td>\n",
       "      <td>1.0</td>\n",
       "      <td>0.0</td>\n",
       "      <td>1.0</td>\n",
       "      <td>...</td>\n",
       "      <td>1.0</td>\n",
       "      <td>1.0</td>\n",
       "      <td>1.0</td>\n",
       "      <td>0.0</td>\n",
       "      <td>1.0</td>\n",
       "      <td>0.0</td>\n",
       "      <td>0.0</td>\n",
       "      <td>0.0</td>\n",
       "      <td>0.0</td>\n",
       "      <td>0.0</td>\n",
       "    </tr>\n",
       "    <tr>\n",
       "      <th>halo5--WatermarkedWyJXYXRlcm1hcmtlZCJd.jpeg</th>\n",
       "      <td>Vitiligo</td>\n",
       "      <td>Vitiligo</td>\n",
       "      <td>0.0</td>\n",
       "      <td>0.0</td>\n",
       "      <td>0.0</td>\n",
       "      <td>0.0</td>\n",
       "      <td>1.0</td>\n",
       "      <td>0.0</td>\n",
       "      <td>0.0</td>\n",
       "      <td>0.0</td>\n",
       "      <td>...</td>\n",
       "      <td>1.0</td>\n",
       "      <td>0.0</td>\n",
       "      <td>0.0</td>\n",
       "      <td>0.0</td>\n",
       "      <td>0.0</td>\n",
       "      <td>0.0</td>\n",
       "      <td>0.0</td>\n",
       "      <td>1.0</td>\n",
       "      <td>1.0</td>\n",
       "      <td>1.0</td>\n",
       "    </tr>\n",
       "    <tr>\n",
       "      <th>vitiligo-10--WatermarkedWyJXYXRlcm1hcmtlZCJd.jpeg</th>\n",
       "      <td>Vitiligo</td>\n",
       "      <td>Vitiligo</td>\n",
       "      <td>0.0</td>\n",
       "      <td>0.0</td>\n",
       "      <td>0.0</td>\n",
       "      <td>0.0</td>\n",
       "      <td>1.0</td>\n",
       "      <td>0.0</td>\n",
       "      <td>0.0</td>\n",
       "      <td>0.0</td>\n",
       "      <td>...</td>\n",
       "      <td>1.0</td>\n",
       "      <td>0.0</td>\n",
       "      <td>0.0</td>\n",
       "      <td>0.0</td>\n",
       "      <td>0.0</td>\n",
       "      <td>0.0</td>\n",
       "      <td>1.0</td>\n",
       "      <td>1.0</td>\n",
       "      <td>1.0</td>\n",
       "      <td>1.0</td>\n",
       "    </tr>\n",
       "    <tr>\n",
       "      <th>facial-psoriasis06--WatermarkedWyJXYXRlcm1hcmtlZCJd.jpeg</th>\n",
       "      <td>Acne</td>\n",
       "      <td>Psoriasis</td>\n",
       "      <td>0.0</td>\n",
       "      <td>0.0</td>\n",
       "      <td>0.0</td>\n",
       "      <td>0.0</td>\n",
       "      <td>0.0</td>\n",
       "      <td>1.0</td>\n",
       "      <td>0.0</td>\n",
       "      <td>1.0</td>\n",
       "      <td>...</td>\n",
       "      <td>1.0</td>\n",
       "      <td>1.0</td>\n",
       "      <td>1.0</td>\n",
       "      <td>0.0</td>\n",
       "      <td>0.0</td>\n",
       "      <td>1.0</td>\n",
       "      <td>1.0</td>\n",
       "      <td>0.0</td>\n",
       "      <td>0.0</td>\n",
       "      <td>0.0</td>\n",
       "    </tr>\n",
       "    <tr>\n",
       "      <th>496--WatermarkedWyJXYXRlcm1hcmtlZCJd.jpeg</th>\n",
       "      <td>Actinic keratosis</td>\n",
       "      <td>Actinic keratosis</td>\n",
       "      <td>0.0</td>\n",
       "      <td>0.0</td>\n",
       "      <td>0.0</td>\n",
       "      <td>0.0</td>\n",
       "      <td>1.0</td>\n",
       "      <td>1.0</td>\n",
       "      <td>0.0</td>\n",
       "      <td>1.0</td>\n",
       "      <td>...</td>\n",
       "      <td>1.0</td>\n",
       "      <td>1.0</td>\n",
       "      <td>0.0</td>\n",
       "      <td>1.0</td>\n",
       "      <td>0.0</td>\n",
       "      <td>1.0</td>\n",
       "      <td>0.0</td>\n",
       "      <td>0.0</td>\n",
       "      <td>0.0</td>\n",
       "      <td>1.0</td>\n",
       "    </tr>\n",
       "    <tr>\n",
       "      <th>016139HB.jpeg</th>\n",
       "      <td>Acne</td>\n",
       "      <td>Actinic keratosis</td>\n",
       "      <td>0.0</td>\n",
       "      <td>0.0</td>\n",
       "      <td>0.0</td>\n",
       "      <td>1.0</td>\n",
       "      <td>1.0</td>\n",
       "      <td>1.0</td>\n",
       "      <td>0.0</td>\n",
       "      <td>1.0</td>\n",
       "      <td>...</td>\n",
       "      <td>1.0</td>\n",
       "      <td>1.0</td>\n",
       "      <td>1.0</td>\n",
       "      <td>1.0</td>\n",
       "      <td>0.0</td>\n",
       "      <td>1.0</td>\n",
       "      <td>0.0</td>\n",
       "      <td>0.0</td>\n",
       "      <td>0.0</td>\n",
       "      <td>0.0</td>\n",
       "    </tr>\n",
       "    <tr>\n",
       "      <th>044314HB.jpeg</th>\n",
       "      <td>Psoriasis</td>\n",
       "      <td>Psoriasis</td>\n",
       "      <td>0.0</td>\n",
       "      <td>0.0</td>\n",
       "      <td>0.0</td>\n",
       "      <td>0.0</td>\n",
       "      <td>0.0</td>\n",
       "      <td>1.0</td>\n",
       "      <td>0.0</td>\n",
       "      <td>1.0</td>\n",
       "      <td>...</td>\n",
       "      <td>1.0</td>\n",
       "      <td>0.0</td>\n",
       "      <td>1.0</td>\n",
       "      <td>0.0</td>\n",
       "      <td>1.0</td>\n",
       "      <td>1.0</td>\n",
       "      <td>1.0</td>\n",
       "      <td>1.0</td>\n",
       "      <td>0.0</td>\n",
       "      <td>0.0</td>\n",
       "    </tr>\n",
       "    <tr>\n",
       "      <th>piebald3--WatermarkedWyJXYXRlcm1hcmtlZCJd.jpeg</th>\n",
       "      <td>Acne</td>\n",
       "      <td>Vitiligo</td>\n",
       "      <td>0.0</td>\n",
       "      <td>0.0</td>\n",
       "      <td>0.0</td>\n",
       "      <td>0.0</td>\n",
       "      <td>1.0</td>\n",
       "      <td>0.0</td>\n",
       "      <td>0.0</td>\n",
       "      <td>0.0</td>\n",
       "      <td>...</td>\n",
       "      <td>1.0</td>\n",
       "      <td>1.0</td>\n",
       "      <td>1.0</td>\n",
       "      <td>1.0</td>\n",
       "      <td>0.0</td>\n",
       "      <td>1.0</td>\n",
       "      <td>1.0</td>\n",
       "      <td>0.0</td>\n",
       "      <td>0.0</td>\n",
       "      <td>0.0</td>\n",
       "    </tr>\n",
       "    <tr>\n",
       "      <th>vitiligo-51--WatermarkedWyJXYXRlcm1hcmtlZCJd.jpeg</th>\n",
       "      <td>Seborrheic dermatitis</td>\n",
       "      <td>Vitiligo</td>\n",
       "      <td>0.0</td>\n",
       "      <td>0.0</td>\n",
       "      <td>0.0</td>\n",
       "      <td>0.0</td>\n",
       "      <td>1.0</td>\n",
       "      <td>0.0</td>\n",
       "      <td>0.0</td>\n",
       "      <td>0.0</td>\n",
       "      <td>...</td>\n",
       "      <td>0.0</td>\n",
       "      <td>0.0</td>\n",
       "      <td>1.0</td>\n",
       "      <td>0.0</td>\n",
       "      <td>1.0</td>\n",
       "      <td>0.0</td>\n",
       "      <td>1.0</td>\n",
       "      <td>0.0</td>\n",
       "      <td>1.0</td>\n",
       "      <td>0.0</td>\n",
       "    </tr>\n",
       "    <tr>\n",
       "      <th>facial-psoriasis26--WatermarkedWyJXYXRlcm1hcmtlZCJd.jpeg</th>\n",
       "      <td>Actinic keratosis</td>\n",
       "      <td>Psoriasis</td>\n",
       "      <td>0.0</td>\n",
       "      <td>0.0</td>\n",
       "      <td>0.0</td>\n",
       "      <td>0.0</td>\n",
       "      <td>0.0</td>\n",
       "      <td>1.0</td>\n",
       "      <td>0.0</td>\n",
       "      <td>1.0</td>\n",
       "      <td>...</td>\n",
       "      <td>1.0</td>\n",
       "      <td>1.0</td>\n",
       "      <td>1.0</td>\n",
       "      <td>1.0</td>\n",
       "      <td>0.0</td>\n",
       "      <td>1.0</td>\n",
       "      <td>1.0</td>\n",
       "      <td>0.0</td>\n",
       "      <td>0.0</td>\n",
       "      <td>0.0</td>\n",
       "    </tr>\n",
       "    <tr>\n",
       "      <th>044772HB.jpeg</th>\n",
       "      <td>Psoriasis</td>\n",
       "      <td>Psoriasis</td>\n",
       "      <td>0.0</td>\n",
       "      <td>0.0</td>\n",
       "      <td>0.0</td>\n",
       "      <td>1.0</td>\n",
       "      <td>1.0</td>\n",
       "      <td>1.0</td>\n",
       "      <td>0.0</td>\n",
       "      <td>1.0</td>\n",
       "      <td>...</td>\n",
       "      <td>1.0</td>\n",
       "      <td>0.0</td>\n",
       "      <td>0.0</td>\n",
       "      <td>0.0</td>\n",
       "      <td>1.0</td>\n",
       "      <td>1.0</td>\n",
       "      <td>0.0</td>\n",
       "      <td>1.0</td>\n",
       "      <td>0.0</td>\n",
       "      <td>0.0</td>\n",
       "    </tr>\n",
       "    <tr>\n",
       "      <th>steroid-acne-03--WatermarkedWyJXYXRlcm1hcmtlZCJd.jpeg</th>\n",
       "      <td>Actinic keratosis</td>\n",
       "      <td>Acne</td>\n",
       "      <td>0.0</td>\n",
       "      <td>0.0</td>\n",
       "      <td>1.0</td>\n",
       "      <td>1.0</td>\n",
       "      <td>1.0</td>\n",
       "      <td>1.0</td>\n",
       "      <td>1.0</td>\n",
       "      <td>1.0</td>\n",
       "      <td>...</td>\n",
       "      <td>1.0</td>\n",
       "      <td>1.0</td>\n",
       "      <td>1.0</td>\n",
       "      <td>1.0</td>\n",
       "      <td>0.0</td>\n",
       "      <td>1.0</td>\n",
       "      <td>0.0</td>\n",
       "      <td>0.0</td>\n",
       "      <td>0.0</td>\n",
       "      <td>1.0</td>\n",
       "    </tr>\n",
       "    <tr>\n",
       "      <th>10564-WARTS.jpeg</th>\n",
       "      <td>Psoriasis</td>\n",
       "      <td>Viral warts</td>\n",
       "      <td>0.0</td>\n",
       "      <td>1.0</td>\n",
       "      <td>0.0</td>\n",
       "      <td>1.0</td>\n",
       "      <td>0.0</td>\n",
       "      <td>1.0</td>\n",
       "      <td>0.0</td>\n",
       "      <td>0.0</td>\n",
       "      <td>...</td>\n",
       "      <td>0.0</td>\n",
       "      <td>0.0</td>\n",
       "      <td>1.0</td>\n",
       "      <td>0.0</td>\n",
       "      <td>1.0</td>\n",
       "      <td>1.0</td>\n",
       "      <td>1.0</td>\n",
       "      <td>1.0</td>\n",
       "      <td>1.0</td>\n",
       "      <td>0.0</td>\n",
       "    </tr>\n",
       "    <tr>\n",
       "      <th>acne-face-65--WatermarkedWyJXYXRlcm1hcmtlZCJd.jpeg</th>\n",
       "      <td>Acne</td>\n",
       "      <td>Acne</td>\n",
       "      <td>1.0</td>\n",
       "      <td>0.0</td>\n",
       "      <td>1.0</td>\n",
       "      <td>1.0</td>\n",
       "      <td>0.0</td>\n",
       "      <td>0.0</td>\n",
       "      <td>1.0</td>\n",
       "      <td>0.0</td>\n",
       "      <td>...</td>\n",
       "      <td>1.0</td>\n",
       "      <td>1.0</td>\n",
       "      <td>1.0</td>\n",
       "      <td>1.0</td>\n",
       "      <td>0.0</td>\n",
       "      <td>1.0</td>\n",
       "      <td>1.0</td>\n",
       "      <td>0.0</td>\n",
       "      <td>0.0</td>\n",
       "      <td>0.0</td>\n",
       "    </tr>\n",
       "    <tr>\n",
       "      <th>acne-face-56--WatermarkedWyJXYXRlcm1hcmtlZCJd.jpeg</th>\n",
       "      <td>Acne</td>\n",
       "      <td>Acne</td>\n",
       "      <td>0.0</td>\n",
       "      <td>0.0</td>\n",
       "      <td>1.0</td>\n",
       "      <td>1.0</td>\n",
       "      <td>0.0</td>\n",
       "      <td>0.0</td>\n",
       "      <td>1.0</td>\n",
       "      <td>0.0</td>\n",
       "      <td>...</td>\n",
       "      <td>1.0</td>\n",
       "      <td>1.0</td>\n",
       "      <td>1.0</td>\n",
       "      <td>1.0</td>\n",
       "      <td>0.0</td>\n",
       "      <td>1.0</td>\n",
       "      <td>1.0</td>\n",
       "      <td>0.0</td>\n",
       "      <td>0.0</td>\n",
       "      <td>0.0</td>\n",
       "    </tr>\n",
       "    <tr>\n",
       "      <th>foll-kel1--WatermarkedWyJXYXRlcm1hcmtlZCJd.jpeg</th>\n",
       "      <td>Acne</td>\n",
       "      <td>Acne</td>\n",
       "      <td>0.0</td>\n",
       "      <td>0.0</td>\n",
       "      <td>0.0</td>\n",
       "      <td>0.0</td>\n",
       "      <td>0.0</td>\n",
       "      <td>1.0</td>\n",
       "      <td>0.0</td>\n",
       "      <td>0.0</td>\n",
       "      <td>...</td>\n",
       "      <td>1.0</td>\n",
       "      <td>1.0</td>\n",
       "      <td>1.0</td>\n",
       "      <td>1.0</td>\n",
       "      <td>0.0</td>\n",
       "      <td>1.0</td>\n",
       "      <td>1.0</td>\n",
       "      <td>1.0</td>\n",
       "      <td>1.0</td>\n",
       "      <td>0.0</td>\n",
       "    </tr>\n",
       "    <tr>\n",
       "      <th>043293HB.jpeg</th>\n",
       "      <td>Seborrheic dermatitis</td>\n",
       "      <td>Seborrheic dermatitis</td>\n",
       "      <td>0.0</td>\n",
       "      <td>0.0</td>\n",
       "      <td>0.0</td>\n",
       "      <td>0.0</td>\n",
       "      <td>1.0</td>\n",
       "      <td>1.0</td>\n",
       "      <td>0.0</td>\n",
       "      <td>1.0</td>\n",
       "      <td>...</td>\n",
       "      <td>1.0</td>\n",
       "      <td>1.0</td>\n",
       "      <td>1.0</td>\n",
       "      <td>0.0</td>\n",
       "      <td>1.0</td>\n",
       "      <td>0.0</td>\n",
       "      <td>0.0</td>\n",
       "      <td>0.0</td>\n",
       "      <td>0.0</td>\n",
       "      <td>0.0</td>\n",
       "    </tr>\n",
       "    <tr>\n",
       "      <th>032439HB.jpeg</th>\n",
       "      <td>Acne</td>\n",
       "      <td>Acne</td>\n",
       "      <td>1.0</td>\n",
       "      <td>0.0</td>\n",
       "      <td>1.0</td>\n",
       "      <td>1.0</td>\n",
       "      <td>0.0</td>\n",
       "      <td>0.0</td>\n",
       "      <td>1.0</td>\n",
       "      <td>1.0</td>\n",
       "      <td>...</td>\n",
       "      <td>1.0</td>\n",
       "      <td>1.0</td>\n",
       "      <td>1.0</td>\n",
       "      <td>1.0</td>\n",
       "      <td>0.0</td>\n",
       "      <td>1.0</td>\n",
       "      <td>1.0</td>\n",
       "      <td>0.0</td>\n",
       "      <td>0.0</td>\n",
       "      <td>0.0</td>\n",
       "    </tr>\n",
       "    <tr>\n",
       "      <th>acne-face-1-48--WatermarkedWyJXYXRlcm1hcmtlZCJd.jpeg</th>\n",
       "      <td>Acne</td>\n",
       "      <td>Acne</td>\n",
       "      <td>1.0</td>\n",
       "      <td>0.0</td>\n",
       "      <td>1.0</td>\n",
       "      <td>1.0</td>\n",
       "      <td>0.0</td>\n",
       "      <td>0.0</td>\n",
       "      <td>1.0</td>\n",
       "      <td>0.0</td>\n",
       "      <td>...</td>\n",
       "      <td>1.0</td>\n",
       "      <td>1.0</td>\n",
       "      <td>1.0</td>\n",
       "      <td>1.0</td>\n",
       "      <td>0.0</td>\n",
       "      <td>1.0</td>\n",
       "      <td>0.0</td>\n",
       "      <td>0.0</td>\n",
       "      <td>0.0</td>\n",
       "      <td>0.0</td>\n",
       "    </tr>\n",
       "    <tr>\n",
       "      <th>043128HB.jpeg</th>\n",
       "      <td>Psoriasis</td>\n",
       "      <td>Seborrheic dermatitis</td>\n",
       "      <td>0.0</td>\n",
       "      <td>0.0</td>\n",
       "      <td>0.0</td>\n",
       "      <td>0.0</td>\n",
       "      <td>1.0</td>\n",
       "      <td>0.0</td>\n",
       "      <td>0.0</td>\n",
       "      <td>0.0</td>\n",
       "      <td>...</td>\n",
       "      <td>1.0</td>\n",
       "      <td>1.0</td>\n",
       "      <td>1.0</td>\n",
       "      <td>0.0</td>\n",
       "      <td>1.0</td>\n",
       "      <td>1.0</td>\n",
       "      <td>0.0</td>\n",
       "      <td>0.0</td>\n",
       "      <td>0.0</td>\n",
       "      <td>0.0</td>\n",
       "    </tr>\n",
       "    <tr>\n",
       "      <th>ppps22--WatermarkedWyJXYXRlcm1hcmtlZCJd.jpeg</th>\n",
       "      <td>Psoriasis</td>\n",
       "      <td>Psoriasis</td>\n",
       "      <td>0.0</td>\n",
       "      <td>0.0</td>\n",
       "      <td>0.0</td>\n",
       "      <td>0.0</td>\n",
       "      <td>0.0</td>\n",
       "      <td>1.0</td>\n",
       "      <td>0.0</td>\n",
       "      <td>1.0</td>\n",
       "      <td>...</td>\n",
       "      <td>0.0</td>\n",
       "      <td>0.0</td>\n",
       "      <td>0.0</td>\n",
       "      <td>0.0</td>\n",
       "      <td>1.0</td>\n",
       "      <td>1.0</td>\n",
       "      <td>0.0</td>\n",
       "      <td>1.0</td>\n",
       "      <td>1.0</td>\n",
       "      <td>0.0</td>\n",
       "    </tr>\n",
       "    <tr>\n",
       "      <th>017875HB.jpeg</th>\n",
       "      <td>Actinic keratosis</td>\n",
       "      <td>Actinic keratosis</td>\n",
       "      <td>0.0</td>\n",
       "      <td>0.0</td>\n",
       "      <td>0.0</td>\n",
       "      <td>1.0</td>\n",
       "      <td>1.0</td>\n",
       "      <td>1.0</td>\n",
       "      <td>0.0</td>\n",
       "      <td>1.0</td>\n",
       "      <td>...</td>\n",
       "      <td>1.0</td>\n",
       "      <td>1.0</td>\n",
       "      <td>1.0</td>\n",
       "      <td>1.0</td>\n",
       "      <td>0.0</td>\n",
       "      <td>1.0</td>\n",
       "      <td>0.0</td>\n",
       "      <td>0.0</td>\n",
       "      <td>0.0</td>\n",
       "      <td>1.0</td>\n",
       "    </tr>\n",
       "    <tr>\n",
       "      <th>016441HB.jpeg</th>\n",
       "      <td>Actinic keratosis</td>\n",
       "      <td>Actinic keratosis</td>\n",
       "      <td>0.0</td>\n",
       "      <td>0.0</td>\n",
       "      <td>0.0</td>\n",
       "      <td>1.0</td>\n",
       "      <td>1.0</td>\n",
       "      <td>1.0</td>\n",
       "      <td>0.0</td>\n",
       "      <td>1.0</td>\n",
       "      <td>...</td>\n",
       "      <td>0.0</td>\n",
       "      <td>1.0</td>\n",
       "      <td>1.0</td>\n",
       "      <td>1.0</td>\n",
       "      <td>1.0</td>\n",
       "      <td>1.0</td>\n",
       "      <td>0.0</td>\n",
       "      <td>0.0</td>\n",
       "      <td>0.0</td>\n",
       "      <td>1.0</td>\n",
       "    </tr>\n",
       "    <tr>\n",
       "      <th>042980HB.jpeg</th>\n",
       "      <td>Seborrheic dermatitis</td>\n",
       "      <td>Seborrheic dermatitis</td>\n",
       "      <td>0.0</td>\n",
       "      <td>0.0</td>\n",
       "      <td>0.0</td>\n",
       "      <td>0.0</td>\n",
       "      <td>0.0</td>\n",
       "      <td>1.0</td>\n",
       "      <td>0.0</td>\n",
       "      <td>1.0</td>\n",
       "      <td>...</td>\n",
       "      <td>1.0</td>\n",
       "      <td>1.0</td>\n",
       "      <td>1.0</td>\n",
       "      <td>1.0</td>\n",
       "      <td>0.0</td>\n",
       "      <td>0.0</td>\n",
       "      <td>0.0</td>\n",
       "      <td>0.0</td>\n",
       "      <td>0.0</td>\n",
       "      <td>0.0</td>\n",
       "    </tr>\n",
       "    <tr>\n",
       "      <th>vitiligo-15--WatermarkedWyJXYXRlcm1hcmtlZCJd.jpeg</th>\n",
       "      <td>Vitiligo</td>\n",
       "      <td>Vitiligo</td>\n",
       "      <td>0.0</td>\n",
       "      <td>0.0</td>\n",
       "      <td>0.0</td>\n",
       "      <td>0.0</td>\n",
       "      <td>1.0</td>\n",
       "      <td>0.0</td>\n",
       "      <td>0.0</td>\n",
       "      <td>0.0</td>\n",
       "      <td>...</td>\n",
       "      <td>1.0</td>\n",
       "      <td>0.0</td>\n",
       "      <td>0.0</td>\n",
       "      <td>0.0</td>\n",
       "      <td>0.0</td>\n",
       "      <td>0.0</td>\n",
       "      <td>1.0</td>\n",
       "      <td>1.0</td>\n",
       "      <td>1.0</td>\n",
       "      <td>1.0</td>\n",
       "    </tr>\n",
       "    <tr>\n",
       "      <th>035260HB.jpeg</th>\n",
       "      <td>Acne</td>\n",
       "      <td>Acne</td>\n",
       "      <td>1.0</td>\n",
       "      <td>0.0</td>\n",
       "      <td>1.0</td>\n",
       "      <td>1.0</td>\n",
       "      <td>0.0</td>\n",
       "      <td>0.0</td>\n",
       "      <td>1.0</td>\n",
       "      <td>0.0</td>\n",
       "      <td>...</td>\n",
       "      <td>1.0</td>\n",
       "      <td>1.0</td>\n",
       "      <td>1.0</td>\n",
       "      <td>1.0</td>\n",
       "      <td>0.0</td>\n",
       "      <td>1.0</td>\n",
       "      <td>1.0</td>\n",
       "      <td>0.0</td>\n",
       "      <td>0.0</td>\n",
       "      <td>0.0</td>\n",
       "    </tr>\n",
       "    <tr>\n",
       "      <th>017560HB.jpeg</th>\n",
       "      <td>Psoriasis</td>\n",
       "      <td>Actinic keratosis</td>\n",
       "      <td>0.0</td>\n",
       "      <td>0.0</td>\n",
       "      <td>0.0</td>\n",
       "      <td>1.0</td>\n",
       "      <td>1.0</td>\n",
       "      <td>1.0</td>\n",
       "      <td>0.0</td>\n",
       "      <td>1.0</td>\n",
       "      <td>...</td>\n",
       "      <td>0.0</td>\n",
       "      <td>0.0</td>\n",
       "      <td>1.0</td>\n",
       "      <td>1.0</td>\n",
       "      <td>1.0</td>\n",
       "      <td>1.0</td>\n",
       "      <td>1.0</td>\n",
       "      <td>0.0</td>\n",
       "      <td>0.0</td>\n",
       "      <td>0.0</td>\n",
       "    </tr>\n",
       "    <tr>\n",
       "      <th>045142HB.jpeg</th>\n",
       "      <td>Seborrheic dermatitis</td>\n",
       "      <td>Seborrheic dermatitis</td>\n",
       "      <td>0.0</td>\n",
       "      <td>0.0</td>\n",
       "      <td>0.0</td>\n",
       "      <td>0.0</td>\n",
       "      <td>0.0</td>\n",
       "      <td>1.0</td>\n",
       "      <td>0.0</td>\n",
       "      <td>1.0</td>\n",
       "      <td>...</td>\n",
       "      <td>1.0</td>\n",
       "      <td>1.0</td>\n",
       "      <td>1.0</td>\n",
       "      <td>0.0</td>\n",
       "      <td>1.0</td>\n",
       "      <td>0.0</td>\n",
       "      <td>0.0</td>\n",
       "      <td>0.0</td>\n",
       "      <td>0.0</td>\n",
       "      <td>0.0</td>\n",
       "    </tr>\n",
       "    <tr>\n",
       "      <th>269--WatermarkedWyJXYXRlcm1hcmtlZCJd.jpeg</th>\n",
       "      <td>Actinic keratosis</td>\n",
       "      <td>Actinic keratosis</td>\n",
       "      <td>0.0</td>\n",
       "      <td>0.0</td>\n",
       "      <td>0.0</td>\n",
       "      <td>0.0</td>\n",
       "      <td>1.0</td>\n",
       "      <td>1.0</td>\n",
       "      <td>0.0</td>\n",
       "      <td>1.0</td>\n",
       "      <td>...</td>\n",
       "      <td>1.0</td>\n",
       "      <td>1.0</td>\n",
       "      <td>1.0</td>\n",
       "      <td>1.0</td>\n",
       "      <td>0.0</td>\n",
       "      <td>1.0</td>\n",
       "      <td>0.0</td>\n",
       "      <td>0.0</td>\n",
       "      <td>0.0</td>\n",
       "      <td>1.0</td>\n",
       "    </tr>\n",
       "    <tr>\n",
       "      <th>043126HB.jpeg</th>\n",
       "      <td>Seborrheic dermatitis</td>\n",
       "      <td>Seborrheic dermatitis</td>\n",
       "      <td>0.0</td>\n",
       "      <td>0.0</td>\n",
       "      <td>0.0</td>\n",
       "      <td>0.0</td>\n",
       "      <td>1.0</td>\n",
       "      <td>1.0</td>\n",
       "      <td>0.0</td>\n",
       "      <td>1.0</td>\n",
       "      <td>...</td>\n",
       "      <td>1.0</td>\n",
       "      <td>1.0</td>\n",
       "      <td>1.0</td>\n",
       "      <td>0.0</td>\n",
       "      <td>1.0</td>\n",
       "      <td>0.0</td>\n",
       "      <td>0.0</td>\n",
       "      <td>0.0</td>\n",
       "      <td>0.0</td>\n",
       "      <td>0.0</td>\n",
       "    </tr>\n",
       "    <tr>\n",
       "      <th>acne1--WatermarkedWyJXYXRlcm1hcmtlZCJd.jpeg</th>\n",
       "      <td>Acne</td>\n",
       "      <td>Acne</td>\n",
       "      <td>1.0</td>\n",
       "      <td>0.0</td>\n",
       "      <td>1.0</td>\n",
       "      <td>1.0</td>\n",
       "      <td>0.0</td>\n",
       "      <td>0.0</td>\n",
       "      <td>1.0</td>\n",
       "      <td>1.0</td>\n",
       "      <td>...</td>\n",
       "      <td>1.0</td>\n",
       "      <td>1.0</td>\n",
       "      <td>1.0</td>\n",
       "      <td>1.0</td>\n",
       "      <td>0.0</td>\n",
       "      <td>1.0</td>\n",
       "      <td>1.0</td>\n",
       "      <td>0.0</td>\n",
       "      <td>0.0</td>\n",
       "      <td>0.0</td>\n",
       "    </tr>\n",
       "    <tr>\n",
       "      <th>017322HB.jpeg</th>\n",
       "      <td>Actinic keratosis</td>\n",
       "      <td>Actinic keratosis</td>\n",
       "      <td>0.0</td>\n",
       "      <td>0.0</td>\n",
       "      <td>0.0</td>\n",
       "      <td>0.0</td>\n",
       "      <td>1.0</td>\n",
       "      <td>1.0</td>\n",
       "      <td>0.0</td>\n",
       "      <td>1.0</td>\n",
       "      <td>...</td>\n",
       "      <td>1.0</td>\n",
       "      <td>1.0</td>\n",
       "      <td>1.0</td>\n",
       "      <td>1.0</td>\n",
       "      <td>0.0</td>\n",
       "      <td>1.0</td>\n",
       "      <td>0.0</td>\n",
       "      <td>0.0</td>\n",
       "      <td>0.0</td>\n",
       "      <td>1.0</td>\n",
       "    </tr>\n",
       "    <tr>\n",
       "      <th>sebderm6--WatermarkedWyJXYXRlcm1hcmtlZCJd.jpeg</th>\n",
       "      <td>Seborrheic dermatitis</td>\n",
       "      <td>Seborrheic dermatitis</td>\n",
       "      <td>0.0</td>\n",
       "      <td>0.0</td>\n",
       "      <td>0.0</td>\n",
       "      <td>0.0</td>\n",
       "      <td>0.0</td>\n",
       "      <td>1.0</td>\n",
       "      <td>0.0</td>\n",
       "      <td>1.0</td>\n",
       "      <td>...</td>\n",
       "      <td>1.0</td>\n",
       "      <td>1.0</td>\n",
       "      <td>1.0</td>\n",
       "      <td>0.0</td>\n",
       "      <td>1.0</td>\n",
       "      <td>0.0</td>\n",
       "      <td>0.0</td>\n",
       "      <td>0.0</td>\n",
       "      <td>0.0</td>\n",
       "      <td>0.0</td>\n",
       "    </tr>\n",
       "    <tr>\n",
       "      <th>044875HB.jpeg</th>\n",
       "      <td>Psoriasis</td>\n",
       "      <td>Psoriasis</td>\n",
       "      <td>0.0</td>\n",
       "      <td>0.0</td>\n",
       "      <td>0.0</td>\n",
       "      <td>1.0</td>\n",
       "      <td>0.0</td>\n",
       "      <td>1.0</td>\n",
       "      <td>0.0</td>\n",
       "      <td>1.0</td>\n",
       "      <td>...</td>\n",
       "      <td>1.0</td>\n",
       "      <td>0.0</td>\n",
       "      <td>0.0</td>\n",
       "      <td>0.0</td>\n",
       "      <td>1.0</td>\n",
       "      <td>1.0</td>\n",
       "      <td>0.0</td>\n",
       "      <td>1.0</td>\n",
       "      <td>0.0</td>\n",
       "      <td>0.0</td>\n",
       "    </tr>\n",
       "    <tr>\n",
       "      <th>acne-face-2--WatermarkedWyJXYXRlcm1hcmtlZCJd.jpeg</th>\n",
       "      <td>Acne</td>\n",
       "      <td>Acne</td>\n",
       "      <td>0.0</td>\n",
       "      <td>0.0</td>\n",
       "      <td>1.0</td>\n",
       "      <td>1.0</td>\n",
       "      <td>0.0</td>\n",
       "      <td>1.0</td>\n",
       "      <td>1.0</td>\n",
       "      <td>0.0</td>\n",
       "      <td>...</td>\n",
       "      <td>1.0</td>\n",
       "      <td>1.0</td>\n",
       "      <td>1.0</td>\n",
       "      <td>1.0</td>\n",
       "      <td>0.0</td>\n",
       "      <td>1.0</td>\n",
       "      <td>1.0</td>\n",
       "      <td>0.0</td>\n",
       "      <td>0.0</td>\n",
       "      <td>0.0</td>\n",
       "    </tr>\n",
       "    <tr>\n",
       "      <th>319--WatermarkedWyJXYXRlcm1hcmtlZCJd.jpeg</th>\n",
       "      <td>Seborrheic dermatitis</td>\n",
       "      <td>Actinic keratosis</td>\n",
       "      <td>0.0</td>\n",
       "      <td>0.0</td>\n",
       "      <td>0.0</td>\n",
       "      <td>1.0</td>\n",
       "      <td>1.0</td>\n",
       "      <td>1.0</td>\n",
       "      <td>0.0</td>\n",
       "      <td>1.0</td>\n",
       "      <td>...</td>\n",
       "      <td>1.0</td>\n",
       "      <td>1.0</td>\n",
       "      <td>1.0</td>\n",
       "      <td>1.0</td>\n",
       "      <td>0.0</td>\n",
       "      <td>0.0</td>\n",
       "      <td>0.0</td>\n",
       "      <td>0.0</td>\n",
       "      <td>0.0</td>\n",
       "      <td>0.0</td>\n",
       "    </tr>\n",
       "    <tr>\n",
       "      <th>seborrhoeic-dermatitis--WatermarkedWyJXYXRlcm1hcmtlZCJd.jpeg</th>\n",
       "      <td>Viral warts</td>\n",
       "      <td>Seborrheic dermatitis</td>\n",
       "      <td>0.0</td>\n",
       "      <td>0.0</td>\n",
       "      <td>0.0</td>\n",
       "      <td>1.0</td>\n",
       "      <td>0.0</td>\n",
       "      <td>1.0</td>\n",
       "      <td>0.0</td>\n",
       "      <td>1.0</td>\n",
       "      <td>...</td>\n",
       "      <td>0.0</td>\n",
       "      <td>0.0</td>\n",
       "      <td>1.0</td>\n",
       "      <td>0.0</td>\n",
       "      <td>1.0</td>\n",
       "      <td>0.0</td>\n",
       "      <td>1.0</td>\n",
       "      <td>1.0</td>\n",
       "      <td>1.0</td>\n",
       "      <td>0.0</td>\n",
       "    </tr>\n",
       "    <tr>\n",
       "      <th>043173HB.jpeg</th>\n",
       "      <td>Seborrheic dermatitis</td>\n",
       "      <td>Seborrheic dermatitis</td>\n",
       "      <td>0.0</td>\n",
       "      <td>0.0</td>\n",
       "      <td>0.0</td>\n",
       "      <td>0.0</td>\n",
       "      <td>1.0</td>\n",
       "      <td>1.0</td>\n",
       "      <td>0.0</td>\n",
       "      <td>1.0</td>\n",
       "      <td>...</td>\n",
       "      <td>1.0</td>\n",
       "      <td>1.0</td>\n",
       "      <td>1.0</td>\n",
       "      <td>1.0</td>\n",
       "      <td>1.0</td>\n",
       "      <td>0.0</td>\n",
       "      <td>0.0</td>\n",
       "      <td>0.0</td>\n",
       "      <td>0.0</td>\n",
       "      <td>0.0</td>\n",
       "    </tr>\n",
       "    <tr>\n",
       "      <th>piebald6--WatermarkedWyJXYXRlcm1hcmtlZCJd.jpeg</th>\n",
       "      <td>Vitiligo</td>\n",
       "      <td>Vitiligo</td>\n",
       "      <td>0.0</td>\n",
       "      <td>0.0</td>\n",
       "      <td>0.0</td>\n",
       "      <td>0.0</td>\n",
       "      <td>1.0</td>\n",
       "      <td>0.0</td>\n",
       "      <td>0.0</td>\n",
       "      <td>0.0</td>\n",
       "      <td>...</td>\n",
       "      <td>0.0</td>\n",
       "      <td>0.0</td>\n",
       "      <td>1.0</td>\n",
       "      <td>0.0</td>\n",
       "      <td>1.0</td>\n",
       "      <td>0.0</td>\n",
       "      <td>1.0</td>\n",
       "      <td>1.0</td>\n",
       "      <td>1.0</td>\n",
       "      <td>0.0</td>\n",
       "    </tr>\n",
       "    <tr>\n",
       "      <th>vitiligo-28--WatermarkedWyJXYXRlcm1hcmtlZCJd.jpeg</th>\n",
       "      <td>Vitiligo</td>\n",
       "      <td>Vitiligo</td>\n",
       "      <td>0.0</td>\n",
       "      <td>0.0</td>\n",
       "      <td>0.0</td>\n",
       "      <td>0.0</td>\n",
       "      <td>1.0</td>\n",
       "      <td>0.0</td>\n",
       "      <td>0.0</td>\n",
       "      <td>0.0</td>\n",
       "      <td>...</td>\n",
       "      <td>1.0</td>\n",
       "      <td>0.0</td>\n",
       "      <td>0.0</td>\n",
       "      <td>0.0</td>\n",
       "      <td>0.0</td>\n",
       "      <td>0.0</td>\n",
       "      <td>0.0</td>\n",
       "      <td>1.0</td>\n",
       "      <td>1.0</td>\n",
       "      <td>1.0</td>\n",
       "    </tr>\n",
       "    <tr>\n",
       "      <th>515--WatermarkedWyJXYXRlcm1hcmtlZCJd.jpeg</th>\n",
       "      <td>Actinic keratosis</td>\n",
       "      <td>Actinic keratosis</td>\n",
       "      <td>0.0</td>\n",
       "      <td>0.0</td>\n",
       "      <td>0.0</td>\n",
       "      <td>1.0</td>\n",
       "      <td>1.0</td>\n",
       "      <td>1.0</td>\n",
       "      <td>0.0</td>\n",
       "      <td>1.0</td>\n",
       "      <td>...</td>\n",
       "      <td>1.0</td>\n",
       "      <td>1.0</td>\n",
       "      <td>0.0</td>\n",
       "      <td>1.0</td>\n",
       "      <td>0.0</td>\n",
       "      <td>1.0</td>\n",
       "      <td>0.0</td>\n",
       "      <td>0.0</td>\n",
       "      <td>0.0</td>\n",
       "      <td>1.0</td>\n",
       "    </tr>\n",
       "    <tr>\n",
       "      <th>wart25--WatermarkedWyJXYXRlcm1hcmtlZCJd.jpeg</th>\n",
       "      <td>Viral warts</td>\n",
       "      <td>Viral warts</td>\n",
       "      <td>0.0</td>\n",
       "      <td>1.0</td>\n",
       "      <td>0.0</td>\n",
       "      <td>1.0</td>\n",
       "      <td>0.0</td>\n",
       "      <td>1.0</td>\n",
       "      <td>0.0</td>\n",
       "      <td>1.0</td>\n",
       "      <td>...</td>\n",
       "      <td>0.0</td>\n",
       "      <td>0.0</td>\n",
       "      <td>1.0</td>\n",
       "      <td>1.0</td>\n",
       "      <td>1.0</td>\n",
       "      <td>0.0</td>\n",
       "      <td>1.0</td>\n",
       "      <td>1.0</td>\n",
       "      <td>1.0</td>\n",
       "      <td>0.0</td>\n",
       "    </tr>\n",
       "    <tr>\n",
       "      <th>viral-wart-13--WatermarkedWyJXYXRlcm1hcmtlZCJd.jpeg</th>\n",
       "      <td>Viral warts</td>\n",
       "      <td>Viral warts</td>\n",
       "      <td>0.0</td>\n",
       "      <td>1.0</td>\n",
       "      <td>0.0</td>\n",
       "      <td>1.0</td>\n",
       "      <td>0.0</td>\n",
       "      <td>1.0</td>\n",
       "      <td>0.0</td>\n",
       "      <td>1.0</td>\n",
       "      <td>...</td>\n",
       "      <td>0.0</td>\n",
       "      <td>0.0</td>\n",
       "      <td>1.0</td>\n",
       "      <td>1.0</td>\n",
       "      <td>1.0</td>\n",
       "      <td>0.0</td>\n",
       "      <td>1.0</td>\n",
       "      <td>1.0</td>\n",
       "      <td>1.0</td>\n",
       "      <td>0.0</td>\n",
       "    </tr>\n",
       "    <tr>\n",
       "      <th>wart26--WatermarkedWyJXYXRlcm1hcmtlZCJd.jpeg</th>\n",
       "      <td>Viral warts</td>\n",
       "      <td>Viral warts</td>\n",
       "      <td>0.0</td>\n",
       "      <td>1.0</td>\n",
       "      <td>0.0</td>\n",
       "      <td>1.0</td>\n",
       "      <td>0.0</td>\n",
       "      <td>1.0</td>\n",
       "      <td>0.0</td>\n",
       "      <td>0.0</td>\n",
       "      <td>...</td>\n",
       "      <td>0.0</td>\n",
       "      <td>0.0</td>\n",
       "      <td>1.0</td>\n",
       "      <td>1.0</td>\n",
       "      <td>1.0</td>\n",
       "      <td>0.0</td>\n",
       "      <td>1.0</td>\n",
       "      <td>1.0</td>\n",
       "      <td>1.0</td>\n",
       "      <td>0.0</td>\n",
       "    </tr>\n",
       "    <tr>\n",
       "      <th>facial-psoriasis21--WatermarkedWyJXYXRlcm1hcmtlZCJd.jpeg</th>\n",
       "      <td>Psoriasis</td>\n",
       "      <td>Psoriasis</td>\n",
       "      <td>0.0</td>\n",
       "      <td>0.0</td>\n",
       "      <td>0.0</td>\n",
       "      <td>0.0</td>\n",
       "      <td>0.0</td>\n",
       "      <td>1.0</td>\n",
       "      <td>0.0</td>\n",
       "      <td>1.0</td>\n",
       "      <td>...</td>\n",
       "      <td>1.0</td>\n",
       "      <td>1.0</td>\n",
       "      <td>1.0</td>\n",
       "      <td>0.0</td>\n",
       "      <td>0.0</td>\n",
       "      <td>1.0</td>\n",
       "      <td>0.0</td>\n",
       "      <td>1.0</td>\n",
       "      <td>0.0</td>\n",
       "      <td>0.0</td>\n",
       "    </tr>\n",
       "    <tr>\n",
       "      <th>3729--WatermarkedWyJXYXRlcm1hcmtlZCJd.jpeg</th>\n",
       "      <td>Actinic keratosis</td>\n",
       "      <td>Actinic keratosis</td>\n",
       "      <td>0.0</td>\n",
       "      <td>0.0</td>\n",
       "      <td>0.0</td>\n",
       "      <td>1.0</td>\n",
       "      <td>0.0</td>\n",
       "      <td>1.0</td>\n",
       "      <td>0.0</td>\n",
       "      <td>1.0</td>\n",
       "      <td>...</td>\n",
       "      <td>1.0</td>\n",
       "      <td>1.0</td>\n",
       "      <td>1.0</td>\n",
       "      <td>1.0</td>\n",
       "      <td>1.0</td>\n",
       "      <td>1.0</td>\n",
       "      <td>0.0</td>\n",
       "      <td>0.0</td>\n",
       "      <td>0.0</td>\n",
       "      <td>1.0</td>\n",
       "    </tr>\n",
       "    <tr>\n",
       "      <th>acne-face-1-1--WatermarkedWyJXYXRlcm1hcmtlZCJd.jpeg</th>\n",
       "      <td>Acne</td>\n",
       "      <td>Acne</td>\n",
       "      <td>1.0</td>\n",
       "      <td>0.0</td>\n",
       "      <td>1.0</td>\n",
       "      <td>1.0</td>\n",
       "      <td>0.0</td>\n",
       "      <td>0.0</td>\n",
       "      <td>1.0</td>\n",
       "      <td>0.0</td>\n",
       "      <td>...</td>\n",
       "      <td>1.0</td>\n",
       "      <td>1.0</td>\n",
       "      <td>1.0</td>\n",
       "      <td>1.0</td>\n",
       "      <td>0.0</td>\n",
       "      <td>1.0</td>\n",
       "      <td>1.0</td>\n",
       "      <td>0.0</td>\n",
       "      <td>0.0</td>\n",
       "      <td>0.0</td>\n",
       "    </tr>\n",
       "    <tr>\n",
       "      <th>vitiligo-40--WatermarkedWyJXYXRlcm1hcmtlZCJd.jpeg</th>\n",
       "      <td>Vitiligo</td>\n",
       "      <td>Vitiligo</td>\n",
       "      <td>0.0</td>\n",
       "      <td>0.0</td>\n",
       "      <td>0.0</td>\n",
       "      <td>0.0</td>\n",
       "      <td>1.0</td>\n",
       "      <td>0.0</td>\n",
       "      <td>0.0</td>\n",
       "      <td>0.0</td>\n",
       "      <td>...</td>\n",
       "      <td>1.0</td>\n",
       "      <td>0.0</td>\n",
       "      <td>0.0</td>\n",
       "      <td>0.0</td>\n",
       "      <td>0.0</td>\n",
       "      <td>0.0</td>\n",
       "      <td>0.0</td>\n",
       "      <td>1.0</td>\n",
       "      <td>1.0</td>\n",
       "      <td>1.0</td>\n",
       "    </tr>\n",
       "    <tr>\n",
       "      <th>viral-wart-04--WatermarkedWyJXYXRlcm1hcmtlZCJd.jpeg</th>\n",
       "      <td>Viral warts</td>\n",
       "      <td>Viral warts</td>\n",
       "      <td>0.0</td>\n",
       "      <td>1.0</td>\n",
       "      <td>0.0</td>\n",
       "      <td>1.0</td>\n",
       "      <td>0.0</td>\n",
       "      <td>1.0</td>\n",
       "      <td>0.0</td>\n",
       "      <td>1.0</td>\n",
       "      <td>...</td>\n",
       "      <td>0.0</td>\n",
       "      <td>0.0</td>\n",
       "      <td>1.0</td>\n",
       "      <td>1.0</td>\n",
       "      <td>1.0</td>\n",
       "      <td>0.0</td>\n",
       "      <td>1.0</td>\n",
       "      <td>1.0</td>\n",
       "      <td>1.0</td>\n",
       "      <td>0.0</td>\n",
       "    </tr>\n",
       "    <tr>\n",
       "      <th>044570HB.jpeg</th>\n",
       "      <td>Psoriasis</td>\n",
       "      <td>Psoriasis</td>\n",
       "      <td>0.0</td>\n",
       "      <td>0.0</td>\n",
       "      <td>0.0</td>\n",
       "      <td>0.0</td>\n",
       "      <td>0.0</td>\n",
       "      <td>1.0</td>\n",
       "      <td>0.0</td>\n",
       "      <td>1.0</td>\n",
       "      <td>...</td>\n",
       "      <td>1.0</td>\n",
       "      <td>0.0</td>\n",
       "      <td>0.0</td>\n",
       "      <td>0.0</td>\n",
       "      <td>1.0</td>\n",
       "      <td>1.0</td>\n",
       "      <td>0.0</td>\n",
       "      <td>1.0</td>\n",
       "      <td>0.0</td>\n",
       "      <td>0.0</td>\n",
       "    </tr>\n",
       "    <tr>\n",
       "      <th>044567HB.jpeg</th>\n",
       "      <td>Psoriasis</td>\n",
       "      <td>Psoriasis</td>\n",
       "      <td>0.0</td>\n",
       "      <td>0.0</td>\n",
       "      <td>0.0</td>\n",
       "      <td>0.0</td>\n",
       "      <td>0.0</td>\n",
       "      <td>1.0</td>\n",
       "      <td>0.0</td>\n",
       "      <td>1.0</td>\n",
       "      <td>...</td>\n",
       "      <td>0.0</td>\n",
       "      <td>0.0</td>\n",
       "      <td>1.0</td>\n",
       "      <td>1.0</td>\n",
       "      <td>1.0</td>\n",
       "      <td>1.0</td>\n",
       "      <td>1.0</td>\n",
       "      <td>1.0</td>\n",
       "      <td>1.0</td>\n",
       "      <td>0.0</td>\n",
       "    </tr>\n",
       "    <tr>\n",
       "      <th>10070-Picture1.jpeg</th>\n",
       "      <td>Psoriasis</td>\n",
       "      <td>Viral warts</td>\n",
       "      <td>0.0</td>\n",
       "      <td>0.0</td>\n",
       "      <td>0.0</td>\n",
       "      <td>1.0</td>\n",
       "      <td>0.0</td>\n",
       "      <td>1.0</td>\n",
       "      <td>0.0</td>\n",
       "      <td>0.0</td>\n",
       "      <td>...</td>\n",
       "      <td>0.0</td>\n",
       "      <td>0.0</td>\n",
       "      <td>1.0</td>\n",
       "      <td>0.0</td>\n",
       "      <td>1.0</td>\n",
       "      <td>1.0</td>\n",
       "      <td>1.0</td>\n",
       "      <td>1.0</td>\n",
       "      <td>1.0</td>\n",
       "      <td>0.0</td>\n",
       "    </tr>\n",
       "    <tr>\n",
       "      <th>2779--WatermarkedWyJXYXRlcm1hcmtlZCJd.jpeg</th>\n",
       "      <td>Psoriasis</td>\n",
       "      <td>Psoriasis</td>\n",
       "      <td>0.0</td>\n",
       "      <td>0.0</td>\n",
       "      <td>0.0</td>\n",
       "      <td>1.0</td>\n",
       "      <td>0.0</td>\n",
       "      <td>1.0</td>\n",
       "      <td>0.0</td>\n",
       "      <td>1.0</td>\n",
       "      <td>...</td>\n",
       "      <td>1.0</td>\n",
       "      <td>0.0</td>\n",
       "      <td>0.0</td>\n",
       "      <td>0.0</td>\n",
       "      <td>1.0</td>\n",
       "      <td>1.0</td>\n",
       "      <td>0.0</td>\n",
       "      <td>1.0</td>\n",
       "      <td>0.0</td>\n",
       "      <td>0.0</td>\n",
       "    </tr>\n",
       "    <tr>\n",
       "      <th>vitiligo-12--WatermarkedWyJXYXRlcm1hcmtlZCJd.jpeg</th>\n",
       "      <td>Vitiligo</td>\n",
       "      <td>Vitiligo</td>\n",
       "      <td>0.0</td>\n",
       "      <td>0.0</td>\n",
       "      <td>0.0</td>\n",
       "      <td>0.0</td>\n",
       "      <td>1.0</td>\n",
       "      <td>0.0</td>\n",
       "      <td>0.0</td>\n",
       "      <td>0.0</td>\n",
       "      <td>...</td>\n",
       "      <td>1.0</td>\n",
       "      <td>0.0</td>\n",
       "      <td>0.0</td>\n",
       "      <td>0.0</td>\n",
       "      <td>0.0</td>\n",
       "      <td>0.0</td>\n",
       "      <td>1.0</td>\n",
       "      <td>1.0</td>\n",
       "      <td>1.0</td>\n",
       "      <td>1.0</td>\n",
       "    </tr>\n",
       "  </tbody>\n",
       "</table>\n",
       "<p>56 rows × 22 columns</p>\n",
       "</div>"
      ],
      "text/plain": [
       "                                                             predicted_dx  \\\n",
       "filename                                                                    \n",
       "viral-wart-15--WatermarkedWyJXYXRlcm1hcmtlZCJd....            Viral warts   \n",
       "10556-P7070060.jpeg                                           Viral warts   \n",
       "043052HB.jpeg                                       Seborrheic dermatitis   \n",
       "halo5--WatermarkedWyJXYXRlcm1hcmtlZCJd.jpeg                      Vitiligo   \n",
       "vitiligo-10--WatermarkedWyJXYXRlcm1hcmtlZCJd.jpeg                Vitiligo   \n",
       "facial-psoriasis06--WatermarkedWyJXYXRlcm1hcmtl...                   Acne   \n",
       "496--WatermarkedWyJXYXRlcm1hcmtlZCJd.jpeg               Actinic keratosis   \n",
       "016139HB.jpeg                                                        Acne   \n",
       "044314HB.jpeg                                                   Psoriasis   \n",
       "piebald3--WatermarkedWyJXYXRlcm1hcmtlZCJd.jpeg                       Acne   \n",
       "vitiligo-51--WatermarkedWyJXYXRlcm1hcmtlZCJd.jpeg   Seborrheic dermatitis   \n",
       "facial-psoriasis26--WatermarkedWyJXYXRlcm1hcmtl...      Actinic keratosis   \n",
       "044772HB.jpeg                                                   Psoriasis   \n",
       "steroid-acne-03--WatermarkedWyJXYXRlcm1hcmtlZCJ...      Actinic keratosis   \n",
       "10564-WARTS.jpeg                                                Psoriasis   \n",
       "acne-face-65--WatermarkedWyJXYXRlcm1hcmtlZCJd.jpeg                   Acne   \n",
       "acne-face-56--WatermarkedWyJXYXRlcm1hcmtlZCJd.jpeg                   Acne   \n",
       "foll-kel1--WatermarkedWyJXYXRlcm1hcmtlZCJd.jpeg                      Acne   \n",
       "043293HB.jpeg                                       Seborrheic dermatitis   \n",
       "032439HB.jpeg                                                        Acne   \n",
       "acne-face-1-48--WatermarkedWyJXYXRlcm1hcmtlZCJd...                   Acne   \n",
       "043128HB.jpeg                                                   Psoriasis   \n",
       "ppps22--WatermarkedWyJXYXRlcm1hcmtlZCJd.jpeg                    Psoriasis   \n",
       "017875HB.jpeg                                           Actinic keratosis   \n",
       "016441HB.jpeg                                           Actinic keratosis   \n",
       "042980HB.jpeg                                       Seborrheic dermatitis   \n",
       "vitiligo-15--WatermarkedWyJXYXRlcm1hcmtlZCJd.jpeg                Vitiligo   \n",
       "035260HB.jpeg                                                        Acne   \n",
       "017560HB.jpeg                                                   Psoriasis   \n",
       "045142HB.jpeg                                       Seborrheic dermatitis   \n",
       "269--WatermarkedWyJXYXRlcm1hcmtlZCJd.jpeg               Actinic keratosis   \n",
       "043126HB.jpeg                                       Seborrheic dermatitis   \n",
       "acne1--WatermarkedWyJXYXRlcm1hcmtlZCJd.jpeg                          Acne   \n",
       "017322HB.jpeg                                           Actinic keratosis   \n",
       "sebderm6--WatermarkedWyJXYXRlcm1hcmtlZCJd.jpeg      Seborrheic dermatitis   \n",
       "044875HB.jpeg                                                   Psoriasis   \n",
       "acne-face-2--WatermarkedWyJXYXRlcm1hcmtlZCJd.jpeg                    Acne   \n",
       "319--WatermarkedWyJXYXRlcm1hcmtlZCJd.jpeg           Seborrheic dermatitis   \n",
       "seborrhoeic-dermatitis--WatermarkedWyJXYXRlcm1h...            Viral warts   \n",
       "043173HB.jpeg                                       Seborrheic dermatitis   \n",
       "piebald6--WatermarkedWyJXYXRlcm1hcmtlZCJd.jpeg                   Vitiligo   \n",
       "vitiligo-28--WatermarkedWyJXYXRlcm1hcmtlZCJd.jpeg                Vitiligo   \n",
       "515--WatermarkedWyJXYXRlcm1hcmtlZCJd.jpeg               Actinic keratosis   \n",
       "wart25--WatermarkedWyJXYXRlcm1hcmtlZCJd.jpeg                  Viral warts   \n",
       "viral-wart-13--WatermarkedWyJXYXRlcm1hcmtlZCJd....            Viral warts   \n",
       "wart26--WatermarkedWyJXYXRlcm1hcmtlZCJd.jpeg                  Viral warts   \n",
       "facial-psoriasis21--WatermarkedWyJXYXRlcm1hcmtl...              Psoriasis   \n",
       "3729--WatermarkedWyJXYXRlcm1hcmtlZCJd.jpeg              Actinic keratosis   \n",
       "acne-face-1-1--WatermarkedWyJXYXRlcm1hcmtlZCJd....                   Acne   \n",
       "vitiligo-40--WatermarkedWyJXYXRlcm1hcmtlZCJd.jpeg                Vitiligo   \n",
       "viral-wart-04--WatermarkedWyJXYXRlcm1hcmtlZCJd....            Viral warts   \n",
       "044570HB.jpeg                                                   Psoriasis   \n",
       "044567HB.jpeg                                                   Psoriasis   \n",
       "10070-Picture1.jpeg                                             Psoriasis   \n",
       "2779--WatermarkedWyJXYXRlcm1hcmtlZCJd.jpeg                      Psoriasis   \n",
       "vitiligo-12--WatermarkedWyJXYXRlcm1hcmtlZCJd.jpeg                Vitiligo   \n",
       "\n",
       "                                                                actual_dx  \\\n",
       "filename                                                                    \n",
       "viral-wart-15--WatermarkedWyJXYXRlcm1hcmtlZCJd....            Viral warts   \n",
       "10556-P7070060.jpeg                                                  Acne   \n",
       "043052HB.jpeg                                       Seborrheic dermatitis   \n",
       "halo5--WatermarkedWyJXYXRlcm1hcmtlZCJd.jpeg                      Vitiligo   \n",
       "vitiligo-10--WatermarkedWyJXYXRlcm1hcmtlZCJd.jpeg                Vitiligo   \n",
       "facial-psoriasis06--WatermarkedWyJXYXRlcm1hcmtl...              Psoriasis   \n",
       "496--WatermarkedWyJXYXRlcm1hcmtlZCJd.jpeg               Actinic keratosis   \n",
       "016139HB.jpeg                                           Actinic keratosis   \n",
       "044314HB.jpeg                                                   Psoriasis   \n",
       "piebald3--WatermarkedWyJXYXRlcm1hcmtlZCJd.jpeg                   Vitiligo   \n",
       "vitiligo-51--WatermarkedWyJXYXRlcm1hcmtlZCJd.jpeg                Vitiligo   \n",
       "facial-psoriasis26--WatermarkedWyJXYXRlcm1hcmtl...              Psoriasis   \n",
       "044772HB.jpeg                                                   Psoriasis   \n",
       "steroid-acne-03--WatermarkedWyJXYXRlcm1hcmtlZCJ...                   Acne   \n",
       "10564-WARTS.jpeg                                              Viral warts   \n",
       "acne-face-65--WatermarkedWyJXYXRlcm1hcmtlZCJd.jpeg                   Acne   \n",
       "acne-face-56--WatermarkedWyJXYXRlcm1hcmtlZCJd.jpeg                   Acne   \n",
       "foll-kel1--WatermarkedWyJXYXRlcm1hcmtlZCJd.jpeg                      Acne   \n",
       "043293HB.jpeg                                       Seborrheic dermatitis   \n",
       "032439HB.jpeg                                                        Acne   \n",
       "acne-face-1-48--WatermarkedWyJXYXRlcm1hcmtlZCJd...                   Acne   \n",
       "043128HB.jpeg                                       Seborrheic dermatitis   \n",
       "ppps22--WatermarkedWyJXYXRlcm1hcmtlZCJd.jpeg                    Psoriasis   \n",
       "017875HB.jpeg                                           Actinic keratosis   \n",
       "016441HB.jpeg                                           Actinic keratosis   \n",
       "042980HB.jpeg                                       Seborrheic dermatitis   \n",
       "vitiligo-15--WatermarkedWyJXYXRlcm1hcmtlZCJd.jpeg                Vitiligo   \n",
       "035260HB.jpeg                                                        Acne   \n",
       "017560HB.jpeg                                           Actinic keratosis   \n",
       "045142HB.jpeg                                       Seborrheic dermatitis   \n",
       "269--WatermarkedWyJXYXRlcm1hcmtlZCJd.jpeg               Actinic keratosis   \n",
       "043126HB.jpeg                                       Seborrheic dermatitis   \n",
       "acne1--WatermarkedWyJXYXRlcm1hcmtlZCJd.jpeg                          Acne   \n",
       "017322HB.jpeg                                           Actinic keratosis   \n",
       "sebderm6--WatermarkedWyJXYXRlcm1hcmtlZCJd.jpeg      Seborrheic dermatitis   \n",
       "044875HB.jpeg                                                   Psoriasis   \n",
       "acne-face-2--WatermarkedWyJXYXRlcm1hcmtlZCJd.jpeg                    Acne   \n",
       "319--WatermarkedWyJXYXRlcm1hcmtlZCJd.jpeg               Actinic keratosis   \n",
       "seborrhoeic-dermatitis--WatermarkedWyJXYXRlcm1h...  Seborrheic dermatitis   \n",
       "043173HB.jpeg                                       Seborrheic dermatitis   \n",
       "piebald6--WatermarkedWyJXYXRlcm1hcmtlZCJd.jpeg                   Vitiligo   \n",
       "vitiligo-28--WatermarkedWyJXYXRlcm1hcmtlZCJd.jpeg                Vitiligo   \n",
       "515--WatermarkedWyJXYXRlcm1hcmtlZCJd.jpeg               Actinic keratosis   \n",
       "wart25--WatermarkedWyJXYXRlcm1hcmtlZCJd.jpeg                  Viral warts   \n",
       "viral-wart-13--WatermarkedWyJXYXRlcm1hcmtlZCJd....            Viral warts   \n",
       "wart26--WatermarkedWyJXYXRlcm1hcmtlZCJd.jpeg                  Viral warts   \n",
       "facial-psoriasis21--WatermarkedWyJXYXRlcm1hcmtl...              Psoriasis   \n",
       "3729--WatermarkedWyJXYXRlcm1hcmtlZCJd.jpeg              Actinic keratosis   \n",
       "acne-face-1-1--WatermarkedWyJXYXRlcm1hcmtlZCJd....                   Acne   \n",
       "vitiligo-40--WatermarkedWyJXYXRlcm1hcmtlZCJd.jpeg                Vitiligo   \n",
       "viral-wart-04--WatermarkedWyJXYXRlcm1hcmtlZCJd....            Viral warts   \n",
       "044570HB.jpeg                                                   Psoriasis   \n",
       "044567HB.jpeg                                                   Psoriasis   \n",
       "10070-Picture1.jpeg                                           Viral warts   \n",
       "2779--WatermarkedWyJXYXRlcm1hcmtlZCJd.jpeg                      Psoriasis   \n",
       "vitiligo-12--WatermarkedWyJXYXRlcm1hcmtlZCJd.jpeg                Vitiligo   \n",
       "\n",
       "                                                    actual_Closed comedo  \\\n",
       "filename                                                                   \n",
       "viral-wart-15--WatermarkedWyJXYXRlcm1hcmtlZCJd....                   0.0   \n",
       "10556-P7070060.jpeg                                                  0.0   \n",
       "043052HB.jpeg                                                        0.0   \n",
       "halo5--WatermarkedWyJXYXRlcm1hcmtlZCJd.jpeg                          0.0   \n",
       "vitiligo-10--WatermarkedWyJXYXRlcm1hcmtlZCJd.jpeg                    0.0   \n",
       "facial-psoriasis06--WatermarkedWyJXYXRlcm1hcmtl...                   0.0   \n",
       "496--WatermarkedWyJXYXRlcm1hcmtlZCJd.jpeg                            0.0   \n",
       "016139HB.jpeg                                                        0.0   \n",
       "044314HB.jpeg                                                        0.0   \n",
       "piebald3--WatermarkedWyJXYXRlcm1hcmtlZCJd.jpeg                       0.0   \n",
       "vitiligo-51--WatermarkedWyJXYXRlcm1hcmtlZCJd.jpeg                    0.0   \n",
       "facial-psoriasis26--WatermarkedWyJXYXRlcm1hcmtl...                   0.0   \n",
       "044772HB.jpeg                                                        0.0   \n",
       "steroid-acne-03--WatermarkedWyJXYXRlcm1hcmtlZCJ...                   0.0   \n",
       "10564-WARTS.jpeg                                                     0.0   \n",
       "acne-face-65--WatermarkedWyJXYXRlcm1hcmtlZCJd.jpeg                   1.0   \n",
       "acne-face-56--WatermarkedWyJXYXRlcm1hcmtlZCJd.jpeg                   0.0   \n",
       "foll-kel1--WatermarkedWyJXYXRlcm1hcmtlZCJd.jpeg                      0.0   \n",
       "043293HB.jpeg                                                        0.0   \n",
       "032439HB.jpeg                                                        1.0   \n",
       "acne-face-1-48--WatermarkedWyJXYXRlcm1hcmtlZCJd...                   1.0   \n",
       "043128HB.jpeg                                                        0.0   \n",
       "ppps22--WatermarkedWyJXYXRlcm1hcmtlZCJd.jpeg                         0.0   \n",
       "017875HB.jpeg                                                        0.0   \n",
       "016441HB.jpeg                                                        0.0   \n",
       "042980HB.jpeg                                                        0.0   \n",
       "vitiligo-15--WatermarkedWyJXYXRlcm1hcmtlZCJd.jpeg                    0.0   \n",
       "035260HB.jpeg                                                        1.0   \n",
       "017560HB.jpeg                                                        0.0   \n",
       "045142HB.jpeg                                                        0.0   \n",
       "269--WatermarkedWyJXYXRlcm1hcmtlZCJd.jpeg                            0.0   \n",
       "043126HB.jpeg                                                        0.0   \n",
       "acne1--WatermarkedWyJXYXRlcm1hcmtlZCJd.jpeg                          1.0   \n",
       "017322HB.jpeg                                                        0.0   \n",
       "sebderm6--WatermarkedWyJXYXRlcm1hcmtlZCJd.jpeg                       0.0   \n",
       "044875HB.jpeg                                                        0.0   \n",
       "acne-face-2--WatermarkedWyJXYXRlcm1hcmtlZCJd.jpeg                    0.0   \n",
       "319--WatermarkedWyJXYXRlcm1hcmtlZCJd.jpeg                            0.0   \n",
       "seborrhoeic-dermatitis--WatermarkedWyJXYXRlcm1h...                   0.0   \n",
       "043173HB.jpeg                                                        0.0   \n",
       "piebald6--WatermarkedWyJXYXRlcm1hcmtlZCJd.jpeg                       0.0   \n",
       "vitiligo-28--WatermarkedWyJXYXRlcm1hcmtlZCJd.jpeg                    0.0   \n",
       "515--WatermarkedWyJXYXRlcm1hcmtlZCJd.jpeg                            0.0   \n",
       "wart25--WatermarkedWyJXYXRlcm1hcmtlZCJd.jpeg                         0.0   \n",
       "viral-wart-13--WatermarkedWyJXYXRlcm1hcmtlZCJd....                   0.0   \n",
       "wart26--WatermarkedWyJXYXRlcm1hcmtlZCJd.jpeg                         0.0   \n",
       "facial-psoriasis21--WatermarkedWyJXYXRlcm1hcmtl...                   0.0   \n",
       "3729--WatermarkedWyJXYXRlcm1hcmtlZCJd.jpeg                           0.0   \n",
       "acne-face-1-1--WatermarkedWyJXYXRlcm1hcmtlZCJd....                   1.0   \n",
       "vitiligo-40--WatermarkedWyJXYXRlcm1hcmtlZCJd.jpeg                    0.0   \n",
       "viral-wart-04--WatermarkedWyJXYXRlcm1hcmtlZCJd....                   0.0   \n",
       "044570HB.jpeg                                                        0.0   \n",
       "044567HB.jpeg                                                        0.0   \n",
       "10070-Picture1.jpeg                                                  0.0   \n",
       "2779--WatermarkedWyJXYXRlcm1hcmtlZCJd.jpeg                           0.0   \n",
       "vitiligo-12--WatermarkedWyJXYXRlcm1hcmtlZCJd.jpeg                    0.0   \n",
       "\n",
       "                                                    actual_Dermatoglyph disruption  \\\n",
       "filename                                                                             \n",
       "viral-wart-15--WatermarkedWyJXYXRlcm1hcmtlZCJd....                             1.0   \n",
       "10556-P7070060.jpeg                                                            0.0   \n",
       "043052HB.jpeg                                                                  0.0   \n",
       "halo5--WatermarkedWyJXYXRlcm1hcmtlZCJd.jpeg                                    0.0   \n",
       "vitiligo-10--WatermarkedWyJXYXRlcm1hcmtlZCJd.jpeg                              0.0   \n",
       "facial-psoriasis06--WatermarkedWyJXYXRlcm1hcmtl...                             0.0   \n",
       "496--WatermarkedWyJXYXRlcm1hcmtlZCJd.jpeg                                      0.0   \n",
       "016139HB.jpeg                                                                  0.0   \n",
       "044314HB.jpeg                                                                  0.0   \n",
       "piebald3--WatermarkedWyJXYXRlcm1hcmtlZCJd.jpeg                                 0.0   \n",
       "vitiligo-51--WatermarkedWyJXYXRlcm1hcmtlZCJd.jpeg                              0.0   \n",
       "facial-psoriasis26--WatermarkedWyJXYXRlcm1hcmtl...                             0.0   \n",
       "044772HB.jpeg                                                                  0.0   \n",
       "steroid-acne-03--WatermarkedWyJXYXRlcm1hcmtlZCJ...                             0.0   \n",
       "10564-WARTS.jpeg                                                               1.0   \n",
       "acne-face-65--WatermarkedWyJXYXRlcm1hcmtlZCJd.jpeg                             0.0   \n",
       "acne-face-56--WatermarkedWyJXYXRlcm1hcmtlZCJd.jpeg                             0.0   \n",
       "foll-kel1--WatermarkedWyJXYXRlcm1hcmtlZCJd.jpeg                                0.0   \n",
       "043293HB.jpeg                                                                  0.0   \n",
       "032439HB.jpeg                                                                  0.0   \n",
       "acne-face-1-48--WatermarkedWyJXYXRlcm1hcmtlZCJd...                             0.0   \n",
       "043128HB.jpeg                                                                  0.0   \n",
       "ppps22--WatermarkedWyJXYXRlcm1hcmtlZCJd.jpeg                                   0.0   \n",
       "017875HB.jpeg                                                                  0.0   \n",
       "016441HB.jpeg                                                                  0.0   \n",
       "042980HB.jpeg                                                                  0.0   \n",
       "vitiligo-15--WatermarkedWyJXYXRlcm1hcmtlZCJd.jpeg                              0.0   \n",
       "035260HB.jpeg                                                                  0.0   \n",
       "017560HB.jpeg                                                                  0.0   \n",
       "045142HB.jpeg                                                                  0.0   \n",
       "269--WatermarkedWyJXYXRlcm1hcmtlZCJd.jpeg                                      0.0   \n",
       "043126HB.jpeg                                                                  0.0   \n",
       "acne1--WatermarkedWyJXYXRlcm1hcmtlZCJd.jpeg                                    0.0   \n",
       "017322HB.jpeg                                                                  0.0   \n",
       "sebderm6--WatermarkedWyJXYXRlcm1hcmtlZCJd.jpeg                                 0.0   \n",
       "044875HB.jpeg                                                                  0.0   \n",
       "acne-face-2--WatermarkedWyJXYXRlcm1hcmtlZCJd.jpeg                              0.0   \n",
       "319--WatermarkedWyJXYXRlcm1hcmtlZCJd.jpeg                                      0.0   \n",
       "seborrhoeic-dermatitis--WatermarkedWyJXYXRlcm1h...                             0.0   \n",
       "043173HB.jpeg                                                                  0.0   \n",
       "piebald6--WatermarkedWyJXYXRlcm1hcmtlZCJd.jpeg                                 0.0   \n",
       "vitiligo-28--WatermarkedWyJXYXRlcm1hcmtlZCJd.jpeg                              0.0   \n",
       "515--WatermarkedWyJXYXRlcm1hcmtlZCJd.jpeg                                      0.0   \n",
       "wart25--WatermarkedWyJXYXRlcm1hcmtlZCJd.jpeg                                   1.0   \n",
       "viral-wart-13--WatermarkedWyJXYXRlcm1hcmtlZCJd....                             1.0   \n",
       "wart26--WatermarkedWyJXYXRlcm1hcmtlZCJd.jpeg                                   1.0   \n",
       "facial-psoriasis21--WatermarkedWyJXYXRlcm1hcmtl...                             0.0   \n",
       "3729--WatermarkedWyJXYXRlcm1hcmtlZCJd.jpeg                                     0.0   \n",
       "acne-face-1-1--WatermarkedWyJXYXRlcm1hcmtlZCJd....                             0.0   \n",
       "vitiligo-40--WatermarkedWyJXYXRlcm1hcmtlZCJd.jpeg                              0.0   \n",
       "viral-wart-04--WatermarkedWyJXYXRlcm1hcmtlZCJd....                             1.0   \n",
       "044570HB.jpeg                                                                  0.0   \n",
       "044567HB.jpeg                                                                  0.0   \n",
       "10070-Picture1.jpeg                                                            0.0   \n",
       "2779--WatermarkedWyJXYXRlcm1hcmtlZCJd.jpeg                                     0.0   \n",
       "vitiligo-12--WatermarkedWyJXYXRlcm1hcmtlZCJd.jpeg                              0.0   \n",
       "\n",
       "                                                    actual_Open comedo  \\\n",
       "filename                                                                 \n",
       "viral-wart-15--WatermarkedWyJXYXRlcm1hcmtlZCJd....                 0.0   \n",
       "10556-P7070060.jpeg                                                1.0   \n",
       "043052HB.jpeg                                                      0.0   \n",
       "halo5--WatermarkedWyJXYXRlcm1hcmtlZCJd.jpeg                        0.0   \n",
       "vitiligo-10--WatermarkedWyJXYXRlcm1hcmtlZCJd.jpeg                  0.0   \n",
       "facial-psoriasis06--WatermarkedWyJXYXRlcm1hcmtl...                 0.0   \n",
       "496--WatermarkedWyJXYXRlcm1hcmtlZCJd.jpeg                          0.0   \n",
       "016139HB.jpeg                                                      0.0   \n",
       "044314HB.jpeg                                                      0.0   \n",
       "piebald3--WatermarkedWyJXYXRlcm1hcmtlZCJd.jpeg                     0.0   \n",
       "vitiligo-51--WatermarkedWyJXYXRlcm1hcmtlZCJd.jpeg                  0.0   \n",
       "facial-psoriasis26--WatermarkedWyJXYXRlcm1hcmtl...                 0.0   \n",
       "044772HB.jpeg                                                      0.0   \n",
       "steroid-acne-03--WatermarkedWyJXYXRlcm1hcmtlZCJ...                 1.0   \n",
       "10564-WARTS.jpeg                                                   0.0   \n",
       "acne-face-65--WatermarkedWyJXYXRlcm1hcmtlZCJd.jpeg                 1.0   \n",
       "acne-face-56--WatermarkedWyJXYXRlcm1hcmtlZCJd.jpeg                 1.0   \n",
       "foll-kel1--WatermarkedWyJXYXRlcm1hcmtlZCJd.jpeg                    0.0   \n",
       "043293HB.jpeg                                                      0.0   \n",
       "032439HB.jpeg                                                      1.0   \n",
       "acne-face-1-48--WatermarkedWyJXYXRlcm1hcmtlZCJd...                 1.0   \n",
       "043128HB.jpeg                                                      0.0   \n",
       "ppps22--WatermarkedWyJXYXRlcm1hcmtlZCJd.jpeg                       0.0   \n",
       "017875HB.jpeg                                                      0.0   \n",
       "016441HB.jpeg                                                      0.0   \n",
       "042980HB.jpeg                                                      0.0   \n",
       "vitiligo-15--WatermarkedWyJXYXRlcm1hcmtlZCJd.jpeg                  0.0   \n",
       "035260HB.jpeg                                                      1.0   \n",
       "017560HB.jpeg                                                      0.0   \n",
       "045142HB.jpeg                                                      0.0   \n",
       "269--WatermarkedWyJXYXRlcm1hcmtlZCJd.jpeg                          0.0   \n",
       "043126HB.jpeg                                                      0.0   \n",
       "acne1--WatermarkedWyJXYXRlcm1hcmtlZCJd.jpeg                        1.0   \n",
       "017322HB.jpeg                                                      0.0   \n",
       "sebderm6--WatermarkedWyJXYXRlcm1hcmtlZCJd.jpeg                     0.0   \n",
       "044875HB.jpeg                                                      0.0   \n",
       "acne-face-2--WatermarkedWyJXYXRlcm1hcmtlZCJd.jpeg                  1.0   \n",
       "319--WatermarkedWyJXYXRlcm1hcmtlZCJd.jpeg                          0.0   \n",
       "seborrhoeic-dermatitis--WatermarkedWyJXYXRlcm1h...                 0.0   \n",
       "043173HB.jpeg                                                      0.0   \n",
       "piebald6--WatermarkedWyJXYXRlcm1hcmtlZCJd.jpeg                     0.0   \n",
       "vitiligo-28--WatermarkedWyJXYXRlcm1hcmtlZCJd.jpeg                  0.0   \n",
       "515--WatermarkedWyJXYXRlcm1hcmtlZCJd.jpeg                          0.0   \n",
       "wart25--WatermarkedWyJXYXRlcm1hcmtlZCJd.jpeg                       0.0   \n",
       "viral-wart-13--WatermarkedWyJXYXRlcm1hcmtlZCJd....                 0.0   \n",
       "wart26--WatermarkedWyJXYXRlcm1hcmtlZCJd.jpeg                       0.0   \n",
       "facial-psoriasis21--WatermarkedWyJXYXRlcm1hcmtl...                 0.0   \n",
       "3729--WatermarkedWyJXYXRlcm1hcmtlZCJd.jpeg                         0.0   \n",
       "acne-face-1-1--WatermarkedWyJXYXRlcm1hcmtlZCJd....                 1.0   \n",
       "vitiligo-40--WatermarkedWyJXYXRlcm1hcmtlZCJd.jpeg                  0.0   \n",
       "viral-wart-04--WatermarkedWyJXYXRlcm1hcmtlZCJd....                 0.0   \n",
       "044570HB.jpeg                                                      0.0   \n",
       "044567HB.jpeg                                                      0.0   \n",
       "10070-Picture1.jpeg                                                0.0   \n",
       "2779--WatermarkedWyJXYXRlcm1hcmtlZCJd.jpeg                         0.0   \n",
       "vitiligo-12--WatermarkedWyJXYXRlcm1hcmtlZCJd.jpeg                  0.0   \n",
       "\n",
       "                                                    actual_Papule  \\\n",
       "filename                                                            \n",
       "viral-wart-15--WatermarkedWyJXYXRlcm1hcmtlZCJd....            1.0   \n",
       "10556-P7070060.jpeg                                           0.0   \n",
       "043052HB.jpeg                                                 0.0   \n",
       "halo5--WatermarkedWyJXYXRlcm1hcmtlZCJd.jpeg                   0.0   \n",
       "vitiligo-10--WatermarkedWyJXYXRlcm1hcmtlZCJd.jpeg             0.0   \n",
       "facial-psoriasis06--WatermarkedWyJXYXRlcm1hcmtl...            0.0   \n",
       "496--WatermarkedWyJXYXRlcm1hcmtlZCJd.jpeg                     0.0   \n",
       "016139HB.jpeg                                                 1.0   \n",
       "044314HB.jpeg                                                 0.0   \n",
       "piebald3--WatermarkedWyJXYXRlcm1hcmtlZCJd.jpeg                0.0   \n",
       "vitiligo-51--WatermarkedWyJXYXRlcm1hcmtlZCJd.jpeg             0.0   \n",
       "facial-psoriasis26--WatermarkedWyJXYXRlcm1hcmtl...            0.0   \n",
       "044772HB.jpeg                                                 1.0   \n",
       "steroid-acne-03--WatermarkedWyJXYXRlcm1hcmtlZCJ...            1.0   \n",
       "10564-WARTS.jpeg                                              1.0   \n",
       "acne-face-65--WatermarkedWyJXYXRlcm1hcmtlZCJd.jpeg            1.0   \n",
       "acne-face-56--WatermarkedWyJXYXRlcm1hcmtlZCJd.jpeg            1.0   \n",
       "foll-kel1--WatermarkedWyJXYXRlcm1hcmtlZCJd.jpeg               0.0   \n",
       "043293HB.jpeg                                                 0.0   \n",
       "032439HB.jpeg                                                 1.0   \n",
       "acne-face-1-48--WatermarkedWyJXYXRlcm1hcmtlZCJd...            1.0   \n",
       "043128HB.jpeg                                                 0.0   \n",
       "ppps22--WatermarkedWyJXYXRlcm1hcmtlZCJd.jpeg                  0.0   \n",
       "017875HB.jpeg                                                 1.0   \n",
       "016441HB.jpeg                                                 1.0   \n",
       "042980HB.jpeg                                                 0.0   \n",
       "vitiligo-15--WatermarkedWyJXYXRlcm1hcmtlZCJd.jpeg             0.0   \n",
       "035260HB.jpeg                                                 1.0   \n",
       "017560HB.jpeg                                                 1.0   \n",
       "045142HB.jpeg                                                 0.0   \n",
       "269--WatermarkedWyJXYXRlcm1hcmtlZCJd.jpeg                     0.0   \n",
       "043126HB.jpeg                                                 0.0   \n",
       "acne1--WatermarkedWyJXYXRlcm1hcmtlZCJd.jpeg                   1.0   \n",
       "017322HB.jpeg                                                 0.0   \n",
       "sebderm6--WatermarkedWyJXYXRlcm1hcmtlZCJd.jpeg                0.0   \n",
       "044875HB.jpeg                                                 1.0   \n",
       "acne-face-2--WatermarkedWyJXYXRlcm1hcmtlZCJd.jpeg             1.0   \n",
       "319--WatermarkedWyJXYXRlcm1hcmtlZCJd.jpeg                     1.0   \n",
       "seborrhoeic-dermatitis--WatermarkedWyJXYXRlcm1h...            1.0   \n",
       "043173HB.jpeg                                                 0.0   \n",
       "piebald6--WatermarkedWyJXYXRlcm1hcmtlZCJd.jpeg                0.0   \n",
       "vitiligo-28--WatermarkedWyJXYXRlcm1hcmtlZCJd.jpeg             0.0   \n",
       "515--WatermarkedWyJXYXRlcm1hcmtlZCJd.jpeg                     1.0   \n",
       "wart25--WatermarkedWyJXYXRlcm1hcmtlZCJd.jpeg                  1.0   \n",
       "viral-wart-13--WatermarkedWyJXYXRlcm1hcmtlZCJd....            1.0   \n",
       "wart26--WatermarkedWyJXYXRlcm1hcmtlZCJd.jpeg                  1.0   \n",
       "facial-psoriasis21--WatermarkedWyJXYXRlcm1hcmtl...            0.0   \n",
       "3729--WatermarkedWyJXYXRlcm1hcmtlZCJd.jpeg                    1.0   \n",
       "acne-face-1-1--WatermarkedWyJXYXRlcm1hcmtlZCJd....            1.0   \n",
       "vitiligo-40--WatermarkedWyJXYXRlcm1hcmtlZCJd.jpeg             0.0   \n",
       "viral-wart-04--WatermarkedWyJXYXRlcm1hcmtlZCJd....            1.0   \n",
       "044570HB.jpeg                                                 0.0   \n",
       "044567HB.jpeg                                                 0.0   \n",
       "10070-Picture1.jpeg                                           1.0   \n",
       "2779--WatermarkedWyJXYXRlcm1hcmtlZCJd.jpeg                    1.0   \n",
       "vitiligo-12--WatermarkedWyJXYXRlcm1hcmtlZCJd.jpeg             0.0   \n",
       "\n",
       "                                                    actual_Patch  \\\n",
       "filename                                                           \n",
       "viral-wart-15--WatermarkedWyJXYXRlcm1hcmtlZCJd....           0.0   \n",
       "10556-P7070060.jpeg                                          0.0   \n",
       "043052HB.jpeg                                                1.0   \n",
       "halo5--WatermarkedWyJXYXRlcm1hcmtlZCJd.jpeg                  1.0   \n",
       "vitiligo-10--WatermarkedWyJXYXRlcm1hcmtlZCJd.jpeg            1.0   \n",
       "facial-psoriasis06--WatermarkedWyJXYXRlcm1hcmtl...           0.0   \n",
       "496--WatermarkedWyJXYXRlcm1hcmtlZCJd.jpeg                    1.0   \n",
       "016139HB.jpeg                                                1.0   \n",
       "044314HB.jpeg                                                0.0   \n",
       "piebald3--WatermarkedWyJXYXRlcm1hcmtlZCJd.jpeg               1.0   \n",
       "vitiligo-51--WatermarkedWyJXYXRlcm1hcmtlZCJd.jpeg            1.0   \n",
       "facial-psoriasis26--WatermarkedWyJXYXRlcm1hcmtl...           0.0   \n",
       "044772HB.jpeg                                                1.0   \n",
       "steroid-acne-03--WatermarkedWyJXYXRlcm1hcmtlZCJ...           1.0   \n",
       "10564-WARTS.jpeg                                             0.0   \n",
       "acne-face-65--WatermarkedWyJXYXRlcm1hcmtlZCJd.jpeg           0.0   \n",
       "acne-face-56--WatermarkedWyJXYXRlcm1hcmtlZCJd.jpeg           0.0   \n",
       "foll-kel1--WatermarkedWyJXYXRlcm1hcmtlZCJd.jpeg              0.0   \n",
       "043293HB.jpeg                                                1.0   \n",
       "032439HB.jpeg                                                0.0   \n",
       "acne-face-1-48--WatermarkedWyJXYXRlcm1hcmtlZCJd...           0.0   \n",
       "043128HB.jpeg                                                1.0   \n",
       "ppps22--WatermarkedWyJXYXRlcm1hcmtlZCJd.jpeg                 0.0   \n",
       "017875HB.jpeg                                                1.0   \n",
       "016441HB.jpeg                                                1.0   \n",
       "042980HB.jpeg                                                0.0   \n",
       "vitiligo-15--WatermarkedWyJXYXRlcm1hcmtlZCJd.jpeg            1.0   \n",
       "035260HB.jpeg                                                0.0   \n",
       "017560HB.jpeg                                                1.0   \n",
       "045142HB.jpeg                                                0.0   \n",
       "269--WatermarkedWyJXYXRlcm1hcmtlZCJd.jpeg                    1.0   \n",
       "043126HB.jpeg                                                1.0   \n",
       "acne1--WatermarkedWyJXYXRlcm1hcmtlZCJd.jpeg                  0.0   \n",
       "017322HB.jpeg                                                1.0   \n",
       "sebderm6--WatermarkedWyJXYXRlcm1hcmtlZCJd.jpeg               0.0   \n",
       "044875HB.jpeg                                                0.0   \n",
       "acne-face-2--WatermarkedWyJXYXRlcm1hcmtlZCJd.jpeg            0.0   \n",
       "319--WatermarkedWyJXYXRlcm1hcmtlZCJd.jpeg                    1.0   \n",
       "seborrhoeic-dermatitis--WatermarkedWyJXYXRlcm1h...           0.0   \n",
       "043173HB.jpeg                                                1.0   \n",
       "piebald6--WatermarkedWyJXYXRlcm1hcmtlZCJd.jpeg               1.0   \n",
       "vitiligo-28--WatermarkedWyJXYXRlcm1hcmtlZCJd.jpeg            1.0   \n",
       "515--WatermarkedWyJXYXRlcm1hcmtlZCJd.jpeg                    1.0   \n",
       "wart25--WatermarkedWyJXYXRlcm1hcmtlZCJd.jpeg                 0.0   \n",
       "viral-wart-13--WatermarkedWyJXYXRlcm1hcmtlZCJd....           0.0   \n",
       "wart26--WatermarkedWyJXYXRlcm1hcmtlZCJd.jpeg                 0.0   \n",
       "facial-psoriasis21--WatermarkedWyJXYXRlcm1hcmtl...           0.0   \n",
       "3729--WatermarkedWyJXYXRlcm1hcmtlZCJd.jpeg                   0.0   \n",
       "acne-face-1-1--WatermarkedWyJXYXRlcm1hcmtlZCJd....           0.0   \n",
       "vitiligo-40--WatermarkedWyJXYXRlcm1hcmtlZCJd.jpeg            1.0   \n",
       "viral-wart-04--WatermarkedWyJXYXRlcm1hcmtlZCJd....           0.0   \n",
       "044570HB.jpeg                                                0.0   \n",
       "044567HB.jpeg                                                0.0   \n",
       "10070-Picture1.jpeg                                          0.0   \n",
       "2779--WatermarkedWyJXYXRlcm1hcmtlZCJd.jpeg                   0.0   \n",
       "vitiligo-12--WatermarkedWyJXYXRlcm1hcmtlZCJd.jpeg            1.0   \n",
       "\n",
       "                                                    actual_Plaque  \\\n",
       "filename                                                            \n",
       "viral-wart-15--WatermarkedWyJXYXRlcm1hcmtlZCJd....            1.0   \n",
       "10556-P7070060.jpeg                                           0.0   \n",
       "043052HB.jpeg                                                 1.0   \n",
       "halo5--WatermarkedWyJXYXRlcm1hcmtlZCJd.jpeg                   0.0   \n",
       "vitiligo-10--WatermarkedWyJXYXRlcm1hcmtlZCJd.jpeg             0.0   \n",
       "facial-psoriasis06--WatermarkedWyJXYXRlcm1hcmtl...            1.0   \n",
       "496--WatermarkedWyJXYXRlcm1hcmtlZCJd.jpeg                     1.0   \n",
       "016139HB.jpeg                                                 1.0   \n",
       "044314HB.jpeg                                                 1.0   \n",
       "piebald3--WatermarkedWyJXYXRlcm1hcmtlZCJd.jpeg                0.0   \n",
       "vitiligo-51--WatermarkedWyJXYXRlcm1hcmtlZCJd.jpeg             0.0   \n",
       "facial-psoriasis26--WatermarkedWyJXYXRlcm1hcmtl...            1.0   \n",
       "044772HB.jpeg                                                 1.0   \n",
       "steroid-acne-03--WatermarkedWyJXYXRlcm1hcmtlZCJ...            1.0   \n",
       "10564-WARTS.jpeg                                              1.0   \n",
       "acne-face-65--WatermarkedWyJXYXRlcm1hcmtlZCJd.jpeg            0.0   \n",
       "acne-face-56--WatermarkedWyJXYXRlcm1hcmtlZCJd.jpeg            0.0   \n",
       "foll-kel1--WatermarkedWyJXYXRlcm1hcmtlZCJd.jpeg               1.0   \n",
       "043293HB.jpeg                                                 1.0   \n",
       "032439HB.jpeg                                                 0.0   \n",
       "acne-face-1-48--WatermarkedWyJXYXRlcm1hcmtlZCJd...            0.0   \n",
       "043128HB.jpeg                                                 0.0   \n",
       "ppps22--WatermarkedWyJXYXRlcm1hcmtlZCJd.jpeg                  1.0   \n",
       "017875HB.jpeg                                                 1.0   \n",
       "016441HB.jpeg                                                 1.0   \n",
       "042980HB.jpeg                                                 1.0   \n",
       "vitiligo-15--WatermarkedWyJXYXRlcm1hcmtlZCJd.jpeg             0.0   \n",
       "035260HB.jpeg                                                 0.0   \n",
       "017560HB.jpeg                                                 1.0   \n",
       "045142HB.jpeg                                                 1.0   \n",
       "269--WatermarkedWyJXYXRlcm1hcmtlZCJd.jpeg                     1.0   \n",
       "043126HB.jpeg                                                 1.0   \n",
       "acne1--WatermarkedWyJXYXRlcm1hcmtlZCJd.jpeg                   0.0   \n",
       "017322HB.jpeg                                                 1.0   \n",
       "sebderm6--WatermarkedWyJXYXRlcm1hcmtlZCJd.jpeg                1.0   \n",
       "044875HB.jpeg                                                 1.0   \n",
       "acne-face-2--WatermarkedWyJXYXRlcm1hcmtlZCJd.jpeg             1.0   \n",
       "319--WatermarkedWyJXYXRlcm1hcmtlZCJd.jpeg                     1.0   \n",
       "seborrhoeic-dermatitis--WatermarkedWyJXYXRlcm1h...            1.0   \n",
       "043173HB.jpeg                                                 1.0   \n",
       "piebald6--WatermarkedWyJXYXRlcm1hcmtlZCJd.jpeg                0.0   \n",
       "vitiligo-28--WatermarkedWyJXYXRlcm1hcmtlZCJd.jpeg             0.0   \n",
       "515--WatermarkedWyJXYXRlcm1hcmtlZCJd.jpeg                     1.0   \n",
       "wart25--WatermarkedWyJXYXRlcm1hcmtlZCJd.jpeg                  1.0   \n",
       "viral-wart-13--WatermarkedWyJXYXRlcm1hcmtlZCJd....            1.0   \n",
       "wart26--WatermarkedWyJXYXRlcm1hcmtlZCJd.jpeg                  1.0   \n",
       "facial-psoriasis21--WatermarkedWyJXYXRlcm1hcmtl...            1.0   \n",
       "3729--WatermarkedWyJXYXRlcm1hcmtlZCJd.jpeg                    1.0   \n",
       "acne-face-1-1--WatermarkedWyJXYXRlcm1hcmtlZCJd....            0.0   \n",
       "vitiligo-40--WatermarkedWyJXYXRlcm1hcmtlZCJd.jpeg             0.0   \n",
       "viral-wart-04--WatermarkedWyJXYXRlcm1hcmtlZCJd....            1.0   \n",
       "044570HB.jpeg                                                 1.0   \n",
       "044567HB.jpeg                                                 1.0   \n",
       "10070-Picture1.jpeg                                           1.0   \n",
       "2779--WatermarkedWyJXYXRlcm1hcmtlZCJd.jpeg                    1.0   \n",
       "vitiligo-12--WatermarkedWyJXYXRlcm1hcmtlZCJd.jpeg             0.0   \n",
       "\n",
       "                                                    actual_Pustule  \\\n",
       "filename                                                             \n",
       "viral-wart-15--WatermarkedWyJXYXRlcm1hcmtlZCJd....             0.0   \n",
       "10556-P7070060.jpeg                                            0.0   \n",
       "043052HB.jpeg                                                  0.0   \n",
       "halo5--WatermarkedWyJXYXRlcm1hcmtlZCJd.jpeg                    0.0   \n",
       "vitiligo-10--WatermarkedWyJXYXRlcm1hcmtlZCJd.jpeg              0.0   \n",
       "facial-psoriasis06--WatermarkedWyJXYXRlcm1hcmtl...             0.0   \n",
       "496--WatermarkedWyJXYXRlcm1hcmtlZCJd.jpeg                      0.0   \n",
       "016139HB.jpeg                                                  0.0   \n",
       "044314HB.jpeg                                                  0.0   \n",
       "piebald3--WatermarkedWyJXYXRlcm1hcmtlZCJd.jpeg                 0.0   \n",
       "vitiligo-51--WatermarkedWyJXYXRlcm1hcmtlZCJd.jpeg              0.0   \n",
       "facial-psoriasis26--WatermarkedWyJXYXRlcm1hcmtl...             0.0   \n",
       "044772HB.jpeg                                                  0.0   \n",
       "steroid-acne-03--WatermarkedWyJXYXRlcm1hcmtlZCJ...             1.0   \n",
       "10564-WARTS.jpeg                                               0.0   \n",
       "acne-face-65--WatermarkedWyJXYXRlcm1hcmtlZCJd.jpeg             1.0   \n",
       "acne-face-56--WatermarkedWyJXYXRlcm1hcmtlZCJd.jpeg             1.0   \n",
       "foll-kel1--WatermarkedWyJXYXRlcm1hcmtlZCJd.jpeg                0.0   \n",
       "043293HB.jpeg                                                  0.0   \n",
       "032439HB.jpeg                                                  1.0   \n",
       "acne-face-1-48--WatermarkedWyJXYXRlcm1hcmtlZCJd...             1.0   \n",
       "043128HB.jpeg                                                  0.0   \n",
       "ppps22--WatermarkedWyJXYXRlcm1hcmtlZCJd.jpeg                   0.0   \n",
       "017875HB.jpeg                                                  0.0   \n",
       "016441HB.jpeg                                                  0.0   \n",
       "042980HB.jpeg                                                  0.0   \n",
       "vitiligo-15--WatermarkedWyJXYXRlcm1hcmtlZCJd.jpeg              0.0   \n",
       "035260HB.jpeg                                                  1.0   \n",
       "017560HB.jpeg                                                  0.0   \n",
       "045142HB.jpeg                                                  0.0   \n",
       "269--WatermarkedWyJXYXRlcm1hcmtlZCJd.jpeg                      0.0   \n",
       "043126HB.jpeg                                                  0.0   \n",
       "acne1--WatermarkedWyJXYXRlcm1hcmtlZCJd.jpeg                    1.0   \n",
       "017322HB.jpeg                                                  0.0   \n",
       "sebderm6--WatermarkedWyJXYXRlcm1hcmtlZCJd.jpeg                 0.0   \n",
       "044875HB.jpeg                                                  0.0   \n",
       "acne-face-2--WatermarkedWyJXYXRlcm1hcmtlZCJd.jpeg              1.0   \n",
       "319--WatermarkedWyJXYXRlcm1hcmtlZCJd.jpeg                      0.0   \n",
       "seborrhoeic-dermatitis--WatermarkedWyJXYXRlcm1h...             0.0   \n",
       "043173HB.jpeg                                                  0.0   \n",
       "piebald6--WatermarkedWyJXYXRlcm1hcmtlZCJd.jpeg                 0.0   \n",
       "vitiligo-28--WatermarkedWyJXYXRlcm1hcmtlZCJd.jpeg              0.0   \n",
       "515--WatermarkedWyJXYXRlcm1hcmtlZCJd.jpeg                      0.0   \n",
       "wart25--WatermarkedWyJXYXRlcm1hcmtlZCJd.jpeg                   0.0   \n",
       "viral-wart-13--WatermarkedWyJXYXRlcm1hcmtlZCJd....             0.0   \n",
       "wart26--WatermarkedWyJXYXRlcm1hcmtlZCJd.jpeg                   0.0   \n",
       "facial-psoriasis21--WatermarkedWyJXYXRlcm1hcmtl...             0.0   \n",
       "3729--WatermarkedWyJXYXRlcm1hcmtlZCJd.jpeg                     0.0   \n",
       "acne-face-1-1--WatermarkedWyJXYXRlcm1hcmtlZCJd....             1.0   \n",
       "vitiligo-40--WatermarkedWyJXYXRlcm1hcmtlZCJd.jpeg              0.0   \n",
       "viral-wart-04--WatermarkedWyJXYXRlcm1hcmtlZCJd....             0.0   \n",
       "044570HB.jpeg                                                  0.0   \n",
       "044567HB.jpeg                                                  0.0   \n",
       "10070-Picture1.jpeg                                            0.0   \n",
       "2779--WatermarkedWyJXYXRlcm1hcmtlZCJd.jpeg                     0.0   \n",
       "vitiligo-12--WatermarkedWyJXYXRlcm1hcmtlZCJd.jpeg              0.0   \n",
       "\n",
       "                                                    actual_Scale  ...  \\\n",
       "filename                                                          ...   \n",
       "viral-wart-15--WatermarkedWyJXYXRlcm1hcmtlZCJd....           0.0  ...   \n",
       "10556-P7070060.jpeg                                          0.0  ...   \n",
       "043052HB.jpeg                                                1.0  ...   \n",
       "halo5--WatermarkedWyJXYXRlcm1hcmtlZCJd.jpeg                  0.0  ...   \n",
       "vitiligo-10--WatermarkedWyJXYXRlcm1hcmtlZCJd.jpeg            0.0  ...   \n",
       "facial-psoriasis06--WatermarkedWyJXYXRlcm1hcmtl...           1.0  ...   \n",
       "496--WatermarkedWyJXYXRlcm1hcmtlZCJd.jpeg                    1.0  ...   \n",
       "016139HB.jpeg                                                1.0  ...   \n",
       "044314HB.jpeg                                                1.0  ...   \n",
       "piebald3--WatermarkedWyJXYXRlcm1hcmtlZCJd.jpeg               0.0  ...   \n",
       "vitiligo-51--WatermarkedWyJXYXRlcm1hcmtlZCJd.jpeg            0.0  ...   \n",
       "facial-psoriasis26--WatermarkedWyJXYXRlcm1hcmtl...           1.0  ...   \n",
       "044772HB.jpeg                                                1.0  ...   \n",
       "steroid-acne-03--WatermarkedWyJXYXRlcm1hcmtlZCJ...           1.0  ...   \n",
       "10564-WARTS.jpeg                                             0.0  ...   \n",
       "acne-face-65--WatermarkedWyJXYXRlcm1hcmtlZCJd.jpeg           0.0  ...   \n",
       "acne-face-56--WatermarkedWyJXYXRlcm1hcmtlZCJd.jpeg           0.0  ...   \n",
       "foll-kel1--WatermarkedWyJXYXRlcm1hcmtlZCJd.jpeg              0.0  ...   \n",
       "043293HB.jpeg                                                1.0  ...   \n",
       "032439HB.jpeg                                                1.0  ...   \n",
       "acne-face-1-48--WatermarkedWyJXYXRlcm1hcmtlZCJd...           0.0  ...   \n",
       "043128HB.jpeg                                                0.0  ...   \n",
       "ppps22--WatermarkedWyJXYXRlcm1hcmtlZCJd.jpeg                 1.0  ...   \n",
       "017875HB.jpeg                                                1.0  ...   \n",
       "016441HB.jpeg                                                1.0  ...   \n",
       "042980HB.jpeg                                                1.0  ...   \n",
       "vitiligo-15--WatermarkedWyJXYXRlcm1hcmtlZCJd.jpeg            0.0  ...   \n",
       "035260HB.jpeg                                                0.0  ...   \n",
       "017560HB.jpeg                                                1.0  ...   \n",
       "045142HB.jpeg                                                1.0  ...   \n",
       "269--WatermarkedWyJXYXRlcm1hcmtlZCJd.jpeg                    1.0  ...   \n",
       "043126HB.jpeg                                                1.0  ...   \n",
       "acne1--WatermarkedWyJXYXRlcm1hcmtlZCJd.jpeg                  1.0  ...   \n",
       "017322HB.jpeg                                                1.0  ...   \n",
       "sebderm6--WatermarkedWyJXYXRlcm1hcmtlZCJd.jpeg               1.0  ...   \n",
       "044875HB.jpeg                                                1.0  ...   \n",
       "acne-face-2--WatermarkedWyJXYXRlcm1hcmtlZCJd.jpeg            0.0  ...   \n",
       "319--WatermarkedWyJXYXRlcm1hcmtlZCJd.jpeg                    1.0  ...   \n",
       "seborrhoeic-dermatitis--WatermarkedWyJXYXRlcm1h...           1.0  ...   \n",
       "043173HB.jpeg                                                1.0  ...   \n",
       "piebald6--WatermarkedWyJXYXRlcm1hcmtlZCJd.jpeg               0.0  ...   \n",
       "vitiligo-28--WatermarkedWyJXYXRlcm1hcmtlZCJd.jpeg            0.0  ...   \n",
       "515--WatermarkedWyJXYXRlcm1hcmtlZCJd.jpeg                    1.0  ...   \n",
       "wart25--WatermarkedWyJXYXRlcm1hcmtlZCJd.jpeg                 1.0  ...   \n",
       "viral-wart-13--WatermarkedWyJXYXRlcm1hcmtlZCJd....           1.0  ...   \n",
       "wart26--WatermarkedWyJXYXRlcm1hcmtlZCJd.jpeg                 0.0  ...   \n",
       "facial-psoriasis21--WatermarkedWyJXYXRlcm1hcmtl...           1.0  ...   \n",
       "3729--WatermarkedWyJXYXRlcm1hcmtlZCJd.jpeg                   1.0  ...   \n",
       "acne-face-1-1--WatermarkedWyJXYXRlcm1hcmtlZCJd....           0.0  ...   \n",
       "vitiligo-40--WatermarkedWyJXYXRlcm1hcmtlZCJd.jpeg            0.0  ...   \n",
       "viral-wart-04--WatermarkedWyJXYXRlcm1hcmtlZCJd....           1.0  ...   \n",
       "044570HB.jpeg                                                1.0  ...   \n",
       "044567HB.jpeg                                                1.0  ...   \n",
       "10070-Picture1.jpeg                                          0.0  ...   \n",
       "2779--WatermarkedWyJXYXRlcm1hcmtlZCJd.jpeg                   1.0  ...   \n",
       "vitiligo-12--WatermarkedWyJXYXRlcm1hcmtlZCJd.jpeg            0.0  ...   \n",
       "\n",
       "                                                    predicted_Closed comedo  \\\n",
       "filename                                                                      \n",
       "viral-wart-15--WatermarkedWyJXYXRlcm1hcmtlZCJd....                      0.0   \n",
       "10556-P7070060.jpeg                                                     0.0   \n",
       "043052HB.jpeg                                                           1.0   \n",
       "halo5--WatermarkedWyJXYXRlcm1hcmtlZCJd.jpeg                             1.0   \n",
       "vitiligo-10--WatermarkedWyJXYXRlcm1hcmtlZCJd.jpeg                       1.0   \n",
       "facial-psoriasis06--WatermarkedWyJXYXRlcm1hcmtl...                      1.0   \n",
       "496--WatermarkedWyJXYXRlcm1hcmtlZCJd.jpeg                               1.0   \n",
       "016139HB.jpeg                                                           1.0   \n",
       "044314HB.jpeg                                                           1.0   \n",
       "piebald3--WatermarkedWyJXYXRlcm1hcmtlZCJd.jpeg                          1.0   \n",
       "vitiligo-51--WatermarkedWyJXYXRlcm1hcmtlZCJd.jpeg                       0.0   \n",
       "facial-psoriasis26--WatermarkedWyJXYXRlcm1hcmtl...                      1.0   \n",
       "044772HB.jpeg                                                           1.0   \n",
       "steroid-acne-03--WatermarkedWyJXYXRlcm1hcmtlZCJ...                      1.0   \n",
       "10564-WARTS.jpeg                                                        0.0   \n",
       "acne-face-65--WatermarkedWyJXYXRlcm1hcmtlZCJd.jpeg                      1.0   \n",
       "acne-face-56--WatermarkedWyJXYXRlcm1hcmtlZCJd.jpeg                      1.0   \n",
       "foll-kel1--WatermarkedWyJXYXRlcm1hcmtlZCJd.jpeg                         1.0   \n",
       "043293HB.jpeg                                                           1.0   \n",
       "032439HB.jpeg                                                           1.0   \n",
       "acne-face-1-48--WatermarkedWyJXYXRlcm1hcmtlZCJd...                      1.0   \n",
       "043128HB.jpeg                                                           1.0   \n",
       "ppps22--WatermarkedWyJXYXRlcm1hcmtlZCJd.jpeg                            0.0   \n",
       "017875HB.jpeg                                                           1.0   \n",
       "016441HB.jpeg                                                           0.0   \n",
       "042980HB.jpeg                                                           1.0   \n",
       "vitiligo-15--WatermarkedWyJXYXRlcm1hcmtlZCJd.jpeg                       1.0   \n",
       "035260HB.jpeg                                                           1.0   \n",
       "017560HB.jpeg                                                           0.0   \n",
       "045142HB.jpeg                                                           1.0   \n",
       "269--WatermarkedWyJXYXRlcm1hcmtlZCJd.jpeg                               1.0   \n",
       "043126HB.jpeg                                                           1.0   \n",
       "acne1--WatermarkedWyJXYXRlcm1hcmtlZCJd.jpeg                             1.0   \n",
       "017322HB.jpeg                                                           1.0   \n",
       "sebderm6--WatermarkedWyJXYXRlcm1hcmtlZCJd.jpeg                          1.0   \n",
       "044875HB.jpeg                                                           1.0   \n",
       "acne-face-2--WatermarkedWyJXYXRlcm1hcmtlZCJd.jpeg                       1.0   \n",
       "319--WatermarkedWyJXYXRlcm1hcmtlZCJd.jpeg                               1.0   \n",
       "seborrhoeic-dermatitis--WatermarkedWyJXYXRlcm1h...                      0.0   \n",
       "043173HB.jpeg                                                           1.0   \n",
       "piebald6--WatermarkedWyJXYXRlcm1hcmtlZCJd.jpeg                          0.0   \n",
       "vitiligo-28--WatermarkedWyJXYXRlcm1hcmtlZCJd.jpeg                       1.0   \n",
       "515--WatermarkedWyJXYXRlcm1hcmtlZCJd.jpeg                               1.0   \n",
       "wart25--WatermarkedWyJXYXRlcm1hcmtlZCJd.jpeg                            0.0   \n",
       "viral-wart-13--WatermarkedWyJXYXRlcm1hcmtlZCJd....                      0.0   \n",
       "wart26--WatermarkedWyJXYXRlcm1hcmtlZCJd.jpeg                            0.0   \n",
       "facial-psoriasis21--WatermarkedWyJXYXRlcm1hcmtl...                      1.0   \n",
       "3729--WatermarkedWyJXYXRlcm1hcmtlZCJd.jpeg                              1.0   \n",
       "acne-face-1-1--WatermarkedWyJXYXRlcm1hcmtlZCJd....                      1.0   \n",
       "vitiligo-40--WatermarkedWyJXYXRlcm1hcmtlZCJd.jpeg                       1.0   \n",
       "viral-wart-04--WatermarkedWyJXYXRlcm1hcmtlZCJd....                      0.0   \n",
       "044570HB.jpeg                                                           1.0   \n",
       "044567HB.jpeg                                                           0.0   \n",
       "10070-Picture1.jpeg                                                     0.0   \n",
       "2779--WatermarkedWyJXYXRlcm1hcmtlZCJd.jpeg                              1.0   \n",
       "vitiligo-12--WatermarkedWyJXYXRlcm1hcmtlZCJd.jpeg                       1.0   \n",
       "\n",
       "                                                    predicted_Dermatoglyph disruption  \\\n",
       "filename                                                                                \n",
       "viral-wart-15--WatermarkedWyJXYXRlcm1hcmtlZCJd....                                0.0   \n",
       "10556-P7070060.jpeg                                                               1.0   \n",
       "043052HB.jpeg                                                                     1.0   \n",
       "halo5--WatermarkedWyJXYXRlcm1hcmtlZCJd.jpeg                                       0.0   \n",
       "vitiligo-10--WatermarkedWyJXYXRlcm1hcmtlZCJd.jpeg                                 0.0   \n",
       "facial-psoriasis06--WatermarkedWyJXYXRlcm1hcmtl...                                1.0   \n",
       "496--WatermarkedWyJXYXRlcm1hcmtlZCJd.jpeg                                         1.0   \n",
       "016139HB.jpeg                                                                     1.0   \n",
       "044314HB.jpeg                                                                     0.0   \n",
       "piebald3--WatermarkedWyJXYXRlcm1hcmtlZCJd.jpeg                                    1.0   \n",
       "vitiligo-51--WatermarkedWyJXYXRlcm1hcmtlZCJd.jpeg                                 0.0   \n",
       "facial-psoriasis26--WatermarkedWyJXYXRlcm1hcmtl...                                1.0   \n",
       "044772HB.jpeg                                                                     0.0   \n",
       "steroid-acne-03--WatermarkedWyJXYXRlcm1hcmtlZCJ...                                1.0   \n",
       "10564-WARTS.jpeg                                                                  0.0   \n",
       "acne-face-65--WatermarkedWyJXYXRlcm1hcmtlZCJd.jpeg                                1.0   \n",
       "acne-face-56--WatermarkedWyJXYXRlcm1hcmtlZCJd.jpeg                                1.0   \n",
       "foll-kel1--WatermarkedWyJXYXRlcm1hcmtlZCJd.jpeg                                   1.0   \n",
       "043293HB.jpeg                                                                     1.0   \n",
       "032439HB.jpeg                                                                     1.0   \n",
       "acne-face-1-48--WatermarkedWyJXYXRlcm1hcmtlZCJd...                                1.0   \n",
       "043128HB.jpeg                                                                     1.0   \n",
       "ppps22--WatermarkedWyJXYXRlcm1hcmtlZCJd.jpeg                                      0.0   \n",
       "017875HB.jpeg                                                                     1.0   \n",
       "016441HB.jpeg                                                                     1.0   \n",
       "042980HB.jpeg                                                                     1.0   \n",
       "vitiligo-15--WatermarkedWyJXYXRlcm1hcmtlZCJd.jpeg                                 0.0   \n",
       "035260HB.jpeg                                                                     1.0   \n",
       "017560HB.jpeg                                                                     0.0   \n",
       "045142HB.jpeg                                                                     1.0   \n",
       "269--WatermarkedWyJXYXRlcm1hcmtlZCJd.jpeg                                         1.0   \n",
       "043126HB.jpeg                                                                     1.0   \n",
       "acne1--WatermarkedWyJXYXRlcm1hcmtlZCJd.jpeg                                       1.0   \n",
       "017322HB.jpeg                                                                     1.0   \n",
       "sebderm6--WatermarkedWyJXYXRlcm1hcmtlZCJd.jpeg                                    1.0   \n",
       "044875HB.jpeg                                                                     0.0   \n",
       "acne-face-2--WatermarkedWyJXYXRlcm1hcmtlZCJd.jpeg                                 1.0   \n",
       "319--WatermarkedWyJXYXRlcm1hcmtlZCJd.jpeg                                         1.0   \n",
       "seborrhoeic-dermatitis--WatermarkedWyJXYXRlcm1h...                                0.0   \n",
       "043173HB.jpeg                                                                     1.0   \n",
       "piebald6--WatermarkedWyJXYXRlcm1hcmtlZCJd.jpeg                                    0.0   \n",
       "vitiligo-28--WatermarkedWyJXYXRlcm1hcmtlZCJd.jpeg                                 0.0   \n",
       "515--WatermarkedWyJXYXRlcm1hcmtlZCJd.jpeg                                         1.0   \n",
       "wart25--WatermarkedWyJXYXRlcm1hcmtlZCJd.jpeg                                      0.0   \n",
       "viral-wart-13--WatermarkedWyJXYXRlcm1hcmtlZCJd....                                0.0   \n",
       "wart26--WatermarkedWyJXYXRlcm1hcmtlZCJd.jpeg                                      0.0   \n",
       "facial-psoriasis21--WatermarkedWyJXYXRlcm1hcmtl...                                1.0   \n",
       "3729--WatermarkedWyJXYXRlcm1hcmtlZCJd.jpeg                                        1.0   \n",
       "acne-face-1-1--WatermarkedWyJXYXRlcm1hcmtlZCJd....                                1.0   \n",
       "vitiligo-40--WatermarkedWyJXYXRlcm1hcmtlZCJd.jpeg                                 0.0   \n",
       "viral-wart-04--WatermarkedWyJXYXRlcm1hcmtlZCJd....                                0.0   \n",
       "044570HB.jpeg                                                                     0.0   \n",
       "044567HB.jpeg                                                                     0.0   \n",
       "10070-Picture1.jpeg                                                               0.0   \n",
       "2779--WatermarkedWyJXYXRlcm1hcmtlZCJd.jpeg                                        0.0   \n",
       "vitiligo-12--WatermarkedWyJXYXRlcm1hcmtlZCJd.jpeg                                 0.0   \n",
       "\n",
       "                                                    predicted_Open comedo  \\\n",
       "filename                                                                    \n",
       "viral-wart-15--WatermarkedWyJXYXRlcm1hcmtlZCJd....                    1.0   \n",
       "10556-P7070060.jpeg                                                   1.0   \n",
       "043052HB.jpeg                                                         1.0   \n",
       "halo5--WatermarkedWyJXYXRlcm1hcmtlZCJd.jpeg                           0.0   \n",
       "vitiligo-10--WatermarkedWyJXYXRlcm1hcmtlZCJd.jpeg                     0.0   \n",
       "facial-psoriasis06--WatermarkedWyJXYXRlcm1hcmtl...                    1.0   \n",
       "496--WatermarkedWyJXYXRlcm1hcmtlZCJd.jpeg                             0.0   \n",
       "016139HB.jpeg                                                         1.0   \n",
       "044314HB.jpeg                                                         1.0   \n",
       "piebald3--WatermarkedWyJXYXRlcm1hcmtlZCJd.jpeg                        1.0   \n",
       "vitiligo-51--WatermarkedWyJXYXRlcm1hcmtlZCJd.jpeg                     1.0   \n",
       "facial-psoriasis26--WatermarkedWyJXYXRlcm1hcmtl...                    1.0   \n",
       "044772HB.jpeg                                                         0.0   \n",
       "steroid-acne-03--WatermarkedWyJXYXRlcm1hcmtlZCJ...                    1.0   \n",
       "10564-WARTS.jpeg                                                      1.0   \n",
       "acne-face-65--WatermarkedWyJXYXRlcm1hcmtlZCJd.jpeg                    1.0   \n",
       "acne-face-56--WatermarkedWyJXYXRlcm1hcmtlZCJd.jpeg                    1.0   \n",
       "foll-kel1--WatermarkedWyJXYXRlcm1hcmtlZCJd.jpeg                       1.0   \n",
       "043293HB.jpeg                                                         1.0   \n",
       "032439HB.jpeg                                                         1.0   \n",
       "acne-face-1-48--WatermarkedWyJXYXRlcm1hcmtlZCJd...                    1.0   \n",
       "043128HB.jpeg                                                         1.0   \n",
       "ppps22--WatermarkedWyJXYXRlcm1hcmtlZCJd.jpeg                          0.0   \n",
       "017875HB.jpeg                                                         1.0   \n",
       "016441HB.jpeg                                                         1.0   \n",
       "042980HB.jpeg                                                         1.0   \n",
       "vitiligo-15--WatermarkedWyJXYXRlcm1hcmtlZCJd.jpeg                     0.0   \n",
       "035260HB.jpeg                                                         1.0   \n",
       "017560HB.jpeg                                                         1.0   \n",
       "045142HB.jpeg                                                         1.0   \n",
       "269--WatermarkedWyJXYXRlcm1hcmtlZCJd.jpeg                             1.0   \n",
       "043126HB.jpeg                                                         1.0   \n",
       "acne1--WatermarkedWyJXYXRlcm1hcmtlZCJd.jpeg                           1.0   \n",
       "017322HB.jpeg                                                         1.0   \n",
       "sebderm6--WatermarkedWyJXYXRlcm1hcmtlZCJd.jpeg                        1.0   \n",
       "044875HB.jpeg                                                         0.0   \n",
       "acne-face-2--WatermarkedWyJXYXRlcm1hcmtlZCJd.jpeg                     1.0   \n",
       "319--WatermarkedWyJXYXRlcm1hcmtlZCJd.jpeg                             1.0   \n",
       "seborrhoeic-dermatitis--WatermarkedWyJXYXRlcm1h...                    1.0   \n",
       "043173HB.jpeg                                                         1.0   \n",
       "piebald6--WatermarkedWyJXYXRlcm1hcmtlZCJd.jpeg                        1.0   \n",
       "vitiligo-28--WatermarkedWyJXYXRlcm1hcmtlZCJd.jpeg                     0.0   \n",
       "515--WatermarkedWyJXYXRlcm1hcmtlZCJd.jpeg                             0.0   \n",
       "wart25--WatermarkedWyJXYXRlcm1hcmtlZCJd.jpeg                          1.0   \n",
       "viral-wart-13--WatermarkedWyJXYXRlcm1hcmtlZCJd....                    1.0   \n",
       "wart26--WatermarkedWyJXYXRlcm1hcmtlZCJd.jpeg                          1.0   \n",
       "facial-psoriasis21--WatermarkedWyJXYXRlcm1hcmtl...                    1.0   \n",
       "3729--WatermarkedWyJXYXRlcm1hcmtlZCJd.jpeg                            1.0   \n",
       "acne-face-1-1--WatermarkedWyJXYXRlcm1hcmtlZCJd....                    1.0   \n",
       "vitiligo-40--WatermarkedWyJXYXRlcm1hcmtlZCJd.jpeg                     0.0   \n",
       "viral-wart-04--WatermarkedWyJXYXRlcm1hcmtlZCJd....                    1.0   \n",
       "044570HB.jpeg                                                         0.0   \n",
       "044567HB.jpeg                                                         1.0   \n",
       "10070-Picture1.jpeg                                                   1.0   \n",
       "2779--WatermarkedWyJXYXRlcm1hcmtlZCJd.jpeg                            0.0   \n",
       "vitiligo-12--WatermarkedWyJXYXRlcm1hcmtlZCJd.jpeg                     0.0   \n",
       "\n",
       "                                                    predicted_Papule  \\\n",
       "filename                                                               \n",
       "viral-wart-15--WatermarkedWyJXYXRlcm1hcmtlZCJd....               1.0   \n",
       "10556-P7070060.jpeg                                              1.0   \n",
       "043052HB.jpeg                                                    0.0   \n",
       "halo5--WatermarkedWyJXYXRlcm1hcmtlZCJd.jpeg                      0.0   \n",
       "vitiligo-10--WatermarkedWyJXYXRlcm1hcmtlZCJd.jpeg                0.0   \n",
       "facial-psoriasis06--WatermarkedWyJXYXRlcm1hcmtl...               0.0   \n",
       "496--WatermarkedWyJXYXRlcm1hcmtlZCJd.jpeg                        1.0   \n",
       "016139HB.jpeg                                                    1.0   \n",
       "044314HB.jpeg                                                    0.0   \n",
       "piebald3--WatermarkedWyJXYXRlcm1hcmtlZCJd.jpeg                   1.0   \n",
       "vitiligo-51--WatermarkedWyJXYXRlcm1hcmtlZCJd.jpeg                0.0   \n",
       "facial-psoriasis26--WatermarkedWyJXYXRlcm1hcmtl...               1.0   \n",
       "044772HB.jpeg                                                    0.0   \n",
       "steroid-acne-03--WatermarkedWyJXYXRlcm1hcmtlZCJ...               1.0   \n",
       "10564-WARTS.jpeg                                                 0.0   \n",
       "acne-face-65--WatermarkedWyJXYXRlcm1hcmtlZCJd.jpeg               1.0   \n",
       "acne-face-56--WatermarkedWyJXYXRlcm1hcmtlZCJd.jpeg               1.0   \n",
       "foll-kel1--WatermarkedWyJXYXRlcm1hcmtlZCJd.jpeg                  1.0   \n",
       "043293HB.jpeg                                                    0.0   \n",
       "032439HB.jpeg                                                    1.0   \n",
       "acne-face-1-48--WatermarkedWyJXYXRlcm1hcmtlZCJd...               1.0   \n",
       "043128HB.jpeg                                                    0.0   \n",
       "ppps22--WatermarkedWyJXYXRlcm1hcmtlZCJd.jpeg                     0.0   \n",
       "017875HB.jpeg                                                    1.0   \n",
       "016441HB.jpeg                                                    1.0   \n",
       "042980HB.jpeg                                                    1.0   \n",
       "vitiligo-15--WatermarkedWyJXYXRlcm1hcmtlZCJd.jpeg                0.0   \n",
       "035260HB.jpeg                                                    1.0   \n",
       "017560HB.jpeg                                                    1.0   \n",
       "045142HB.jpeg                                                    0.0   \n",
       "269--WatermarkedWyJXYXRlcm1hcmtlZCJd.jpeg                        1.0   \n",
       "043126HB.jpeg                                                    0.0   \n",
       "acne1--WatermarkedWyJXYXRlcm1hcmtlZCJd.jpeg                      1.0   \n",
       "017322HB.jpeg                                                    1.0   \n",
       "sebderm6--WatermarkedWyJXYXRlcm1hcmtlZCJd.jpeg                   0.0   \n",
       "044875HB.jpeg                                                    0.0   \n",
       "acne-face-2--WatermarkedWyJXYXRlcm1hcmtlZCJd.jpeg                1.0   \n",
       "319--WatermarkedWyJXYXRlcm1hcmtlZCJd.jpeg                        1.0   \n",
       "seborrhoeic-dermatitis--WatermarkedWyJXYXRlcm1h...               0.0   \n",
       "043173HB.jpeg                                                    1.0   \n",
       "piebald6--WatermarkedWyJXYXRlcm1hcmtlZCJd.jpeg                   0.0   \n",
       "vitiligo-28--WatermarkedWyJXYXRlcm1hcmtlZCJd.jpeg                0.0   \n",
       "515--WatermarkedWyJXYXRlcm1hcmtlZCJd.jpeg                        1.0   \n",
       "wart25--WatermarkedWyJXYXRlcm1hcmtlZCJd.jpeg                     1.0   \n",
       "viral-wart-13--WatermarkedWyJXYXRlcm1hcmtlZCJd....               1.0   \n",
       "wart26--WatermarkedWyJXYXRlcm1hcmtlZCJd.jpeg                     1.0   \n",
       "facial-psoriasis21--WatermarkedWyJXYXRlcm1hcmtl...               0.0   \n",
       "3729--WatermarkedWyJXYXRlcm1hcmtlZCJd.jpeg                       1.0   \n",
       "acne-face-1-1--WatermarkedWyJXYXRlcm1hcmtlZCJd....               1.0   \n",
       "vitiligo-40--WatermarkedWyJXYXRlcm1hcmtlZCJd.jpeg                0.0   \n",
       "viral-wart-04--WatermarkedWyJXYXRlcm1hcmtlZCJd....               1.0   \n",
       "044570HB.jpeg                                                    0.0   \n",
       "044567HB.jpeg                                                    1.0   \n",
       "10070-Picture1.jpeg                                              0.0   \n",
       "2779--WatermarkedWyJXYXRlcm1hcmtlZCJd.jpeg                       0.0   \n",
       "vitiligo-12--WatermarkedWyJXYXRlcm1hcmtlZCJd.jpeg                0.0   \n",
       "\n",
       "                                                    predicted_Patch  \\\n",
       "filename                                                              \n",
       "viral-wart-15--WatermarkedWyJXYXRlcm1hcmtlZCJd....              1.0   \n",
       "10556-P7070060.jpeg                                             0.0   \n",
       "043052HB.jpeg                                                   1.0   \n",
       "halo5--WatermarkedWyJXYXRlcm1hcmtlZCJd.jpeg                     0.0   \n",
       "vitiligo-10--WatermarkedWyJXYXRlcm1hcmtlZCJd.jpeg               0.0   \n",
       "facial-psoriasis06--WatermarkedWyJXYXRlcm1hcmtl...              0.0   \n",
       "496--WatermarkedWyJXYXRlcm1hcmtlZCJd.jpeg                       0.0   \n",
       "016139HB.jpeg                                                   0.0   \n",
       "044314HB.jpeg                                                   1.0   \n",
       "piebald3--WatermarkedWyJXYXRlcm1hcmtlZCJd.jpeg                  0.0   \n",
       "vitiligo-51--WatermarkedWyJXYXRlcm1hcmtlZCJd.jpeg               1.0   \n",
       "facial-psoriasis26--WatermarkedWyJXYXRlcm1hcmtl...              0.0   \n",
       "044772HB.jpeg                                                   1.0   \n",
       "steroid-acne-03--WatermarkedWyJXYXRlcm1hcmtlZCJ...              0.0   \n",
       "10564-WARTS.jpeg                                                1.0   \n",
       "acne-face-65--WatermarkedWyJXYXRlcm1hcmtlZCJd.jpeg              0.0   \n",
       "acne-face-56--WatermarkedWyJXYXRlcm1hcmtlZCJd.jpeg              0.0   \n",
       "foll-kel1--WatermarkedWyJXYXRlcm1hcmtlZCJd.jpeg                 0.0   \n",
       "043293HB.jpeg                                                   1.0   \n",
       "032439HB.jpeg                                                   0.0   \n",
       "acne-face-1-48--WatermarkedWyJXYXRlcm1hcmtlZCJd...              0.0   \n",
       "043128HB.jpeg                                                   1.0   \n",
       "ppps22--WatermarkedWyJXYXRlcm1hcmtlZCJd.jpeg                    1.0   \n",
       "017875HB.jpeg                                                   0.0   \n",
       "016441HB.jpeg                                                   1.0   \n",
       "042980HB.jpeg                                                   0.0   \n",
       "vitiligo-15--WatermarkedWyJXYXRlcm1hcmtlZCJd.jpeg               0.0   \n",
       "035260HB.jpeg                                                   0.0   \n",
       "017560HB.jpeg                                                   1.0   \n",
       "045142HB.jpeg                                                   1.0   \n",
       "269--WatermarkedWyJXYXRlcm1hcmtlZCJd.jpeg                       0.0   \n",
       "043126HB.jpeg                                                   1.0   \n",
       "acne1--WatermarkedWyJXYXRlcm1hcmtlZCJd.jpeg                     0.0   \n",
       "017322HB.jpeg                                                   0.0   \n",
       "sebderm6--WatermarkedWyJXYXRlcm1hcmtlZCJd.jpeg                  1.0   \n",
       "044875HB.jpeg                                                   1.0   \n",
       "acne-face-2--WatermarkedWyJXYXRlcm1hcmtlZCJd.jpeg               0.0   \n",
       "319--WatermarkedWyJXYXRlcm1hcmtlZCJd.jpeg                       0.0   \n",
       "seborrhoeic-dermatitis--WatermarkedWyJXYXRlcm1h...              1.0   \n",
       "043173HB.jpeg                                                   1.0   \n",
       "piebald6--WatermarkedWyJXYXRlcm1hcmtlZCJd.jpeg                  1.0   \n",
       "vitiligo-28--WatermarkedWyJXYXRlcm1hcmtlZCJd.jpeg               0.0   \n",
       "515--WatermarkedWyJXYXRlcm1hcmtlZCJd.jpeg                       0.0   \n",
       "wart25--WatermarkedWyJXYXRlcm1hcmtlZCJd.jpeg                    1.0   \n",
       "viral-wart-13--WatermarkedWyJXYXRlcm1hcmtlZCJd....              1.0   \n",
       "wart26--WatermarkedWyJXYXRlcm1hcmtlZCJd.jpeg                    1.0   \n",
       "facial-psoriasis21--WatermarkedWyJXYXRlcm1hcmtl...              0.0   \n",
       "3729--WatermarkedWyJXYXRlcm1hcmtlZCJd.jpeg                      1.0   \n",
       "acne-face-1-1--WatermarkedWyJXYXRlcm1hcmtlZCJd....              0.0   \n",
       "vitiligo-40--WatermarkedWyJXYXRlcm1hcmtlZCJd.jpeg               0.0   \n",
       "viral-wart-04--WatermarkedWyJXYXRlcm1hcmtlZCJd....              1.0   \n",
       "044570HB.jpeg                                                   1.0   \n",
       "044567HB.jpeg                                                   1.0   \n",
       "10070-Picture1.jpeg                                             1.0   \n",
       "2779--WatermarkedWyJXYXRlcm1hcmtlZCJd.jpeg                      1.0   \n",
       "vitiligo-12--WatermarkedWyJXYXRlcm1hcmtlZCJd.jpeg               0.0   \n",
       "\n",
       "                                                    predicted_Plaque  \\\n",
       "filename                                                               \n",
       "viral-wart-15--WatermarkedWyJXYXRlcm1hcmtlZCJd....               0.0   \n",
       "10556-P7070060.jpeg                                              0.0   \n",
       "043052HB.jpeg                                                    0.0   \n",
       "halo5--WatermarkedWyJXYXRlcm1hcmtlZCJd.jpeg                      0.0   \n",
       "vitiligo-10--WatermarkedWyJXYXRlcm1hcmtlZCJd.jpeg                0.0   \n",
       "facial-psoriasis06--WatermarkedWyJXYXRlcm1hcmtl...               1.0   \n",
       "496--WatermarkedWyJXYXRlcm1hcmtlZCJd.jpeg                        1.0   \n",
       "016139HB.jpeg                                                    1.0   \n",
       "044314HB.jpeg                                                    1.0   \n",
       "piebald3--WatermarkedWyJXYXRlcm1hcmtlZCJd.jpeg                   1.0   \n",
       "vitiligo-51--WatermarkedWyJXYXRlcm1hcmtlZCJd.jpeg                0.0   \n",
       "facial-psoriasis26--WatermarkedWyJXYXRlcm1hcmtl...               1.0   \n",
       "044772HB.jpeg                                                    1.0   \n",
       "steroid-acne-03--WatermarkedWyJXYXRlcm1hcmtlZCJ...               1.0   \n",
       "10564-WARTS.jpeg                                                 1.0   \n",
       "acne-face-65--WatermarkedWyJXYXRlcm1hcmtlZCJd.jpeg               1.0   \n",
       "acne-face-56--WatermarkedWyJXYXRlcm1hcmtlZCJd.jpeg               1.0   \n",
       "foll-kel1--WatermarkedWyJXYXRlcm1hcmtlZCJd.jpeg                  1.0   \n",
       "043293HB.jpeg                                                    0.0   \n",
       "032439HB.jpeg                                                    1.0   \n",
       "acne-face-1-48--WatermarkedWyJXYXRlcm1hcmtlZCJd...               1.0   \n",
       "043128HB.jpeg                                                    1.0   \n",
       "ppps22--WatermarkedWyJXYXRlcm1hcmtlZCJd.jpeg                     1.0   \n",
       "017875HB.jpeg                                                    1.0   \n",
       "016441HB.jpeg                                                    1.0   \n",
       "042980HB.jpeg                                                    0.0   \n",
       "vitiligo-15--WatermarkedWyJXYXRlcm1hcmtlZCJd.jpeg                0.0   \n",
       "035260HB.jpeg                                                    1.0   \n",
       "017560HB.jpeg                                                    1.0   \n",
       "045142HB.jpeg                                                    0.0   \n",
       "269--WatermarkedWyJXYXRlcm1hcmtlZCJd.jpeg                        1.0   \n",
       "043126HB.jpeg                                                    0.0   \n",
       "acne1--WatermarkedWyJXYXRlcm1hcmtlZCJd.jpeg                      1.0   \n",
       "017322HB.jpeg                                                    1.0   \n",
       "sebderm6--WatermarkedWyJXYXRlcm1hcmtlZCJd.jpeg                   0.0   \n",
       "044875HB.jpeg                                                    1.0   \n",
       "acne-face-2--WatermarkedWyJXYXRlcm1hcmtlZCJd.jpeg                1.0   \n",
       "319--WatermarkedWyJXYXRlcm1hcmtlZCJd.jpeg                        0.0   \n",
       "seborrhoeic-dermatitis--WatermarkedWyJXYXRlcm1h...               0.0   \n",
       "043173HB.jpeg                                                    0.0   \n",
       "piebald6--WatermarkedWyJXYXRlcm1hcmtlZCJd.jpeg                   0.0   \n",
       "vitiligo-28--WatermarkedWyJXYXRlcm1hcmtlZCJd.jpeg                0.0   \n",
       "515--WatermarkedWyJXYXRlcm1hcmtlZCJd.jpeg                        1.0   \n",
       "wart25--WatermarkedWyJXYXRlcm1hcmtlZCJd.jpeg                     0.0   \n",
       "viral-wart-13--WatermarkedWyJXYXRlcm1hcmtlZCJd....               0.0   \n",
       "wart26--WatermarkedWyJXYXRlcm1hcmtlZCJd.jpeg                     0.0   \n",
       "facial-psoriasis21--WatermarkedWyJXYXRlcm1hcmtl...               1.0   \n",
       "3729--WatermarkedWyJXYXRlcm1hcmtlZCJd.jpeg                       1.0   \n",
       "acne-face-1-1--WatermarkedWyJXYXRlcm1hcmtlZCJd....               1.0   \n",
       "vitiligo-40--WatermarkedWyJXYXRlcm1hcmtlZCJd.jpeg                0.0   \n",
       "viral-wart-04--WatermarkedWyJXYXRlcm1hcmtlZCJd....               0.0   \n",
       "044570HB.jpeg                                                    1.0   \n",
       "044567HB.jpeg                                                    1.0   \n",
       "10070-Picture1.jpeg                                              1.0   \n",
       "2779--WatermarkedWyJXYXRlcm1hcmtlZCJd.jpeg                       1.0   \n",
       "vitiligo-12--WatermarkedWyJXYXRlcm1hcmtlZCJd.jpeg                0.0   \n",
       "\n",
       "                                                    predicted_Pustule  \\\n",
       "filename                                                                \n",
       "viral-wart-15--WatermarkedWyJXYXRlcm1hcmtlZCJd....                1.0   \n",
       "10556-P7070060.jpeg                                               1.0   \n",
       "043052HB.jpeg                                                     0.0   \n",
       "halo5--WatermarkedWyJXYXRlcm1hcmtlZCJd.jpeg                       0.0   \n",
       "vitiligo-10--WatermarkedWyJXYXRlcm1hcmtlZCJd.jpeg                 1.0   \n",
       "facial-psoriasis06--WatermarkedWyJXYXRlcm1hcmtl...                1.0   \n",
       "496--WatermarkedWyJXYXRlcm1hcmtlZCJd.jpeg                         0.0   \n",
       "016139HB.jpeg                                                     0.0   \n",
       "044314HB.jpeg                                                     1.0   \n",
       "piebald3--WatermarkedWyJXYXRlcm1hcmtlZCJd.jpeg                    1.0   \n",
       "vitiligo-51--WatermarkedWyJXYXRlcm1hcmtlZCJd.jpeg                 1.0   \n",
       "facial-psoriasis26--WatermarkedWyJXYXRlcm1hcmtl...                1.0   \n",
       "044772HB.jpeg                                                     0.0   \n",
       "steroid-acne-03--WatermarkedWyJXYXRlcm1hcmtlZCJ...                0.0   \n",
       "10564-WARTS.jpeg                                                  1.0   \n",
       "acne-face-65--WatermarkedWyJXYXRlcm1hcmtlZCJd.jpeg                1.0   \n",
       "acne-face-56--WatermarkedWyJXYXRlcm1hcmtlZCJd.jpeg                1.0   \n",
       "foll-kel1--WatermarkedWyJXYXRlcm1hcmtlZCJd.jpeg                   1.0   \n",
       "043293HB.jpeg                                                     0.0   \n",
       "032439HB.jpeg                                                     1.0   \n",
       "acne-face-1-48--WatermarkedWyJXYXRlcm1hcmtlZCJd...                0.0   \n",
       "043128HB.jpeg                                                     0.0   \n",
       "ppps22--WatermarkedWyJXYXRlcm1hcmtlZCJd.jpeg                      0.0   \n",
       "017875HB.jpeg                                                     0.0   \n",
       "016441HB.jpeg                                                     0.0   \n",
       "042980HB.jpeg                                                     0.0   \n",
       "vitiligo-15--WatermarkedWyJXYXRlcm1hcmtlZCJd.jpeg                 1.0   \n",
       "035260HB.jpeg                                                     1.0   \n",
       "017560HB.jpeg                                                     1.0   \n",
       "045142HB.jpeg                                                     0.0   \n",
       "269--WatermarkedWyJXYXRlcm1hcmtlZCJd.jpeg                         0.0   \n",
       "043126HB.jpeg                                                     0.0   \n",
       "acne1--WatermarkedWyJXYXRlcm1hcmtlZCJd.jpeg                       1.0   \n",
       "017322HB.jpeg                                                     0.0   \n",
       "sebderm6--WatermarkedWyJXYXRlcm1hcmtlZCJd.jpeg                    0.0   \n",
       "044875HB.jpeg                                                     0.0   \n",
       "acne-face-2--WatermarkedWyJXYXRlcm1hcmtlZCJd.jpeg                 1.0   \n",
       "319--WatermarkedWyJXYXRlcm1hcmtlZCJd.jpeg                         0.0   \n",
       "seborrhoeic-dermatitis--WatermarkedWyJXYXRlcm1h...                1.0   \n",
       "043173HB.jpeg                                                     0.0   \n",
       "piebald6--WatermarkedWyJXYXRlcm1hcmtlZCJd.jpeg                    1.0   \n",
       "vitiligo-28--WatermarkedWyJXYXRlcm1hcmtlZCJd.jpeg                 0.0   \n",
       "515--WatermarkedWyJXYXRlcm1hcmtlZCJd.jpeg                         0.0   \n",
       "wart25--WatermarkedWyJXYXRlcm1hcmtlZCJd.jpeg                      1.0   \n",
       "viral-wart-13--WatermarkedWyJXYXRlcm1hcmtlZCJd....                1.0   \n",
       "wart26--WatermarkedWyJXYXRlcm1hcmtlZCJd.jpeg                      1.0   \n",
       "facial-psoriasis21--WatermarkedWyJXYXRlcm1hcmtl...                0.0   \n",
       "3729--WatermarkedWyJXYXRlcm1hcmtlZCJd.jpeg                        0.0   \n",
       "acne-face-1-1--WatermarkedWyJXYXRlcm1hcmtlZCJd....                1.0   \n",
       "vitiligo-40--WatermarkedWyJXYXRlcm1hcmtlZCJd.jpeg                 0.0   \n",
       "viral-wart-04--WatermarkedWyJXYXRlcm1hcmtlZCJd....                1.0   \n",
       "044570HB.jpeg                                                     0.0   \n",
       "044567HB.jpeg                                                     1.0   \n",
       "10070-Picture1.jpeg                                               1.0   \n",
       "2779--WatermarkedWyJXYXRlcm1hcmtlZCJd.jpeg                        0.0   \n",
       "vitiligo-12--WatermarkedWyJXYXRlcm1hcmtlZCJd.jpeg                 1.0   \n",
       "\n",
       "                                                    predicted_Scale  \\\n",
       "filename                                                              \n",
       "viral-wart-15--WatermarkedWyJXYXRlcm1hcmtlZCJd....              1.0   \n",
       "10556-P7070060.jpeg                                             1.0   \n",
       "043052HB.jpeg                                                   0.0   \n",
       "halo5--WatermarkedWyJXYXRlcm1hcmtlZCJd.jpeg                     1.0   \n",
       "vitiligo-10--WatermarkedWyJXYXRlcm1hcmtlZCJd.jpeg               1.0   \n",
       "facial-psoriasis06--WatermarkedWyJXYXRlcm1hcmtl...              0.0   \n",
       "496--WatermarkedWyJXYXRlcm1hcmtlZCJd.jpeg                       0.0   \n",
       "016139HB.jpeg                                                   0.0   \n",
       "044314HB.jpeg                                                   1.0   \n",
       "piebald3--WatermarkedWyJXYXRlcm1hcmtlZCJd.jpeg                  0.0   \n",
       "vitiligo-51--WatermarkedWyJXYXRlcm1hcmtlZCJd.jpeg               0.0   \n",
       "facial-psoriasis26--WatermarkedWyJXYXRlcm1hcmtl...              0.0   \n",
       "044772HB.jpeg                                                   1.0   \n",
       "steroid-acne-03--WatermarkedWyJXYXRlcm1hcmtlZCJ...              0.0   \n",
       "10564-WARTS.jpeg                                                1.0   \n",
       "acne-face-65--WatermarkedWyJXYXRlcm1hcmtlZCJd.jpeg              0.0   \n",
       "acne-face-56--WatermarkedWyJXYXRlcm1hcmtlZCJd.jpeg              0.0   \n",
       "foll-kel1--WatermarkedWyJXYXRlcm1hcmtlZCJd.jpeg                 1.0   \n",
       "043293HB.jpeg                                                   0.0   \n",
       "032439HB.jpeg                                                   0.0   \n",
       "acne-face-1-48--WatermarkedWyJXYXRlcm1hcmtlZCJd...              0.0   \n",
       "043128HB.jpeg                                                   0.0   \n",
       "ppps22--WatermarkedWyJXYXRlcm1hcmtlZCJd.jpeg                    1.0   \n",
       "017875HB.jpeg                                                   0.0   \n",
       "016441HB.jpeg                                                   0.0   \n",
       "042980HB.jpeg                                                   0.0   \n",
       "vitiligo-15--WatermarkedWyJXYXRlcm1hcmtlZCJd.jpeg               1.0   \n",
       "035260HB.jpeg                                                   0.0   \n",
       "017560HB.jpeg                                                   0.0   \n",
       "045142HB.jpeg                                                   0.0   \n",
       "269--WatermarkedWyJXYXRlcm1hcmtlZCJd.jpeg                       0.0   \n",
       "043126HB.jpeg                                                   0.0   \n",
       "acne1--WatermarkedWyJXYXRlcm1hcmtlZCJd.jpeg                     0.0   \n",
       "017322HB.jpeg                                                   0.0   \n",
       "sebderm6--WatermarkedWyJXYXRlcm1hcmtlZCJd.jpeg                  0.0   \n",
       "044875HB.jpeg                                                   1.0   \n",
       "acne-face-2--WatermarkedWyJXYXRlcm1hcmtlZCJd.jpeg               0.0   \n",
       "319--WatermarkedWyJXYXRlcm1hcmtlZCJd.jpeg                       0.0   \n",
       "seborrhoeic-dermatitis--WatermarkedWyJXYXRlcm1h...              1.0   \n",
       "043173HB.jpeg                                                   0.0   \n",
       "piebald6--WatermarkedWyJXYXRlcm1hcmtlZCJd.jpeg                  1.0   \n",
       "vitiligo-28--WatermarkedWyJXYXRlcm1hcmtlZCJd.jpeg               1.0   \n",
       "515--WatermarkedWyJXYXRlcm1hcmtlZCJd.jpeg                       0.0   \n",
       "wart25--WatermarkedWyJXYXRlcm1hcmtlZCJd.jpeg                    1.0   \n",
       "viral-wart-13--WatermarkedWyJXYXRlcm1hcmtlZCJd....              1.0   \n",
       "wart26--WatermarkedWyJXYXRlcm1hcmtlZCJd.jpeg                    1.0   \n",
       "facial-psoriasis21--WatermarkedWyJXYXRlcm1hcmtl...              1.0   \n",
       "3729--WatermarkedWyJXYXRlcm1hcmtlZCJd.jpeg                      0.0   \n",
       "acne-face-1-1--WatermarkedWyJXYXRlcm1hcmtlZCJd....              0.0   \n",
       "vitiligo-40--WatermarkedWyJXYXRlcm1hcmtlZCJd.jpeg               1.0   \n",
       "viral-wart-04--WatermarkedWyJXYXRlcm1hcmtlZCJd....              1.0   \n",
       "044570HB.jpeg                                                   1.0   \n",
       "044567HB.jpeg                                                   1.0   \n",
       "10070-Picture1.jpeg                                             1.0   \n",
       "2779--WatermarkedWyJXYXRlcm1hcmtlZCJd.jpeg                      1.0   \n",
       "vitiligo-12--WatermarkedWyJXYXRlcm1hcmtlZCJd.jpeg               1.0   \n",
       "\n",
       "                                                    predicted_Scar  \\\n",
       "filename                                                             \n",
       "viral-wart-15--WatermarkedWyJXYXRlcm1hcmtlZCJd....             1.0   \n",
       "10556-P7070060.jpeg                                            1.0   \n",
       "043052HB.jpeg                                                  0.0   \n",
       "halo5--WatermarkedWyJXYXRlcm1hcmtlZCJd.jpeg                    1.0   \n",
       "vitiligo-10--WatermarkedWyJXYXRlcm1hcmtlZCJd.jpeg              1.0   \n",
       "facial-psoriasis06--WatermarkedWyJXYXRlcm1hcmtl...             0.0   \n",
       "496--WatermarkedWyJXYXRlcm1hcmtlZCJd.jpeg                      0.0   \n",
       "016139HB.jpeg                                                  0.0   \n",
       "044314HB.jpeg                                                  0.0   \n",
       "piebald3--WatermarkedWyJXYXRlcm1hcmtlZCJd.jpeg                 0.0   \n",
       "vitiligo-51--WatermarkedWyJXYXRlcm1hcmtlZCJd.jpeg              1.0   \n",
       "facial-psoriasis26--WatermarkedWyJXYXRlcm1hcmtl...             0.0   \n",
       "044772HB.jpeg                                                  0.0   \n",
       "steroid-acne-03--WatermarkedWyJXYXRlcm1hcmtlZCJ...             0.0   \n",
       "10564-WARTS.jpeg                                               1.0   \n",
       "acne-face-65--WatermarkedWyJXYXRlcm1hcmtlZCJd.jpeg             0.0   \n",
       "acne-face-56--WatermarkedWyJXYXRlcm1hcmtlZCJd.jpeg             0.0   \n",
       "foll-kel1--WatermarkedWyJXYXRlcm1hcmtlZCJd.jpeg                1.0   \n",
       "043293HB.jpeg                                                  0.0   \n",
       "032439HB.jpeg                                                  0.0   \n",
       "acne-face-1-48--WatermarkedWyJXYXRlcm1hcmtlZCJd...             0.0   \n",
       "043128HB.jpeg                                                  0.0   \n",
       "ppps22--WatermarkedWyJXYXRlcm1hcmtlZCJd.jpeg                   1.0   \n",
       "017875HB.jpeg                                                  0.0   \n",
       "016441HB.jpeg                                                  0.0   \n",
       "042980HB.jpeg                                                  0.0   \n",
       "vitiligo-15--WatermarkedWyJXYXRlcm1hcmtlZCJd.jpeg              1.0   \n",
       "035260HB.jpeg                                                  0.0   \n",
       "017560HB.jpeg                                                  0.0   \n",
       "045142HB.jpeg                                                  0.0   \n",
       "269--WatermarkedWyJXYXRlcm1hcmtlZCJd.jpeg                      0.0   \n",
       "043126HB.jpeg                                                  0.0   \n",
       "acne1--WatermarkedWyJXYXRlcm1hcmtlZCJd.jpeg                    0.0   \n",
       "017322HB.jpeg                                                  0.0   \n",
       "sebderm6--WatermarkedWyJXYXRlcm1hcmtlZCJd.jpeg                 0.0   \n",
       "044875HB.jpeg                                                  0.0   \n",
       "acne-face-2--WatermarkedWyJXYXRlcm1hcmtlZCJd.jpeg              0.0   \n",
       "319--WatermarkedWyJXYXRlcm1hcmtlZCJd.jpeg                      0.0   \n",
       "seborrhoeic-dermatitis--WatermarkedWyJXYXRlcm1h...             1.0   \n",
       "043173HB.jpeg                                                  0.0   \n",
       "piebald6--WatermarkedWyJXYXRlcm1hcmtlZCJd.jpeg                 1.0   \n",
       "vitiligo-28--WatermarkedWyJXYXRlcm1hcmtlZCJd.jpeg              1.0   \n",
       "515--WatermarkedWyJXYXRlcm1hcmtlZCJd.jpeg                      0.0   \n",
       "wart25--WatermarkedWyJXYXRlcm1hcmtlZCJd.jpeg                   1.0   \n",
       "viral-wart-13--WatermarkedWyJXYXRlcm1hcmtlZCJd....             1.0   \n",
       "wart26--WatermarkedWyJXYXRlcm1hcmtlZCJd.jpeg                   1.0   \n",
       "facial-psoriasis21--WatermarkedWyJXYXRlcm1hcmtl...             0.0   \n",
       "3729--WatermarkedWyJXYXRlcm1hcmtlZCJd.jpeg                     0.0   \n",
       "acne-face-1-1--WatermarkedWyJXYXRlcm1hcmtlZCJd....             0.0   \n",
       "vitiligo-40--WatermarkedWyJXYXRlcm1hcmtlZCJd.jpeg              1.0   \n",
       "viral-wart-04--WatermarkedWyJXYXRlcm1hcmtlZCJd....             1.0   \n",
       "044570HB.jpeg                                                  0.0   \n",
       "044567HB.jpeg                                                  1.0   \n",
       "10070-Picture1.jpeg                                            1.0   \n",
       "2779--WatermarkedWyJXYXRlcm1hcmtlZCJd.jpeg                     0.0   \n",
       "vitiligo-12--WatermarkedWyJXYXRlcm1hcmtlZCJd.jpeg              1.0   \n",
       "\n",
       "                                                    predicted_Sun damage  \n",
       "filename                                                                  \n",
       "viral-wart-15--WatermarkedWyJXYXRlcm1hcmtlZCJd....                   0.0  \n",
       "10556-P7070060.jpeg                                                  0.0  \n",
       "043052HB.jpeg                                                        0.0  \n",
       "halo5--WatermarkedWyJXYXRlcm1hcmtlZCJd.jpeg                          1.0  \n",
       "vitiligo-10--WatermarkedWyJXYXRlcm1hcmtlZCJd.jpeg                    1.0  \n",
       "facial-psoriasis06--WatermarkedWyJXYXRlcm1hcmtl...                   0.0  \n",
       "496--WatermarkedWyJXYXRlcm1hcmtlZCJd.jpeg                            1.0  \n",
       "016139HB.jpeg                                                        0.0  \n",
       "044314HB.jpeg                                                        0.0  \n",
       "piebald3--WatermarkedWyJXYXRlcm1hcmtlZCJd.jpeg                       0.0  \n",
       "vitiligo-51--WatermarkedWyJXYXRlcm1hcmtlZCJd.jpeg                    0.0  \n",
       "facial-psoriasis26--WatermarkedWyJXYXRlcm1hcmtl...                   0.0  \n",
       "044772HB.jpeg                                                        0.0  \n",
       "steroid-acne-03--WatermarkedWyJXYXRlcm1hcmtlZCJ...                   1.0  \n",
       "10564-WARTS.jpeg                                                     0.0  \n",
       "acne-face-65--WatermarkedWyJXYXRlcm1hcmtlZCJd.jpeg                   0.0  \n",
       "acne-face-56--WatermarkedWyJXYXRlcm1hcmtlZCJd.jpeg                   0.0  \n",
       "foll-kel1--WatermarkedWyJXYXRlcm1hcmtlZCJd.jpeg                      0.0  \n",
       "043293HB.jpeg                                                        0.0  \n",
       "032439HB.jpeg                                                        0.0  \n",
       "acne-face-1-48--WatermarkedWyJXYXRlcm1hcmtlZCJd...                   0.0  \n",
       "043128HB.jpeg                                                        0.0  \n",
       "ppps22--WatermarkedWyJXYXRlcm1hcmtlZCJd.jpeg                         0.0  \n",
       "017875HB.jpeg                                                        1.0  \n",
       "016441HB.jpeg                                                        1.0  \n",
       "042980HB.jpeg                                                        0.0  \n",
       "vitiligo-15--WatermarkedWyJXYXRlcm1hcmtlZCJd.jpeg                    1.0  \n",
       "035260HB.jpeg                                                        0.0  \n",
       "017560HB.jpeg                                                        0.0  \n",
       "045142HB.jpeg                                                        0.0  \n",
       "269--WatermarkedWyJXYXRlcm1hcmtlZCJd.jpeg                            1.0  \n",
       "043126HB.jpeg                                                        0.0  \n",
       "acne1--WatermarkedWyJXYXRlcm1hcmtlZCJd.jpeg                          0.0  \n",
       "017322HB.jpeg                                                        1.0  \n",
       "sebderm6--WatermarkedWyJXYXRlcm1hcmtlZCJd.jpeg                       0.0  \n",
       "044875HB.jpeg                                                        0.0  \n",
       "acne-face-2--WatermarkedWyJXYXRlcm1hcmtlZCJd.jpeg                    0.0  \n",
       "319--WatermarkedWyJXYXRlcm1hcmtlZCJd.jpeg                            0.0  \n",
       "seborrhoeic-dermatitis--WatermarkedWyJXYXRlcm1h...                   0.0  \n",
       "043173HB.jpeg                                                        0.0  \n",
       "piebald6--WatermarkedWyJXYXRlcm1hcmtlZCJd.jpeg                       0.0  \n",
       "vitiligo-28--WatermarkedWyJXYXRlcm1hcmtlZCJd.jpeg                    1.0  \n",
       "515--WatermarkedWyJXYXRlcm1hcmtlZCJd.jpeg                            1.0  \n",
       "wart25--WatermarkedWyJXYXRlcm1hcmtlZCJd.jpeg                         0.0  \n",
       "viral-wart-13--WatermarkedWyJXYXRlcm1hcmtlZCJd....                   0.0  \n",
       "wart26--WatermarkedWyJXYXRlcm1hcmtlZCJd.jpeg                         0.0  \n",
       "facial-psoriasis21--WatermarkedWyJXYXRlcm1hcmtl...                   0.0  \n",
       "3729--WatermarkedWyJXYXRlcm1hcmtlZCJd.jpeg                           1.0  \n",
       "acne-face-1-1--WatermarkedWyJXYXRlcm1hcmtlZCJd....                   0.0  \n",
       "vitiligo-40--WatermarkedWyJXYXRlcm1hcmtlZCJd.jpeg                    1.0  \n",
       "viral-wart-04--WatermarkedWyJXYXRlcm1hcmtlZCJd....                   0.0  \n",
       "044570HB.jpeg                                                        0.0  \n",
       "044567HB.jpeg                                                        0.0  \n",
       "10070-Picture1.jpeg                                                  0.0  \n",
       "2779--WatermarkedWyJXYXRlcm1hcmtlZCJd.jpeg                           0.0  \n",
       "vitiligo-12--WatermarkedWyJXYXRlcm1hcmtlZCJd.jpeg                    1.0  \n",
       "\n",
       "[56 rows x 22 columns]"
      ]
     },
     "execution_count": 20,
     "metadata": {},
     "output_type": "execute_result"
    }
   ],
   "source": [
    "df = pd.DataFrame.from_dict(validation_dict).set_index('filename')\n",
    "df.to_csv(f'{experiment_fold_dir}/final_model_predictions.csv')\n",
    "df"
   ]
  },
  {
   "cell_type": "code",
   "execution_count": null,
   "metadata": {},
   "outputs": [],
   "source": []
  }
 ],
 "metadata": {
  "kernelspec": {
   "display_name": "pytorch",
   "language": "python",
   "name": "pytorch"
  },
  "language_info": {
   "codemirror_mode": {
    "name": "ipython",
    "version": 3
   },
   "file_extension": ".py",
   "mimetype": "text/x-python",
   "name": "python",
   "nbconvert_exporter": "python",
   "pygments_lexer": "ipython3",
   "version": "3.6.9"
  }
 },
 "nbformat": 4,
 "nbformat_minor": 1
}
