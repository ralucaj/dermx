{
  "cells": [
    {
      "cell_type": "markdown",
      "id": "4078741d",
      "metadata": {
        "id": "4078741d"
      },
      "source": [
        "## Set up\n",
        "Model selection based on https://christophm.github.io/interpretable-ml-book/simple.html and availability in sklearn"
      ]
    },
    {
      "cell_type": "code",
      "execution_count": null,
      "id": "d448a65a",
      "metadata": {
        "id": "d448a65a"
      },
      "outputs": [],
      "source": [
        "import os\n",
        "import pandas as pd\n",
        "from sklearn.metrics import classification_report, accuracy_score, recall_score\n",
        "import numpy as np"
      ]
    },
    {
      "cell_type": "code",
      "execution_count": null,
      "id": "312d7a72",
      "metadata": {
        "collapsed": true,
        "id": "312d7a72",
        "outputId": "db5c086e-2df2-4f7a-cda8-e4581618a26a"
      },
      "outputs": [
        {
          "data": {
            "text/html": [
              "<div>\n",
              "<style scoped>\n",
              "    .dataframe tbody tr th:only-of-type {\n",
              "        vertical-align: middle;\n",
              "    }\n",
              "\n",
              "    .dataframe tbody tr th {\n",
              "        vertical-align: top;\n",
              "    }\n",
              "\n",
              "    .dataframe thead th {\n",
              "        text-align: right;\n",
              "    }\n",
              "</style>\n",
              "<table border=\"1\" class=\"dataframe\">\n",
              "  <thead>\n",
              "    <tr style=\"text-align: right;\">\n",
              "      <th></th>\n",
              "      <th>Closed comedo</th>\n",
              "      <th>Dermatoglyph disruption</th>\n",
              "      <th>Open comedo</th>\n",
              "      <th>Papule</th>\n",
              "      <th>Patch</th>\n",
              "      <th>Plaque</th>\n",
              "      <th>Pustule</th>\n",
              "      <th>Scale</th>\n",
              "      <th>Scar</th>\n",
              "      <th>Sun damage</th>\n",
              "    </tr>\n",
              "    <tr>\n",
              "      <th>image_id</th>\n",
              "      <th></th>\n",
              "      <th></th>\n",
              "      <th></th>\n",
              "      <th></th>\n",
              "      <th></th>\n",
              "      <th></th>\n",
              "      <th></th>\n",
              "      <th></th>\n",
              "      <th></th>\n",
              "      <th></th>\n",
              "    </tr>\n",
              "  </thead>\n",
              "  <tbody>\n",
              "    <tr>\n",
              "      <th>000498HB.jpeg</th>\n",
              "      <td>0</td>\n",
              "      <td>0</td>\n",
              "      <td>0</td>\n",
              "      <td>0</td>\n",
              "      <td>1</td>\n",
              "      <td>0</td>\n",
              "      <td>0</td>\n",
              "      <td>1</td>\n",
              "      <td>0</td>\n",
              "      <td>1</td>\n",
              "    </tr>\n",
              "    <tr>\n",
              "      <th>005102HB.jpeg</th>\n",
              "      <td>0</td>\n",
              "      <td>0</td>\n",
              "      <td>0</td>\n",
              "      <td>1</td>\n",
              "      <td>1</td>\n",
              "      <td>1</td>\n",
              "      <td>0</td>\n",
              "      <td>1</td>\n",
              "      <td>0</td>\n",
              "      <td>1</td>\n",
              "    </tr>\n",
              "    <tr>\n",
              "      <th>009001HB.jpeg</th>\n",
              "      <td>0</td>\n",
              "      <td>0</td>\n",
              "      <td>0</td>\n",
              "      <td>1</td>\n",
              "      <td>0</td>\n",
              "      <td>0</td>\n",
              "      <td>1</td>\n",
              "      <td>0</td>\n",
              "      <td>0</td>\n",
              "      <td>0</td>\n",
              "    </tr>\n",
              "    <tr>\n",
              "      <th>016003HB.jpeg</th>\n",
              "      <td>0</td>\n",
              "      <td>0</td>\n",
              "      <td>0</td>\n",
              "      <td>1</td>\n",
              "      <td>1</td>\n",
              "      <td>1</td>\n",
              "      <td>0</td>\n",
              "      <td>1</td>\n",
              "      <td>0</td>\n",
              "      <td>0</td>\n",
              "    </tr>\n",
              "    <tr>\n",
              "      <th>016013HB.jpeg</th>\n",
              "      <td>0</td>\n",
              "      <td>0</td>\n",
              "      <td>0</td>\n",
              "      <td>1</td>\n",
              "      <td>1</td>\n",
              "      <td>1</td>\n",
              "      <td>0</td>\n",
              "      <td>1</td>\n",
              "      <td>0</td>\n",
              "      <td>1</td>\n",
              "    </tr>\n",
              "    <tr>\n",
              "      <th>...</th>\n",
              "      <td>...</td>\n",
              "      <td>...</td>\n",
              "      <td>...</td>\n",
              "      <td>...</td>\n",
              "      <td>...</td>\n",
              "      <td>...</td>\n",
              "      <td>...</td>\n",
              "      <td>...</td>\n",
              "      <td>...</td>\n",
              "      <td>...</td>\n",
              "    </tr>\n",
              "    <tr>\n",
              "      <th>wart4--WatermarkedWyJXYXRlcm1hcmtlZCJd.jpeg</th>\n",
              "      <td>0</td>\n",
              "      <td>0</td>\n",
              "      <td>0</td>\n",
              "      <td>1</td>\n",
              "      <td>0</td>\n",
              "      <td>1</td>\n",
              "      <td>0</td>\n",
              "      <td>0</td>\n",
              "      <td>0</td>\n",
              "      <td>0</td>\n",
              "    </tr>\n",
              "    <tr>\n",
              "      <th>wart5--WatermarkedWyJXYXRlcm1hcmtlZCJd.jpeg</th>\n",
              "      <td>0</td>\n",
              "      <td>1</td>\n",
              "      <td>0</td>\n",
              "      <td>1</td>\n",
              "      <td>0</td>\n",
              "      <td>1</td>\n",
              "      <td>0</td>\n",
              "      <td>0</td>\n",
              "      <td>0</td>\n",
              "      <td>0</td>\n",
              "    </tr>\n",
              "    <tr>\n",
              "      <th>wart6--WatermarkedWyJXYXRlcm1hcmtlZCJd.jpeg</th>\n",
              "      <td>0</td>\n",
              "      <td>1</td>\n",
              "      <td>0</td>\n",
              "      <td>1</td>\n",
              "      <td>0</td>\n",
              "      <td>1</td>\n",
              "      <td>0</td>\n",
              "      <td>0</td>\n",
              "      <td>0</td>\n",
              "      <td>0</td>\n",
              "    </tr>\n",
              "    <tr>\n",
              "      <th>wart7--WatermarkedWyJXYXRlcm1hcmtlZCJd.jpeg</th>\n",
              "      <td>0</td>\n",
              "      <td>1</td>\n",
              "      <td>0</td>\n",
              "      <td>1</td>\n",
              "      <td>0</td>\n",
              "      <td>1</td>\n",
              "      <td>0</td>\n",
              "      <td>0</td>\n",
              "      <td>0</td>\n",
              "      <td>0</td>\n",
              "    </tr>\n",
              "    <tr>\n",
              "      <th>wart9--WatermarkedWyJXYXRlcm1hcmtlZCJd.jpeg</th>\n",
              "      <td>0</td>\n",
              "      <td>1</td>\n",
              "      <td>0</td>\n",
              "      <td>1</td>\n",
              "      <td>0</td>\n",
              "      <td>1</td>\n",
              "      <td>0</td>\n",
              "      <td>1</td>\n",
              "      <td>0</td>\n",
              "      <td>0</td>\n",
              "    </tr>\n",
              "  </tbody>\n",
              "</table>\n",
              "<p>554 rows × 10 columns</p>\n",
              "</div>"
            ],
            "text/plain": [
              "                                             Closed comedo  \\\n",
              "image_id                                                     \n",
              "000498HB.jpeg                                            0   \n",
              "005102HB.jpeg                                            0   \n",
              "009001HB.jpeg                                            0   \n",
              "016003HB.jpeg                                            0   \n",
              "016013HB.jpeg                                            0   \n",
              "...                                                    ...   \n",
              "wart4--WatermarkedWyJXYXRlcm1hcmtlZCJd.jpeg              0   \n",
              "wart5--WatermarkedWyJXYXRlcm1hcmtlZCJd.jpeg              0   \n",
              "wart6--WatermarkedWyJXYXRlcm1hcmtlZCJd.jpeg              0   \n",
              "wart7--WatermarkedWyJXYXRlcm1hcmtlZCJd.jpeg              0   \n",
              "wart9--WatermarkedWyJXYXRlcm1hcmtlZCJd.jpeg              0   \n",
              "\n",
              "                                             Dermatoglyph disruption  \\\n",
              "image_id                                                               \n",
              "000498HB.jpeg                                                      0   \n",
              "005102HB.jpeg                                                      0   \n",
              "009001HB.jpeg                                                      0   \n",
              "016003HB.jpeg                                                      0   \n",
              "016013HB.jpeg                                                      0   \n",
              "...                                                              ...   \n",
              "wart4--WatermarkedWyJXYXRlcm1hcmtlZCJd.jpeg                        0   \n",
              "wart5--WatermarkedWyJXYXRlcm1hcmtlZCJd.jpeg                        1   \n",
              "wart6--WatermarkedWyJXYXRlcm1hcmtlZCJd.jpeg                        1   \n",
              "wart7--WatermarkedWyJXYXRlcm1hcmtlZCJd.jpeg                        1   \n",
              "wart9--WatermarkedWyJXYXRlcm1hcmtlZCJd.jpeg                        1   \n",
              "\n",
              "                                             Open comedo  Papule  Patch  \\\n",
              "image_id                                                                  \n",
              "000498HB.jpeg                                          0       0      1   \n",
              "005102HB.jpeg                                          0       1      1   \n",
              "009001HB.jpeg                                          0       1      0   \n",
              "016003HB.jpeg                                          0       1      1   \n",
              "016013HB.jpeg                                          0       1      1   \n",
              "...                                                  ...     ...    ...   \n",
              "wart4--WatermarkedWyJXYXRlcm1hcmtlZCJd.jpeg            0       1      0   \n",
              "wart5--WatermarkedWyJXYXRlcm1hcmtlZCJd.jpeg            0       1      0   \n",
              "wart6--WatermarkedWyJXYXRlcm1hcmtlZCJd.jpeg            0       1      0   \n",
              "wart7--WatermarkedWyJXYXRlcm1hcmtlZCJd.jpeg            0       1      0   \n",
              "wart9--WatermarkedWyJXYXRlcm1hcmtlZCJd.jpeg            0       1      0   \n",
              "\n",
              "                                             Plaque  Pustule  Scale  Scar  \\\n",
              "image_id                                                                    \n",
              "000498HB.jpeg                                     0        0      1     0   \n",
              "005102HB.jpeg                                     1        0      1     0   \n",
              "009001HB.jpeg                                     0        1      0     0   \n",
              "016003HB.jpeg                                     1        0      1     0   \n",
              "016013HB.jpeg                                     1        0      1     0   \n",
              "...                                             ...      ...    ...   ...   \n",
              "wart4--WatermarkedWyJXYXRlcm1hcmtlZCJd.jpeg       1        0      0     0   \n",
              "wart5--WatermarkedWyJXYXRlcm1hcmtlZCJd.jpeg       1        0      0     0   \n",
              "wart6--WatermarkedWyJXYXRlcm1hcmtlZCJd.jpeg       1        0      0     0   \n",
              "wart7--WatermarkedWyJXYXRlcm1hcmtlZCJd.jpeg       1        0      0     0   \n",
              "wart9--WatermarkedWyJXYXRlcm1hcmtlZCJd.jpeg       1        0      1     0   \n",
              "\n",
              "                                             Sun damage  \n",
              "image_id                                                 \n",
              "000498HB.jpeg                                         1  \n",
              "005102HB.jpeg                                         1  \n",
              "009001HB.jpeg                                         0  \n",
              "016003HB.jpeg                                         0  \n",
              "016013HB.jpeg                                         1  \n",
              "...                                                 ...  \n",
              "wart4--WatermarkedWyJXYXRlcm1hcmtlZCJd.jpeg           0  \n",
              "wart5--WatermarkedWyJXYXRlcm1hcmtlZCJd.jpeg           0  \n",
              "wart6--WatermarkedWyJXYXRlcm1hcmtlZCJd.jpeg           0  \n",
              "wart7--WatermarkedWyJXYXRlcm1hcmtlZCJd.jpeg           0  \n",
              "wart9--WatermarkedWyJXYXRlcm1hcmtlZCJd.jpeg           0  \n",
              "\n",
              "[554 rows x 10 columns]"
            ]
          },
          "execution_count": 2,
          "metadata": {},
          "output_type": "execute_result"
        }
      ],
      "source": [
        "# Build full cx df\n",
        "columns = ['Closed comedo', 'Dermatoglyph disruption', 'Open comedo', 'Papule', 'Patch', 'Plaque', 'Pustule', 'Scale', 'Scar', 'Sun damage']\n",
        "cx_pairs = []\n",
        "for mask in os.listdir(\"/home/ubuntu/store/dermx_cleaned_masks/fusion_masks\"):\n",
        "    _, _, image_id, cx = mask.split('.')[0].split('_')\n",
        "    cx_pairs.append((image_id + '.jpeg', cx))\n",
        "    \n",
        "image_ids, cxs = zip(*cx_pairs)\n",
        "cx_df = pd.Series(cxs, image_ids)\n",
        "cx_df.index.name = 'image_id'\n",
        "cx_df = pd.get_dummies(cx_df).groupby(by='image_id').max()[columns]\n",
        "cx_df"
      ]
    },
    {
      "cell_type": "markdown",
      "id": "45ab8f01",
      "metadata": {
        "id": "45ab8f01"
      },
      "source": [
        "## Logistic regression"
      ]
    },
    {
      "cell_type": "code",
      "execution_count": null,
      "id": "58aa2cf4",
      "metadata": {
        "id": "58aa2cf4"
      },
      "outputs": [],
      "source": [
        "from sklearn.linear_model import LogisticRegression"
      ]
    },
    {
      "cell_type": "code",
      "execution_count": null,
      "id": "57dae4ec",
      "metadata": {
        "collapsed": true,
        "id": "57dae4ec",
        "outputId": "a63e8f4a-6c2b-4bf4-8b41-8c957174ee8d"
      },
      "outputs": [
        {
          "name": "stderr",
          "output_type": "stream",
          "text": [
            "/home/ubuntu/venv/pytorch/lib/python3.6/site-packages/sklearn/metrics/_classification.py:1301: UserWarning: Note that pos_label (set to 0) is ignored when average != 'binary' (got 'macro'). You may use labels=[pos_label] to specify a single positive class.\n",
            "  % (pos_label, average), UserWarning)\n",
            "/home/ubuntu/venv/pytorch/lib/python3.6/site-packages/sklearn/metrics/_classification.py:1301: UserWarning: Note that pos_label (set to 0) is ignored when average != 'binary' (got 'macro'). You may use labels=[pos_label] to specify a single positive class.\n",
            "  % (pos_label, average), UserWarning)\n",
            "/home/ubuntu/venv/pytorch/lib/python3.6/site-packages/sklearn/metrics/_classification.py:1301: UserWarning: Note that pos_label (set to 0) is ignored when average != 'binary' (got 'macro'). You may use labels=[pos_label] to specify a single positive class.\n",
            "  % (pos_label, average), UserWarning)\n",
            "/home/ubuntu/venv/pytorch/lib/python3.6/site-packages/sklearn/metrics/_classification.py:1301: UserWarning: Note that pos_label (set to 0) is ignored when average != 'binary' (got 'macro'). You may use labels=[pos_label] to specify a single positive class.\n",
            "  % (pos_label, average), UserWarning)\n",
            "/home/ubuntu/venv/pytorch/lib/python3.6/site-packages/sklearn/metrics/_classification.py:1301: UserWarning: Note that pos_label (set to 0) is ignored when average != 'binary' (got 'macro'). You may use labels=[pos_label] to specify a single positive class.\n",
            "  % (pos_label, average), UserWarning)\n",
            "/home/ubuntu/venv/pytorch/lib/python3.6/site-packages/sklearn/metrics/_classification.py:1301: UserWarning: Note that pos_label (set to 0) is ignored when average != 'binary' (got 'macro'). You may use labels=[pos_label] to specify a single positive class.\n",
            "  % (pos_label, average), UserWarning)\n",
            "/home/ubuntu/venv/pytorch/lib/python3.6/site-packages/sklearn/metrics/_classification.py:1301: UserWarning: Note that pos_label (set to 0) is ignored when average != 'binary' (got 'macro'). You may use labels=[pos_label] to specify a single positive class.\n",
            "  % (pos_label, average), UserWarning)\n",
            "/home/ubuntu/venv/pytorch/lib/python3.6/site-packages/sklearn/metrics/_classification.py:1301: UserWarning: Note that pos_label (set to 0) is ignored when average != 'binary' (got 'macro'). You may use labels=[pos_label] to specify a single positive class.\n",
            "  % (pos_label, average), UserWarning)\n",
            "/home/ubuntu/venv/pytorch/lib/python3.6/site-packages/sklearn/metrics/_classification.py:1301: UserWarning: Note that pos_label (set to 0) is ignored when average != 'binary' (got 'macro'). You may use labels=[pos_label] to specify a single positive class.\n",
            "  % (pos_label, average), UserWarning)\n",
            "/home/ubuntu/venv/pytorch/lib/python3.6/site-packages/sklearn/metrics/_classification.py:1301: UserWarning: Note that pos_label (set to 0) is ignored when average != 'binary' (got 'macro'). You may use labels=[pos_label] to specify a single positive class.\n",
            "  % (pos_label, average), UserWarning)\n"
          ]
        }
      ],
      "source": [
        "fold_recalls = []\n",
        "fold_f1s = []\n",
        "fold_accuracies = []\n",
        "fold_specificities = []\n",
        "\n",
        "for fold_idx in range(10):\n",
        "    clf = LogisticRegression()\n",
        "    train_df = pd.read_csv(f'/home/ubuntu/store/dermx-folds/fold_{fold_idx}/metadata_fold_{fold_idx}_train.csv')\n",
        "    test_df = pd.read_csv(f'/home/ubuntu/store/dermx-folds/fold_{fold_idx}/metadata_fold_{fold_idx}_test.csv')\n",
        "    \n",
        "    x_train = cx_df.loc[train_df['current_filename']]\n",
        "    y_train = train_df['diagnosis']\n",
        "    x_test = cx_df.loc[test_df['current_filename']]\n",
        "    y_test = test_df['diagnosis']\n",
        "    clf.fit(x_train, y_train)\n",
        "    y_hat_test = clf.predict(x_test)\n",
        "    \n",
        "    report = classification_report(y_test, y_hat_test, output_dict=True)\n",
        "    fold_recalls.append(report['macro avg']['recall'])\n",
        "    fold_f1s.append(report['macro avg']['f1-score'])\n",
        "    fold_accuracies.append(accuracy_score(y_test, y_hat_test))\n",
        "    fold_specificities.append(recall_score(y_test, y_hat_test, pos_label=0, average='macro'))"
      ]
    },
    {
      "cell_type": "code",
      "execution_count": null,
      "id": "f73086ed",
      "metadata": {
        "id": "f73086ed",
        "outputId": "879dca1b-b4df-4270-cb2f-90f8841fa5e0"
      },
      "outputs": [
        {
          "name": "stdout",
          "output_type": "stream",
          "text": [
            "0.87 \\pm 0.04\n"
          ]
        }
      ],
      "source": [
        "print(f'{np.round(np.array(fold_recalls).mean(), 2)} \\pm {np.round(np.array(fold_recalls).std(), 2)}')"
      ]
    },
    {
      "cell_type": "code",
      "execution_count": null,
      "id": "451b1f2b",
      "metadata": {
        "id": "451b1f2b",
        "outputId": "09b9f8f8-a4e0-40e7-993a-94692a590755"
      },
      "outputs": [
        {
          "name": "stdout",
          "output_type": "stream",
          "text": [
            "0.86 \\pm 0.04\n"
          ]
        }
      ],
      "source": [
        "print(f'{np.round(np.array(fold_f1s).mean(), 2)} \\pm {np.round(np.array(fold_f1s).std(), 2)}')"
      ]
    },
    {
      "cell_type": "code",
      "execution_count": null,
      "id": "7c6c6f8e",
      "metadata": {
        "id": "7c6c6f8e",
        "outputId": "66f9298b-9c7e-4469-e7cb-6b013051dd9a"
      },
      "outputs": [
        {
          "name": "stdout",
          "output_type": "stream",
          "text": [
            "0.87 \\pm 0.04\n"
          ]
        }
      ],
      "source": [
        "print(f'{np.round(np.array(fold_specificities).mean(), 2)} \\pm {np.round(np.array(fold_specificities).std(), 2)}')"
      ]
    },
    {
      "cell_type": "code",
      "execution_count": null,
      "id": "7f2875c5",
      "metadata": {
        "id": "7f2875c5",
        "outputId": "a893517b-ebde-4619-a0e9-abfb7d2a3492"
      },
      "outputs": [
        {
          "name": "stdout",
          "output_type": "stream",
          "text": [
            "0.86 \\pm 0.04\n"
          ]
        }
      ],
      "source": [
        "print(f'{np.round(np.array(fold_accuracies).mean(), 2)} \\pm {np.round(np.array(fold_accuracies).std(), 2)}')"
      ]
    },
    {
      "cell_type": "markdown",
      "id": "246058a0",
      "metadata": {
        "id": "246058a0"
      },
      "source": [
        "## Decision tree"
      ]
    },
    {
      "cell_type": "code",
      "execution_count": null,
      "id": "d7e8a9a5",
      "metadata": {
        "id": "d7e8a9a5"
      },
      "outputs": [],
      "source": [
        "from sklearn.tree import DecisionTreeClassifier"
      ]
    },
    {
      "cell_type": "code",
      "execution_count": null,
      "id": "f038437d",
      "metadata": {
        "collapsed": true,
        "id": "f038437d",
        "outputId": "de11cb17-0df0-4f65-ed17-d5e250579b34"
      },
      "outputs": [
        {
          "name": "stderr",
          "output_type": "stream",
          "text": [
            "/home/ubuntu/venv/pytorch/lib/python3.6/site-packages/sklearn/metrics/_classification.py:1248: UndefinedMetricWarning: Precision and F-score are ill-defined and being set to 0.0 in samples with no predicted labels. Use `zero_division` parameter to control this behavior.\n",
            "  _warn_prf(average, modifier, msg_start, len(result))\n",
            "/home/ubuntu/venv/pytorch/lib/python3.6/site-packages/sklearn/metrics/_classification.py:1301: UserWarning: Note that pos_label (set to 0) is ignored when average != 'binary' (got 'macro'). You may use labels=[pos_label] to specify a single positive class.\n",
            "  % (pos_label, average), UserWarning)\n",
            "/home/ubuntu/venv/pytorch/lib/python3.6/site-packages/sklearn/metrics/_classification.py:1248: UndefinedMetricWarning: Precision and F-score are ill-defined and being set to 0.0 in samples with no predicted labels. Use `zero_division` parameter to control this behavior.\n",
            "  _warn_prf(average, modifier, msg_start, len(result))\n",
            "/home/ubuntu/venv/pytorch/lib/python3.6/site-packages/sklearn/metrics/_classification.py:1301: UserWarning: Note that pos_label (set to 0) is ignored when average != 'binary' (got 'macro'). You may use labels=[pos_label] to specify a single positive class.\n",
            "  % (pos_label, average), UserWarning)\n",
            "/home/ubuntu/venv/pytorch/lib/python3.6/site-packages/sklearn/metrics/_classification.py:1301: UserWarning: Note that pos_label (set to 0) is ignored when average != 'binary' (got 'macro'). You may use labels=[pos_label] to specify a single positive class.\n",
            "  % (pos_label, average), UserWarning)\n",
            "/home/ubuntu/venv/pytorch/lib/python3.6/site-packages/sklearn/metrics/_classification.py:1248: UndefinedMetricWarning: Precision and F-score are ill-defined and being set to 0.0 in samples with no predicted labels. Use `zero_division` parameter to control this behavior.\n",
            "  _warn_prf(average, modifier, msg_start, len(result))\n",
            "/home/ubuntu/venv/pytorch/lib/python3.6/site-packages/sklearn/metrics/_classification.py:1301: UserWarning: Note that pos_label (set to 0) is ignored when average != 'binary' (got 'macro'). You may use labels=[pos_label] to specify a single positive class.\n",
            "  % (pos_label, average), UserWarning)\n",
            "/home/ubuntu/venv/pytorch/lib/python3.6/site-packages/sklearn/metrics/_classification.py:1248: UndefinedMetricWarning: Precision and F-score are ill-defined and being set to 0.0 in samples with no predicted labels. Use `zero_division` parameter to control this behavior.\n",
            "  _warn_prf(average, modifier, msg_start, len(result))\n",
            "/home/ubuntu/venv/pytorch/lib/python3.6/site-packages/sklearn/metrics/_classification.py:1301: UserWarning: Note that pos_label (set to 0) is ignored when average != 'binary' (got 'macro'). You may use labels=[pos_label] to specify a single positive class.\n",
            "  % (pos_label, average), UserWarning)\n",
            "/home/ubuntu/venv/pytorch/lib/python3.6/site-packages/sklearn/metrics/_classification.py:1248: UndefinedMetricWarning: Precision and F-score are ill-defined and being set to 0.0 in samples with no predicted labels. Use `zero_division` parameter to control this behavior.\n",
            "  _warn_prf(average, modifier, msg_start, len(result))\n",
            "/home/ubuntu/venv/pytorch/lib/python3.6/site-packages/sklearn/metrics/_classification.py:1301: UserWarning: Note that pos_label (set to 0) is ignored when average != 'binary' (got 'macro'). You may use labels=[pos_label] to specify a single positive class.\n",
            "  % (pos_label, average), UserWarning)\n",
            "/home/ubuntu/venv/pytorch/lib/python3.6/site-packages/sklearn/metrics/_classification.py:1248: UndefinedMetricWarning: Precision and F-score are ill-defined and being set to 0.0 in samples with no predicted labels. Use `zero_division` parameter to control this behavior.\n",
            "  _warn_prf(average, modifier, msg_start, len(result))\n",
            "/home/ubuntu/venv/pytorch/lib/python3.6/site-packages/sklearn/metrics/_classification.py:1301: UserWarning: Note that pos_label (set to 0) is ignored when average != 'binary' (got 'macro'). You may use labels=[pos_label] to specify a single positive class.\n",
            "  % (pos_label, average), UserWarning)\n",
            "/home/ubuntu/venv/pytorch/lib/python3.6/site-packages/sklearn/metrics/_classification.py:1248: UndefinedMetricWarning: Precision and F-score are ill-defined and being set to 0.0 in samples with no predicted labels. Use `zero_division` parameter to control this behavior.\n",
            "  _warn_prf(average, modifier, msg_start, len(result))\n",
            "/home/ubuntu/venv/pytorch/lib/python3.6/site-packages/sklearn/metrics/_classification.py:1301: UserWarning: Note that pos_label (set to 0) is ignored when average != 'binary' (got 'macro'). You may use labels=[pos_label] to specify a single positive class.\n",
            "  % (pos_label, average), UserWarning)\n",
            "/home/ubuntu/venv/pytorch/lib/python3.6/site-packages/sklearn/metrics/_classification.py:1248: UndefinedMetricWarning: Precision and F-score are ill-defined and being set to 0.0 in samples with no predicted labels. Use `zero_division` parameter to control this behavior.\n",
            "  _warn_prf(average, modifier, msg_start, len(result))\n",
            "/home/ubuntu/venv/pytorch/lib/python3.6/site-packages/sklearn/metrics/_classification.py:1301: UserWarning: Note that pos_label (set to 0) is ignored when average != 'binary' (got 'macro'). You may use labels=[pos_label] to specify a single positive class.\n",
            "  % (pos_label, average), UserWarning)\n",
            "/home/ubuntu/venv/pytorch/lib/python3.6/site-packages/sklearn/metrics/_classification.py:1248: UndefinedMetricWarning: Precision and F-score are ill-defined and being set to 0.0 in samples with no predicted labels. Use `zero_division` parameter to control this behavior.\n",
            "  _warn_prf(average, modifier, msg_start, len(result))\n",
            "/home/ubuntu/venv/pytorch/lib/python3.6/site-packages/sklearn/metrics/_classification.py:1301: UserWarning: Note that pos_label (set to 0) is ignored when average != 'binary' (got 'macro'). You may use labels=[pos_label] to specify a single positive class.\n",
            "  % (pos_label, average), UserWarning)\n"
          ]
        }
      ],
      "source": [
        "fold_recalls = []\n",
        "fold_f1s = []\n",
        "fold_accuracies = []\n",
        "fold_specificities = []\n",
        "\n",
        "for fold_idx in range(10):\n",
        "    clf = DecisionTreeClassifier()\n",
        "    train_df = pd.read_csv(f'/home/ubuntu/store/dermx-folds/fold_{fold_idx}/metadata_fold_{fold_idx}_train.csv')\n",
        "    test_df = pd.read_csv(f'/home/ubuntu/store/dermx-folds/fold_{fold_idx}/metadata_fold_{fold_idx}_test.csv')\n",
        "    \n",
        "    x_train = cx_df.loc[train_df['current_filename']]\n",
        "    y_train = pd.get_dummies(train_df['diagnosis'])\n",
        "    x_test = cx_df.loc[test_df['current_filename']]\n",
        "    y_test = pd.get_dummies(test_df['diagnosis'])\n",
        "    clf.fit(x_train, y_train)\n",
        "    y_hat_test = clf.predict(x_test)\n",
        "    \n",
        "    report = classification_report(y_test, y_hat_test, output_dict=True)\n",
        "    fold_recalls.append(report['macro avg']['recall'])\n",
        "    fold_f1s.append(report['macro avg']['f1-score'])\n",
        "    fold_accuracies.append(accuracy_score(y_test, y_hat_test))\n",
        "    fold_specificities.append(recall_score(y_test, y_hat_test, pos_label=0, average='macro'))"
      ]
    },
    {
      "cell_type": "code",
      "execution_count": null,
      "id": "5e224e29",
      "metadata": {
        "scrolled": true,
        "id": "5e224e29",
        "outputId": "966fe6f3-467a-4cde-ed09-43d0d495d7fb"
      },
      "outputs": [
        {
          "name": "stdout",
          "output_type": "stream",
          "text": [
            "0.84 \\pm 0.05\n"
          ]
        }
      ],
      "source": [
        "print(f'{np.round(np.array(fold_recalls).mean(), 2)} \\pm {np.round(np.array(fold_recalls).std(), 2)}')"
      ]
    },
    {
      "cell_type": "code",
      "execution_count": null,
      "id": "29e39f19",
      "metadata": {
        "id": "29e39f19",
        "outputId": "6e2be73b-8e6b-4f6c-e94d-e8b8e62094c9"
      },
      "outputs": [
        {
          "name": "stdout",
          "output_type": "stream",
          "text": [
            "0.85 \\pm 0.05\n"
          ]
        }
      ],
      "source": [
        "print(f'{np.round(np.array(fold_f1s).mean(), 2)} \\pm {np.round(np.array(fold_f1s).std(), 2)}')"
      ]
    },
    {
      "cell_type": "code",
      "execution_count": null,
      "id": "1a8de03a",
      "metadata": {
        "id": "1a8de03a",
        "outputId": "dde8f0aa-d6d9-441f-d549-5a189cafbd22"
      },
      "outputs": [
        {
          "name": "stdout",
          "output_type": "stream",
          "text": [
            "0.84 \\pm 0.05\n"
          ]
        }
      ],
      "source": [
        "print(f'{np.round(np.array(fold_specificities).mean(), 2)} \\pm {np.round(np.array(fold_specificities).std(), 2)}')"
      ]
    },
    {
      "cell_type": "code",
      "execution_count": null,
      "id": "df24622e",
      "metadata": {
        "id": "df24622e",
        "outputId": "91b769f9-2032-4946-f062-7c59ab6beb61"
      },
      "outputs": [
        {
          "name": "stdout",
          "output_type": "stream",
          "text": [
            "0.84 \\pm 0.05\n"
          ]
        }
      ],
      "source": [
        "print(f'{np.round(np.array(fold_accuracies).mean(), 2)} \\pm {np.round(np.array(fold_accuracies).std(), 2)}')"
      ]
    },
    {
      "cell_type": "markdown",
      "id": "98c92985",
      "metadata": {
        "id": "98c92985"
      },
      "source": [
        "## kNN"
      ]
    },
    {
      "cell_type": "code",
      "execution_count": null,
      "id": "0d63219e",
      "metadata": {
        "id": "0d63219e"
      },
      "outputs": [],
      "source": [
        "from sklearn.neighbors import KNeighborsClassifier"
      ]
    },
    {
      "cell_type": "code",
      "execution_count": null,
      "id": "7e6c580a",
      "metadata": {
        "collapsed": true,
        "id": "7e6c580a",
        "outputId": "3cb0b2ae-1eaa-43a7-aafa-dc52eddd0a44"
      },
      "outputs": [
        {
          "name": "stderr",
          "output_type": "stream",
          "text": [
            "/home/ubuntu/venv/pytorch/lib/python3.6/site-packages/sklearn/metrics/_classification.py:1248: UndefinedMetricWarning: Precision and F-score are ill-defined and being set to 0.0 in samples with no predicted labels. Use `zero_division` parameter to control this behavior.\n",
            "  _warn_prf(average, modifier, msg_start, len(result))\n",
            "/home/ubuntu/venv/pytorch/lib/python3.6/site-packages/sklearn/metrics/_classification.py:1301: UserWarning: Note that pos_label (set to 0) is ignored when average != 'binary' (got 'macro'). You may use labels=[pos_label] to specify a single positive class.\n",
            "  % (pos_label, average), UserWarning)\n",
            "/home/ubuntu/venv/pytorch/lib/python3.6/site-packages/sklearn/metrics/_classification.py:1301: UserWarning: Note that pos_label (set to 0) is ignored when average != 'binary' (got 'macro'). You may use labels=[pos_label] to specify a single positive class.\n",
            "  % (pos_label, average), UserWarning)\n",
            "/home/ubuntu/venv/pytorch/lib/python3.6/site-packages/sklearn/metrics/_classification.py:1248: UndefinedMetricWarning: Precision and F-score are ill-defined and being set to 0.0 in samples with no predicted labels. Use `zero_division` parameter to control this behavior.\n",
            "  _warn_prf(average, modifier, msg_start, len(result))\n",
            "/home/ubuntu/venv/pytorch/lib/python3.6/site-packages/sklearn/metrics/_classification.py:1301: UserWarning: Note that pos_label (set to 0) is ignored when average != 'binary' (got 'macro'). You may use labels=[pos_label] to specify a single positive class.\n",
            "  % (pos_label, average), UserWarning)\n",
            "/home/ubuntu/venv/pytorch/lib/python3.6/site-packages/sklearn/metrics/_classification.py:1248: UndefinedMetricWarning: Precision and F-score are ill-defined and being set to 0.0 in samples with no predicted labels. Use `zero_division` parameter to control this behavior.\n",
            "  _warn_prf(average, modifier, msg_start, len(result))\n",
            "/home/ubuntu/venv/pytorch/lib/python3.6/site-packages/sklearn/metrics/_classification.py:1301: UserWarning: Note that pos_label (set to 0) is ignored when average != 'binary' (got 'macro'). You may use labels=[pos_label] to specify a single positive class.\n",
            "  % (pos_label, average), UserWarning)\n",
            "/home/ubuntu/venv/pytorch/lib/python3.6/site-packages/sklearn/metrics/_classification.py:1248: UndefinedMetricWarning: Precision and F-score are ill-defined and being set to 0.0 in samples with no predicted labels. Use `zero_division` parameter to control this behavior.\n",
            "  _warn_prf(average, modifier, msg_start, len(result))\n",
            "/home/ubuntu/venv/pytorch/lib/python3.6/site-packages/sklearn/metrics/_classification.py:1301: UserWarning: Note that pos_label (set to 0) is ignored when average != 'binary' (got 'macro'). You may use labels=[pos_label] to specify a single positive class.\n",
            "  % (pos_label, average), UserWarning)\n",
            "/home/ubuntu/venv/pytorch/lib/python3.6/site-packages/sklearn/metrics/_classification.py:1248: UndefinedMetricWarning: Precision and F-score are ill-defined and being set to 0.0 in samples with no predicted labels. Use `zero_division` parameter to control this behavior.\n",
            "  _warn_prf(average, modifier, msg_start, len(result))\n",
            "/home/ubuntu/venv/pytorch/lib/python3.6/site-packages/sklearn/metrics/_classification.py:1301: UserWarning: Note that pos_label (set to 0) is ignored when average != 'binary' (got 'macro'). You may use labels=[pos_label] to specify a single positive class.\n",
            "  % (pos_label, average), UserWarning)\n",
            "/home/ubuntu/venv/pytorch/lib/python3.6/site-packages/sklearn/metrics/_classification.py:1248: UndefinedMetricWarning: Precision and F-score are ill-defined and being set to 0.0 in samples with no predicted labels. Use `zero_division` parameter to control this behavior.\n",
            "  _warn_prf(average, modifier, msg_start, len(result))\n",
            "/home/ubuntu/venv/pytorch/lib/python3.6/site-packages/sklearn/metrics/_classification.py:1301: UserWarning: Note that pos_label (set to 0) is ignored when average != 'binary' (got 'macro'). You may use labels=[pos_label] to specify a single positive class.\n",
            "  % (pos_label, average), UserWarning)\n",
            "/home/ubuntu/venv/pytorch/lib/python3.6/site-packages/sklearn/metrics/_classification.py:1301: UserWarning: Note that pos_label (set to 0) is ignored when average != 'binary' (got 'macro'). You may use labels=[pos_label] to specify a single positive class.\n",
            "  % (pos_label, average), UserWarning)\n",
            "/home/ubuntu/venv/pytorch/lib/python3.6/site-packages/sklearn/metrics/_classification.py:1301: UserWarning: Note that pos_label (set to 0) is ignored when average != 'binary' (got 'macro'). You may use labels=[pos_label] to specify a single positive class.\n",
            "  % (pos_label, average), UserWarning)\n",
            "/home/ubuntu/venv/pytorch/lib/python3.6/site-packages/sklearn/metrics/_classification.py:1248: UndefinedMetricWarning: Precision and F-score are ill-defined and being set to 0.0 in samples with no predicted labels. Use `zero_division` parameter to control this behavior.\n",
            "  _warn_prf(average, modifier, msg_start, len(result))\n",
            "/home/ubuntu/venv/pytorch/lib/python3.6/site-packages/sklearn/metrics/_classification.py:1301: UserWarning: Note that pos_label (set to 0) is ignored when average != 'binary' (got 'macro'). You may use labels=[pos_label] to specify a single positive class.\n",
            "  % (pos_label, average), UserWarning)\n"
          ]
        }
      ],
      "source": [
        "fold_recalls = []\n",
        "fold_f1s = []\n",
        "fold_accuracies = []\n",
        "fold_specificities = []\n",
        "\n",
        "for fold_idx in range(10):\n",
        "    clf = KNeighborsClassifier()\n",
        "    train_df = pd.read_csv(f'/home/ubuntu/store/dermx-folds/fold_{fold_idx}/metadata_fold_{fold_idx}_train.csv')\n",
        "    test_df = pd.read_csv(f'/home/ubuntu/store/dermx-folds/fold_{fold_idx}/metadata_fold_{fold_idx}_test.csv')\n",
        "    \n",
        "    x_train = cx_df.loc[train_df['current_filename']]\n",
        "    y_train = pd.get_dummies(train_df['diagnosis'])\n",
        "    x_test = cx_df.loc[test_df['current_filename']]\n",
        "    y_test = pd.get_dummies(test_df['diagnosis'])\n",
        "    clf.fit(x_train, y_train)\n",
        "    y_hat_test = clf.predict(x_test)\n",
        "    \n",
        "    report = classification_report(y_test, y_hat_test, output_dict=True)\n",
        "    fold_recalls.append(report['macro avg']['recall'])\n",
        "    fold_f1s.append(report['macro avg']['f1-score'])\n",
        "    fold_accuracies.append(accuracy_score(y_test, y_hat_test))\n",
        "    fold_specificities.append(recall_score(y_test, y_hat_test, pos_label=0, average='macro'))"
      ]
    },
    {
      "cell_type": "code",
      "execution_count": null,
      "id": "fe1870a7",
      "metadata": {
        "id": "fe1870a7",
        "outputId": "2a0f2c8d-6b5e-4db1-84e7-faded7bd9b6c"
      },
      "outputs": [
        {
          "name": "stdout",
          "output_type": "stream",
          "text": [
            "0.8 \\pm 0.04\n"
          ]
        }
      ],
      "source": [
        "print(f'{np.round(np.array(fold_recalls).mean(), 2)} \\pm {np.round(np.array(fold_recalls).std(), 2)}')"
      ]
    },
    {
      "cell_type": "code",
      "execution_count": null,
      "id": "a81db02a",
      "metadata": {
        "id": "a81db02a",
        "outputId": "37c97ed4-4ba4-4c66-d39d-fb678bc90a5f"
      },
      "outputs": [
        {
          "name": "stdout",
          "output_type": "stream",
          "text": [
            "0.8 \\pm 0.05\n"
          ]
        }
      ],
      "source": [
        "print(f'{np.round(np.array(fold_f1s).mean(), 2)} \\pm {np.round(np.array(fold_f1s).std(), 2)}')"
      ]
    },
    {
      "cell_type": "code",
      "execution_count": null,
      "id": "4897c070",
      "metadata": {
        "id": "4897c070",
        "outputId": "593c43bf-caac-4508-92ec-ae2ac311b4fe"
      },
      "outputs": [
        {
          "name": "stdout",
          "output_type": "stream",
          "text": [
            "0.8 \\pm 0.04\n"
          ]
        }
      ],
      "source": [
        "print(f'{np.round(np.array(fold_specificities).mean(), 2)} \\pm {np.round(np.array(fold_specificities).std(), 2)}')"
      ]
    },
    {
      "cell_type": "code",
      "execution_count": null,
      "id": "b660db83",
      "metadata": {
        "id": "b660db83",
        "outputId": "ff3b0d4c-8e07-44b6-f8d9-57baa3be4400"
      },
      "outputs": [
        {
          "name": "stdout",
          "output_type": "stream",
          "text": [
            "0.8 \\pm 0.05\n"
          ]
        }
      ],
      "source": [
        "print(f'{np.round(np.array(fold_accuracies).mean(), 2)} \\pm {np.round(np.array(fold_accuracies).std(), 2)}')"
      ]
    },
    {
      "cell_type": "markdown",
      "id": "1a1a3d5a",
      "metadata": {
        "id": "1a1a3d5a"
      },
      "source": [
        "## Naive Bayes"
      ]
    },
    {
      "cell_type": "code",
      "execution_count": null,
      "id": "738a5265",
      "metadata": {
        "id": "738a5265"
      },
      "outputs": [],
      "source": [
        "from sklearn.naive_bayes import CategoricalNB"
      ]
    },
    {
      "cell_type": "code",
      "execution_count": null,
      "id": "cb80c4be",
      "metadata": {
        "collapsed": true,
        "id": "cb80c4be",
        "outputId": "2498b1ce-9692-4687-a0e7-f95f900569dd"
      },
      "outputs": [
        {
          "name": "stderr",
          "output_type": "stream",
          "text": [
            "/home/ubuntu/venv/pytorch/lib/python3.6/site-packages/sklearn/metrics/_classification.py:1301: UserWarning: Note that pos_label (set to 0) is ignored when average != 'binary' (got 'macro'). You may use labels=[pos_label] to specify a single positive class.\n",
            "  % (pos_label, average), UserWarning)\n",
            "/home/ubuntu/venv/pytorch/lib/python3.6/site-packages/sklearn/metrics/_classification.py:1301: UserWarning: Note that pos_label (set to 0) is ignored when average != 'binary' (got 'macro'). You may use labels=[pos_label] to specify a single positive class.\n",
            "  % (pos_label, average), UserWarning)\n",
            "/home/ubuntu/venv/pytorch/lib/python3.6/site-packages/sklearn/metrics/_classification.py:1301: UserWarning: Note that pos_label (set to 0) is ignored when average != 'binary' (got 'macro'). You may use labels=[pos_label] to specify a single positive class.\n",
            "  % (pos_label, average), UserWarning)\n",
            "/home/ubuntu/venv/pytorch/lib/python3.6/site-packages/sklearn/metrics/_classification.py:1301: UserWarning: Note that pos_label (set to 0) is ignored when average != 'binary' (got 'macro'). You may use labels=[pos_label] to specify a single positive class.\n",
            "  % (pos_label, average), UserWarning)\n",
            "/home/ubuntu/venv/pytorch/lib/python3.6/site-packages/sklearn/metrics/_classification.py:1301: UserWarning: Note that pos_label (set to 0) is ignored when average != 'binary' (got 'macro'). You may use labels=[pos_label] to specify a single positive class.\n",
            "  % (pos_label, average), UserWarning)\n",
            "/home/ubuntu/venv/pytorch/lib/python3.6/site-packages/sklearn/metrics/_classification.py:1301: UserWarning: Note that pos_label (set to 0) is ignored when average != 'binary' (got 'macro'). You may use labels=[pos_label] to specify a single positive class.\n",
            "  % (pos_label, average), UserWarning)\n",
            "/home/ubuntu/venv/pytorch/lib/python3.6/site-packages/sklearn/metrics/_classification.py:1301: UserWarning: Note that pos_label (set to 0) is ignored when average != 'binary' (got 'macro'). You may use labels=[pos_label] to specify a single positive class.\n",
            "  % (pos_label, average), UserWarning)\n",
            "/home/ubuntu/venv/pytorch/lib/python3.6/site-packages/sklearn/metrics/_classification.py:1301: UserWarning: Note that pos_label (set to 0) is ignored when average != 'binary' (got 'macro'). You may use labels=[pos_label] to specify a single positive class.\n",
            "  % (pos_label, average), UserWarning)\n",
            "/home/ubuntu/venv/pytorch/lib/python3.6/site-packages/sklearn/metrics/_classification.py:1301: UserWarning: Note that pos_label (set to 0) is ignored when average != 'binary' (got 'macro'). You may use labels=[pos_label] to specify a single positive class.\n",
            "  % (pos_label, average), UserWarning)\n",
            "/home/ubuntu/venv/pytorch/lib/python3.6/site-packages/sklearn/metrics/_classification.py:1301: UserWarning: Note that pos_label (set to 0) is ignored when average != 'binary' (got 'macro'). You may use labels=[pos_label] to specify a single positive class.\n",
            "  % (pos_label, average), UserWarning)\n"
          ]
        }
      ],
      "source": [
        "fold_recalls = []\n",
        "fold_f1s = []\n",
        "fold_accuracies = []\n",
        "fold_specificities = []\n",
        "\n",
        "for fold_idx in range(10):\n",
        "    clf = CategoricalNB()\n",
        "    train_df = pd.read_csv(f'/home/ubuntu/store/dermx-folds/fold_{fold_idx}/metadata_fold_{fold_idx}_train.csv')\n",
        "    test_df = pd.read_csv(f'/home/ubuntu/store/dermx-folds/fold_{fold_idx}/metadata_fold_{fold_idx}_test.csv')\n",
        "    \n",
        "    x_train = cx_df.loc[train_df['current_filename']]\n",
        "    y_train = train_df['diagnosis']\n",
        "    x_test = cx_df.loc[test_df['current_filename']]\n",
        "    y_test = test_df['diagnosis']\n",
        "    clf.fit(x_train, y_train)\n",
        "    y_hat_test = clf.predict(x_test)\n",
        "    \n",
        "    report = classification_report(y_test, y_hat_test, output_dict=True)\n",
        "    fold_recalls.append(report['macro avg']['recall'])\n",
        "    fold_f1s.append(report['macro avg']['f1-score'])\n",
        "    fold_accuracies.append(accuracy_score(y_test, y_hat_test))\n",
        "    fold_specificities.append(recall_score(y_test, y_hat_test, pos_label=0, average='macro'))"
      ]
    },
    {
      "cell_type": "code",
      "execution_count": null,
      "id": "38f39a1b",
      "metadata": {
        "id": "38f39a1b",
        "outputId": "19a94d9b-d3af-4f47-f50e-f860e9f50bfc"
      },
      "outputs": [
        {
          "name": "stdout",
          "output_type": "stream",
          "text": [
            "0.86 \\pm 0.05\n"
          ]
        }
      ],
      "source": [
        "print(f'{np.round(np.array(fold_recalls).mean(), 2)} \\pm {np.round(np.array(fold_recalls).std(), 2)}')"
      ]
    },
    {
      "cell_type": "code",
      "execution_count": null,
      "id": "5f5485b2",
      "metadata": {
        "id": "5f5485b2",
        "outputId": "6fd56ad2-8115-4aab-def9-67cc31371403"
      },
      "outputs": [
        {
          "name": "stdout",
          "output_type": "stream",
          "text": [
            "0.86 \\pm 0.05\n"
          ]
        }
      ],
      "source": [
        "print(f'{np.round(np.array(fold_f1s).mean(), 2)} \\pm {np.round(np.array(fold_f1s).std(), 2)}')"
      ]
    },
    {
      "cell_type": "code",
      "execution_count": null,
      "id": "0843d1b3",
      "metadata": {
        "id": "0843d1b3",
        "outputId": "1bca38c2-2a00-4f02-85d1-0b912e15fd1c"
      },
      "outputs": [
        {
          "name": "stdout",
          "output_type": "stream",
          "text": [
            "0.86 \\pm 0.05\n"
          ]
        }
      ],
      "source": [
        "print(f'{np.round(np.array(fold_specificities).mean(), 2)} \\pm {np.round(np.array(fold_specificities).std(), 2)}')"
      ]
    },
    {
      "cell_type": "code",
      "execution_count": null,
      "id": "94102ef4",
      "metadata": {
        "id": "94102ef4",
        "outputId": "c504e8c9-1080-4ccf-a65a-456d20d769e2"
      },
      "outputs": [
        {
          "name": "stdout",
          "output_type": "stream",
          "text": [
            "0.86 \\pm 0.05\n"
          ]
        }
      ],
      "source": [
        "print(f'{np.round(np.array(fold_accuracies).mean(), 2)} \\pm {np.round(np.array(fold_accuracies).std(), 2)}')"
      ]
    }
  ],
  "metadata": {
    "kernelspec": {
      "display_name": "pytorch",
      "language": "python",
      "name": "pytorch"
    },
    "language_info": {
      "codemirror_mode": {
        "name": "ipython",
        "version": 3
      },
      "file_extension": ".py",
      "mimetype": "text/x-python",
      "name": "python",
      "nbconvert_exporter": "python",
      "pygments_lexer": "ipython3",
      "version": "3.6.9"
    },
    "colab": {
      "name": "interpretable_models.ipynb",
      "provenance": []
    }
  },
  "nbformat": 4,
  "nbformat_minor": 5
}